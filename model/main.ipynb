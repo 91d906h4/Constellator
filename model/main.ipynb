{
 "cells": [
  {
   "cell_type": "code",
   "execution_count": 1,
   "metadata": {},
   "outputs": [
    {
     "name": "stderr",
     "output_type": "stream",
     "text": [
      "c:\\Users\\User\\anaconda3\\envs\\pytorch\\lib\\site-packages\\tqdm\\auto.py:21: TqdmWarning: IProgress not found. Please update jupyter and ipywidgets. See https://ipywidgets.readthedocs.io/en/stable/user_install.html\n",
      "  from .autonotebook import tqdm as notebook_tqdm\n"
     ]
    }
   ],
   "source": [
    "import torch\n",
    "import jieba\n",
    "import random\n",
    "\n",
    "import numpy as np\n",
    "\n",
    "from data import Data\n",
    "from torch import nn, optim\n",
    "from datetime import datetime\n",
    "from torchsummary import summary\n",
    "from torch.utils.data import DataLoader, Dataset"
   ]
  },
  {
   "cell_type": "code",
   "execution_count": 2,
   "metadata": {},
   "outputs": [],
   "source": [
    "# Set random seed.\n",
    "random_seed = 0\n",
    "\n",
    "random.seed(random_seed)\n",
    "np.random.seed(random_seed)\n",
    "torch.manual_seed(random_seed)\n",
    "torch.cuda.manual_seed(random_seed)\n",
    "torch.backends.cudnn.benchmark = False\n",
    "torch.backends.cudnn.deterministic = True"
   ]
  },
  {
   "cell_type": "code",
   "execution_count": 3,
   "metadata": {},
   "outputs": [
    {
     "name": "stdout",
     "output_type": "stream",
     "text": [
      "cuda:0\n"
     ]
    }
   ],
   "source": [
    "device = \"cpu\"\n",
    "\n",
    "if torch.cuda.is_available():\n",
    "    device = \"cuda:0\"\n",
    "\n",
    "print(device)"
   ]
  },
  {
   "cell_type": "code",
   "execution_count": 4,
   "metadata": {},
   "outputs": [],
   "source": [
    "classes = {\n",
    "    0: \"牡羊\",\n",
    "    1: \"金牛\",\n",
    "    2: \"雙子\",\n",
    "    3: \"巨蠍\",\n",
    "    4: \"獅子\",\n",
    "    5: \"處女\",\n",
    "    6: \"天秤\",\n",
    "    7: \"天蠍\",\n",
    "    8: \"射手\",\n",
    "    9: \"魔羯\",\n",
    "    10: \"水瓶\",\n",
    "    11: \"雙魚\",\n",
    "}"
   ]
  },
  {
   "cell_type": "code",
   "execution_count": 5,
   "metadata": {},
   "outputs": [
    {
     "name": "stderr",
     "output_type": "stream",
     "text": [
      "Building prefix dict from the default dictionary ...\n",
      "Loading model from cache C:\\Users\\User\\AppData\\Local\\Temp\\jieba.cache\n"
     ]
    },
    {
     "name": "stdout",
     "output_type": "stream",
     "text": [
      "Cleaning completed.\n",
      "ToDataset completed.\n",
      "Argumantation completed.\n"
     ]
    },
    {
     "name": "stderr",
     "output_type": "stream",
     "text": [
      "Loading model cost 0.742 seconds.\n",
      "Prefix dict has been built successfully.\n"
     ]
    },
    {
     "name": "stdout",
     "output_type": "stream",
     "text": [
      "Tokenlization completed.\n",
      "Padding completed.\n",
      "Token2id completed.\n",
      "Process completed.\n"
     ]
    }
   ],
   "source": [
    "raw = {i: open(f\"./dataset/{classes[i]}.txt\", encoding=\"utf-8\").read() for i in range(12)}\n",
    "data = Data(data=raw, padding_length=32)\n",
    "\n",
    "train_raw = data.get(\"data\")"
   ]
  },
  {
   "cell_type": "code",
   "execution_count": 6,
   "metadata": {},
   "outputs": [
    {
     "data": {
      "text/plain": [
       "6327"
      ]
     },
     "execution_count": 6,
     "metadata": {},
     "output_type": "execute_result"
    }
   ],
   "source": [
    "len(train_raw)"
   ]
  },
  {
   "cell_type": "code",
   "execution_count": 7,
   "metadata": {},
   "outputs": [
    {
     "data": {
      "text/plain": [
       "[[480,\n",
       "  5416,\n",
       "  2464,\n",
       "  979,\n",
       "  1876,\n",
       "  2320,\n",
       "  3810,\n",
       "  1178,\n",
       "  1213,\n",
       "  3695,\n",
       "  516,\n",
       "  516,\n",
       "  516,\n",
       "  516,\n",
       "  516,\n",
       "  516,\n",
       "  516,\n",
       "  516,\n",
       "  516,\n",
       "  516,\n",
       "  516,\n",
       "  516,\n",
       "  516,\n",
       "  516,\n",
       "  516,\n",
       "  516,\n",
       "  516,\n",
       "  516,\n",
       "  516,\n",
       "  516,\n",
       "  516,\n",
       "  516],\n",
       " [1, 0, 0, 0, 0, 0, 0, 0, 0, 0, 0, 0]]"
      ]
     },
     "execution_count": 7,
     "metadata": {},
     "output_type": "execute_result"
    }
   ],
   "source": [
    "train_raw[0]"
   ]
  },
  {
   "cell_type": "code",
   "execution_count": 8,
   "metadata": {},
   "outputs": [],
   "source": [
    "class CreateDataset(Dataset):\n",
    "    def __init__(self, data: list, label: list):\n",
    "        self.data = data\n",
    "        self.label = label\n",
    "\n",
    "    def __getitem__(self, index):\n",
    "        return torch.tensor(self.data[index]), torch.tensor(self.label[index], dtype=torch.float)\n",
    "\n",
    "    def __len__(self):\n",
    "        return len(self.label)"
   ]
  },
  {
   "cell_type": "code",
   "execution_count": 9,
   "metadata": {},
   "outputs": [],
   "source": [
    "d, l = [], []\n",
    "\n",
    "for i, j in train_raw:\n",
    "    d.append(i); l.append(j)\n",
    "\n",
    "train_ds = CreateDataset(d, l)"
   ]
  },
  {
   "cell_type": "code",
   "execution_count": 10,
   "metadata": {},
   "outputs": [
    {
     "data": {
      "text/plain": [
       "(tensor([ 480, 5416, 2464,  979, 1876, 2320, 3810, 1178, 1213, 3695,  516,  516,\n",
       "          516,  516,  516,  516,  516,  516,  516,  516,  516,  516,  516,  516,\n",
       "          516,  516,  516,  516,  516,  516,  516,  516]),\n",
       " tensor([1., 0., 0., 0., 0., 0., 0., 0., 0., 0., 0., 0.]))"
      ]
     },
     "execution_count": 10,
     "metadata": {},
     "output_type": "execute_result"
    }
   ],
   "source": [
    "train_ds[1]"
   ]
  },
  {
   "cell_type": "code",
   "execution_count": 11,
   "metadata": {},
   "outputs": [],
   "source": [
    "train_dl = DataLoader(train_ds, batch_size=8, shuffle=True)"
   ]
  },
  {
   "cell_type": "code",
   "execution_count": 12,
   "metadata": {},
   "outputs": [],
   "source": [
    "class Model(nn.Module):\n",
    "    def __init__(self) -> None:\n",
    "        super().__init__()\n",
    "        self.embedding = nn.Embedding(data.get(\"token_len\"), 64)\n",
    "        self.lstm = nn.LSTM(input_size=64, hidden_size=256, num_layers=4, dropout=0.5, batch_first=True, bidirectional=True)\n",
    "        self.linear = nn.Linear(16384, 12)\n",
    "\n",
    "    def forward(self, x: torch.Tensor):\n",
    "        x = self.embedding(x)\n",
    "        x, _ = self.lstm(x)\n",
    "\n",
    "        x = x.reshape(x.size()[0], -1)\n",
    "\n",
    "        x = self.linear(x)\n",
    "\n",
    "        return x"
   ]
  },
  {
   "cell_type": "code",
   "execution_count": 13,
   "metadata": {},
   "outputs": [],
   "source": [
    "model = Model().to(device=device)"
   ]
  },
  {
   "cell_type": "code",
   "execution_count": 14,
   "metadata": {},
   "outputs": [],
   "source": [
    "epochs = 30\n",
    "optimizer = optim.SGD(model.parameters(), lr=0.1)\n",
    "loss = nn.CrossEntropyLoss()"
   ]
  },
  {
   "cell_type": "code",
   "execution_count": 15,
   "metadata": {},
   "outputs": [],
   "source": [
    "# Traning history data.\n",
    "train_accuracy_h = []\n",
    "train_loss_h = []\n",
    "validate_accuracy_h = []"
   ]
  },
  {
   "cell_type": "code",
   "execution_count": 16,
   "metadata": {},
   "outputs": [],
   "source": [
    "def train(epochs: int, model: nn.Module, optimizer: optim.Optimizer, loss: nn.CrossEntropyLoss, dataloader: DataLoader):\n",
    "    for epoch in range(epochs):\n",
    "        # Set model to training mode.\n",
    "        model.train()\n",
    "\n",
    "        train_accuracy = 0\n",
    "        train_loss = 0\n",
    "        train_total = 0\n",
    "        train_process = 0\n",
    "        train_time = datetime.now().timestamp()\n",
    "\n",
    "        for texts, labels in dataloader:\n",
    "            texts: torch.Tensor\n",
    "            labels: torch.Tensor\n",
    "\n",
    "            texts = texts.to(device)\n",
    "            labels = labels.to(device)\n",
    "\n",
    "            outputs: torch.Tensor = model(texts)\n",
    "            losses: torch.Tensor = loss(outputs, labels)\n",
    "\n",
    "            # optimizer.zero_grad()\n",
    "            for param in model.parameters(): param.grad = None\n",
    "\n",
    "            # Backpropagation.\n",
    "            losses.backward()\n",
    "\n",
    "            # Update parameters.\n",
    "            optimizer.step()\n",
    "\n",
    "            _, predict = torch.max(outputs, 1)\n",
    "            train_accuracy += sum([labels[i][predict[i]] == 1 for i in range(len(predict))])\n",
    "            train_loss += losses.item()\n",
    "            train_total += labels.shape[0]\n",
    "            train_process += 1\n",
    "\n",
    "            print(\n",
    "                f\"{datetime.now().strftime('%Y/%m/%d %H:%M:%S')} \"\n",
    "                f\"Epoch: {epoch:03d} \"\n",
    "                f\"Time: {datetime.now().timestamp() - train_time:.2f} \"\n",
    "                f\"Process: {train_process / len(dataloader) * 100:.2f}% \"\n",
    "                f\"Accuracy: {train_accuracy / train_total * 100:.2f}% \"\n",
    "                f\"Loss: {train_loss:.3f}\",\n",
    "                end=\"\\r\"\n",
    "            )\n",
    "\n",
    "        train_accuracy_h.append(train_accuracy / train_total * 100)\n",
    "        train_loss_h.append(train_loss)\n",
    "\n",
    "        print()\n",
    "\n",
    "        # Early stop.\n",
    "        if train_accuracy / train_total > 0.99:\n",
    "            print(\"Early stopped.\")\n",
    "            break"
   ]
  },
  {
   "cell_type": "code",
   "execution_count": 17,
   "metadata": {},
   "outputs": [
    {
     "name": "stdout",
     "output_type": "stream",
     "text": [
      "2024/03/31 19:28:49 Epoch: 000 Time: 18.58 Process: 100.00% Accuracy: 10.89% Loss: 1961.231\n",
      "2024/03/31 19:29:06 Epoch: 001 Time: 17.25 Process: 100.00% Accuracy: 13.39% Loss: 1938.162\n",
      "2024/03/31 19:29:23 Epoch: 002 Time: 17.07 Process: 100.00% Accuracy: 20.10% Loss: 1832.530\n",
      "2024/03/31 19:29:40 Epoch: 003 Time: 17.05 Process: 100.00% Accuracy: 29.00% Loss: 1658.829\n",
      "2024/03/31 19:29:57 Epoch: 004 Time: 17.40 Process: 100.00% Accuracy: 37.19% Loss: 1477.256\n",
      "2024/03/31 19:30:15 Epoch: 005 Time: 17.27 Process: 100.00% Accuracy: 47.32% Loss: 1271.085\n",
      "2024/03/31 19:30:32 Epoch: 006 Time: 17.00 Process: 100.00% Accuracy: 57.74% Loss: 1031.924\n",
      "2024/03/31 19:30:49 Epoch: 007 Time: 17.18 Process: 100.00% Accuracy: 69.42% Loss: 766.134\n",
      "2024/03/31 19:31:06 Epoch: 008 Time: 17.57 Process: 100.00% Accuracy: 78.55% Loss: 525.340\n",
      "2024/03/31 19:31:24 Epoch: 009 Time: 17.51 Process: 100.00% Accuracy: 85.66% Loss: 351.213\n",
      "2024/03/31 19:31:41 Epoch: 010 Time: 16.89 Process: 100.00% Accuracy: 91.48% Loss: 222.265\n",
      "2024/03/31 19:31:59 Epoch: 011 Time: 17.91 Process: 100.00% Accuracy: 94.56% Loss: 137.615\n",
      "2024/03/31 19:32:16 Epoch: 012 Time: 17.15 Process: 100.00% Accuracy: 97.03% Loss: 84.188\n",
      "2024/03/31 19:32:33 Epoch: 013 Time: 16.77 Process: 100.00% Accuracy: 98.97% Loss: 31.993\n",
      "2024/03/31 19:32:50 Epoch: 014 Time: 17.50 Process: 100.00% Accuracy: 99.08% Loss: 29.241\n",
      "Early stopped.\n"
     ]
    }
   ],
   "source": [
    "train(epochs=epochs, model=model, optimizer=optimizer, loss=loss, dataloader=train_dl)"
   ]
  },
  {
   "cell_type": "code",
   "execution_count": 18,
   "metadata": {},
   "outputs": [
    {
     "name": "stdout",
     "output_type": "stream",
     "text": [
      "tensor([[2863, 4233, 1383, 4102, 5416, 1727, 2169, 1178, 2825, 1090, 5242, 1257,\n",
      "          987,  923, 1876, 5300, 2549, 1876, 3754, 2937, 2123, 3695,  516,  516,\n",
      "          516,  516,  516,  516,  516,  516,  516,  516],\n",
      "        [3239, 4395, 2067, 2940, 2916, 2453, 2343, 1436, 5242, 2987, 2538,  266,\n",
      "         3484,  162, 1653,  492, 1727,  538, 3695,  516,  516,  516,  516,  516,\n",
      "          516,  516,  516,  516,  516,  516,  516,  516],\n",
      "        [4306, 5242, 2863, 4233, 5162, 1682, 2904, 2323, 2942,  425, 5242, 3484,\n",
      "          427, 4207, 1178, 4999, 2807, 5162, 1682, 2439, 2942, 4013,  355, 1178,\n",
      "          778, 3695,  516,  516,  516,  516,  516,  516],\n",
      "        [3994, 2863, 4233,  767, 4272, 2942,   26, 2807, 5242, 5162, 1682, 3452,\n",
      "         3777, 1141, 1178, 2081, 5242, 2497, 1314, 1178,  923, 1885, 5107, 2453,\n",
      "         1106, 1697, 3695,  516,  516,  516,  516,  516],\n",
      "        [1584, 3827, 1876,  283, 1876,  972, 1876, 3960, 1876,  257,   33,  611,\n",
      "         1157, 1876, 3369, 1876,  659, 1876, 1427, 5295, 5193, 3381, 3695,  516,\n",
      "          516,  516,  516,  516,  516,  516,  516,  516],\n",
      "        [3239, 4395, 3889, 4102, 5331, 4490, 5242,  266, 1682, 2640, 3010, 3336,\n",
      "         2453, 3385, 1178, 1228, 2453,  646, 5242, 3537, 2467, 4682, 1496, 4990,\n",
      "         2610, 4860, 3695,  516,  516,  516,  516,  516],\n",
      "        [ 800, 5105,  278, 5123, 3077, 2727, 1448, 1124, 2612, 1991, 3695,  516,\n",
      "          516,  516,  516,  516,  516,  516,  516,  516,  516,  516,  516,  516,\n",
      "          516,  516,  516,  516,  516,  516,  516,  516],\n",
      "        [ 266, 3544, 3628, 2453, 4007, 1178,  162, 1043, 5242, 3537, 1617,  611,\n",
      "         1655, 1603, 3320, 1178,  893, 3695,  516,  516,  516,  516,  516,  516,\n",
      "          516,  516,  516,  516,  516,  516,  516,  516]])\n",
      "tensor([[-11.8994,  -1.7819,   1.6012,  -7.6562,  -0.7483,  23.0331,  -1.8728,\n",
      "         -10.9929,  -2.8604,   3.5833,   1.4027,   7.9507],\n",
      "        [ -4.8089,  -6.2662,   2.2205,  -1.0176, -10.6207,  -5.9380,  19.8574,\n",
      "          -1.4701,  -2.9100,   5.9679,  10.3932,  -5.4539],\n",
      "        [ -8.1588,   6.3977,  18.2953,  -0.2993,  -2.6072,  -5.9832,   5.6800,\n",
      "         -11.8610,  -4.6960,   1.3269,   8.0955,  -6.1767],\n",
      "        [  5.5905,  -1.0208,  -4.7048,  -3.3342,  -3.8925,  -2.5339,   6.0333,\n",
      "          11.8076,  -2.3570,  -1.5026,   2.5315,  -6.4887],\n",
      "        [ 13.5533,   5.3348,  -9.0950,  -2.3238,   1.7703,  -6.7672,  -6.9492,\n",
      "           3.9095,   2.7739,  -0.4156,   0.8405,  -2.4069],\n",
      "        [ -6.2455,   7.8972,  -6.9828,  20.7887,  -8.5418,  -5.0340,   2.7745,\n",
      "          -6.2721,  -0.3970,   1.8970,  -8.5132,   8.9839],\n",
      "        [ -4.5548,  -0.1322,  -8.1477,  -2.7791,  -1.4619,   2.6454,   4.1691,\n",
      "          -6.0490,  -0.6807,   2.8411,  15.0599,  -0.9363],\n",
      "        [ -6.4598,   0.9641,   1.7757,  -3.1392,  -4.1156,  -6.4413,  17.0329,\n",
      "           0.3778,  -1.8017,  -0.2335,  -0.0481,   2.2706]], device='cuda:0',\n",
      "       grad_fn=<AddmmBackward0>)\n",
      "tensor([[0., 0., 0., 0., 0., 1., 0., 0., 0., 0., 0., 0.],\n",
      "        [0., 0., 0., 0., 0., 0., 1., 0., 0., 0., 0., 0.],\n",
      "        [0., 0., 1., 0., 0., 0., 0., 0., 0., 0., 0., 0.],\n",
      "        [0., 0., 0., 0., 0., 0., 0., 1., 0., 0., 0., 0.],\n",
      "        [1., 0., 0., 0., 0., 0., 0., 0., 0., 0., 0., 0.],\n",
      "        [0., 0., 0., 1., 0., 0., 0., 0., 0., 0., 0., 0.],\n",
      "        [0., 0., 0., 0., 0., 0., 0., 0., 0., 0., 1., 0.],\n",
      "        [0., 0., 0., 0., 0., 0., 1., 0., 0., 0., 0., 0.]])\n"
     ]
    }
   ],
   "source": [
    "for i, j in train_dl:\n",
    "    print(i)\n",
    "    print(model(i.to(device)))\n",
    "    print(j)\n",
    "    break"
   ]
  },
  {
   "cell_type": "code",
   "execution_count": 19,
   "metadata": {},
   "outputs": [
    {
     "name": "stdout",
     "output_type": "stream",
     "text": [
      "[3379, 516, 2696, 516, 3522, 516, 924, 516, 2714, 516, 516, 516, 516, 516, 516, 516, 516, 516, 516, 516, 516, 516, 516, 516, 516, 516, 516, 516, 516, 516, 516, 516]\n"
     ]
    }
   ],
   "source": [
    "test = \"敏感;同情心;想像力;迷惘;柔軟\"\n",
    "temp = jieba.lcut(test)\n",
    "temp = temp + [\"<PAD>\"] * (32 - len(temp))\n",
    "test = [data.w2i[x] if x in data.w2i else data.w2i[\"<PAD>\"] for x in temp][:32]\n",
    "print(test)"
   ]
  },
  {
   "cell_type": "code",
   "execution_count": 20,
   "metadata": {},
   "outputs": [],
   "source": [
    "test = torch.tensor([test])"
   ]
  },
  {
   "cell_type": "code",
   "execution_count": 21,
   "metadata": {},
   "outputs": [
    {
     "data": {
      "text/plain": [
       "Model(\n",
       "  (embedding): Embedding(5470, 64)\n",
       "  (lstm): LSTM(64, 256, num_layers=4, batch_first=True, dropout=0.5, bidirectional=True)\n",
       "  (linear): Linear(in_features=16384, out_features=12, bias=True)\n",
       ")"
      ]
     },
     "execution_count": 21,
     "metadata": {},
     "output_type": "execute_result"
    }
   ],
   "source": [
    "model.eval()"
   ]
  },
  {
   "cell_type": "code",
   "execution_count": 22,
   "metadata": {},
   "outputs": [
    {
     "name": "stdout",
     "output_type": "stream",
     "text": [
      "[0.5245139598846436, -0.3749854564666748, -2.9833486080169678, 2.048403024673462, -2.363184928894043, -4.710066795349121, 0.9323816895484924, 3.1206002235412598, 1.6376508474349976, 1.3567886352539062, -1.8196254968643188, 2.7161996364593506]\n"
     ]
    }
   ],
   "source": [
    "result = model(test.to(device)).tolist()[0]\n",
    "print(result)"
   ]
  },
  {
   "cell_type": "code",
   "execution_count": 23,
   "metadata": {},
   "outputs": [
    {
     "name": "stdout",
     "output_type": "stream",
     "text": [
      "[0.668, 0.554, 0.221, 0.863, 0.3, 0.0, 0.721, 1.0, 0.811, 0.775, 0.369, 0.948]\n"
     ]
    }
   ],
   "source": [
    "# Normolization\n",
    "result = [x - min(result) for x in result]\n",
    "result = [x / max(result) for x in result]\n",
    "result = [round(x, 3) for x in result]\n",
    "\n",
    "print(result)"
   ]
  },
  {
   "cell_type": "code",
   "execution_count": 24,
   "metadata": {},
   "outputs": [
    {
     "data": {
      "text/plain": [
       "'天蠍'"
      ]
     },
     "execution_count": 24,
     "metadata": {},
     "output_type": "execute_result"
    }
   ],
   "source": [
    "classes[int(torch.argmax(torch.tensor(result)))]"
   ]
  },
  {
   "cell_type": "code",
   "execution_count": 25,
   "metadata": {},
   "outputs": [
    {
     "data": {
      "text/plain": [
       "{0: '牡羊',\n",
       " 1: '金牛',\n",
       " 2: '雙子',\n",
       " 3: '巨蠍',\n",
       " 4: '獅子',\n",
       " 5: '處女',\n",
       " 6: '天秤',\n",
       " 7: '天蠍',\n",
       " 8: '射手',\n",
       " 9: '魔羯',\n",
       " 10: '水瓶',\n",
       " 11: '雙魚'}"
      ]
     },
     "execution_count": 25,
     "metadata": {},
     "output_type": "execute_result"
    }
   ],
   "source": [
    "classes"
   ]
  },
  {
   "cell_type": "code",
   "execution_count": 26,
   "metadata": {},
   "outputs": [],
   "source": [
    "import matplotlib.pyplot as plt\n",
    "import numpy as np"
   ]
  },
  {
   "cell_type": "code",
   "execution_count": 27,
   "metadata": {},
   "outputs": [
    {
     "data": {
      "image/png": "[encoded data removed]",
      "text/plain": [
       "<Figure size 500x500 with 1 Axes>"
      ]
     },
     "metadata": {},
     "output_type": "display_data"
    }
   ],
   "source": [
    "angles_A = np.linspace(start=0, stop=2*np.pi, num=len(result)+1, endpoint=True)\n",
    "values_A = np.concatenate((result, [result[0]]))\n",
    "\n",
    "fig, ax = plt.subplots(1, 1, figsize=(5, 5), subplot_kw={'projection': 'polar'})\n",
    "ax.plot(angles_A, values_A, 'o-', color=\"blue\", label=\"A\")\n",
    "\n",
    "ax.fill(angles_A, values_A, alpha=0.3, color=\"blue\")\n",
    "ax.set_thetagrids(angles_A[:-1] * 180 / np.pi, range(12), fontsize=15)\n",
    "ax.set_theta_zero_location('N')"
   ]
  },
  {
   "cell_type": "code",
   "execution_count": 28,
   "metadata": {},
   "outputs": [
    {
     "name": "stderr",
     "output_type": "stream",
     "text": [
      "c:\\Users\\User\\anaconda3\\envs\\pytorch\\lib\\site-packages\\torch\\onnx\\symbolic_opset9.py:4315: UserWarning: Exporting a model to ONNX with a batch_size other than 1, with a variable length with LSTM can cause an error when running the ONNX model with a different batch size. Make sure to save the model with a batch size of 1, or define the initial states (h0/c0) as inputs of the model. \n",
      "  warnings.warn(\n",
      "c:\\Users\\User\\anaconda3\\envs\\pytorch\\lib\\site-packages\\torch\\onnx\\_internal\\jit_utils.py:258: UserWarning: The shape inference of prim::Constant type is missing, so it may result in wrong shape inference for the exported graph. Please consider adding it in symbolic function. (Triggered internally at C:\\cb\\pytorch_1000000000000\\work\\torch\\csrc\\jit\\passes\\onnx\\shape_type_inference.cpp:1888.)\n",
      "  _C._jit_pass_onnx_node_shape_type_inference(node, params_dict, opset_version)\n",
      "c:\\Users\\User\\anaconda3\\envs\\pytorch\\lib\\site-packages\\torch\\onnx\\utils.py:687: UserWarning: The shape inference of prim::Constant type is missing, so it may result in wrong shape inference for the exported graph. Please consider adding it in symbolic function. (Triggered internally at C:\\cb\\pytorch_1000000000000\\work\\torch\\csrc\\jit\\passes\\onnx\\shape_type_inference.cpp:1888.)\n",
      "  _C._jit_pass_onnx_graph_shape_type_inference(\n",
      "c:\\Users\\User\\anaconda3\\envs\\pytorch\\lib\\site-packages\\torch\\onnx\\utils.py:1178: UserWarning: The shape inference of prim::Constant type is missing, so it may result in wrong shape inference for the exported graph. Please consider adding it in symbolic function. (Triggered internally at C:\\cb\\pytorch_1000000000000\\work\\torch\\csrc\\jit\\passes\\onnx\\shape_type_inference.cpp:1888.)\n",
      "  _C._jit_pass_onnx_graph_shape_type_inference(\n"
     ]
    }
   ],
   "source": [
    "torch.onnx.export(model, test.to(device=device), 'constellator.onnx')"
   ]
  },
  {
   "cell_type": "code",
   "execution_count": 29,
   "metadata": {},
   "outputs": [
    {
     "name": "stdout",
     "output_type": "stream",
     "text": [
      "graph torch_jit (\n",
      "  %input.1[INT64, 1x32]\n",
      ") initializers (\n",
      "  %embedding.weight[FLOAT, 5470x64]\n",
      "  %linear.weight[FLOAT, 12x16384]\n",
      "  %linear.bias[FLOAT, 12]\n",
      "  %onnx::LSTM_718[FLOAT, 2x2048]\n",
      "  %onnx::LSTM_719[FLOAT, 2x1024x64]\n",
      "  %onnx::LSTM_720[FLOAT, 2x1024x256]\n",
      "  %onnx::LSTM_765[FLOAT, 2x2048]\n",
      "  %onnx::LSTM_766[FLOAT, 2x1024x512]\n",
      "  %onnx::LSTM_767[FLOAT, 2x1024x256]\n",
      "  %onnx::LSTM_812[FLOAT, 2x2048]\n",
      "  %onnx::LSTM_813[FLOAT, 2x1024x512]\n",
      "  %onnx::LSTM_814[FLOAT, 2x1024x256]\n",
      "  %onnx::LSTM_859[FLOAT, 2x2048]\n",
      "  %onnx::LSTM_860[FLOAT, 2x1024x512]\n",
      "  %onnx::LSTM_861[FLOAT, 2x1024x256]\n",
      ") {\n",
      "  %/embedding/Gather_output_0 = Gather(%embedding.weight, %input.1)\n",
      "  %/lstm/Transpose_output_0 = Transpose[perm = [1, 0, 2]](%/embedding/Gather_output_0)\n",
      "  %/lstm/Constant_output_0 = Constant[value = <Tensor>]()\n",
      "  %/lstm/Constant_1_output_0 = Constant[value = <Tensor>]()\n",
      "  %/lstm/Shape_output_0 = Shape(%/lstm/Transpose_output_0)\n",
      "  %/lstm/Constant_2_output_0 = Constant[value = <Scalar Tensor []>]()\n",
      "  %/lstm/Gather_output_0 = Gather(%/lstm/Shape_output_0, %/lstm/Constant_2_output_0)\n",
      "  %onnx::Unsqueeze_173 = Constant[value = <Tensor>]()\n",
      "  %onnx::Concat_174 = Unsqueeze(%/lstm/Gather_output_0, %onnx::Unsqueeze_173)\n",
      "  %/lstm/Constant_3_output_0 = Constant[value = <Tensor>]()\n",
      "  %onnx::Concat_723 = Constant[value = <Tensor>]()\n",
      "  %/lstm/Concat_output_0 = Concat[axis = 0](%onnx::Concat_723, %onnx::Concat_174, %/lstm/Constant_3_output_0)\n",
      "  %/lstm/Expand_output_0 = Expand(%/lstm/Constant_output_0, %/lstm/Concat_output_0)\n",
      "  %/lstm/Shape_1_output_0 = Shape(%/lstm/Transpose_output_0)\n",
      "  %/lstm/Constant_4_output_0 = Constant[value = <Scalar Tensor []>]()\n",
      "  %/lstm/Gather_1_output_0 = Gather(%/lstm/Shape_1_output_0, %/lstm/Constant_4_output_0)\n",
      "  %onnx::Unsqueeze_184 = Constant[value = <Tensor>]()\n",
      "  %onnx::Concat_185 = Unsqueeze(%/lstm/Gather_1_output_0, %onnx::Unsqueeze_184)\n",
      "  %/lstm/Constant_5_output_0 = Constant[value = <Tensor>]()\n",
      "  %onnx::Concat_724 = Constant[value = <Tensor>]()\n",
      "  %/lstm/Concat_1_output_0 = Concat[axis = 0](%onnx::Concat_724, %onnx::Concat_185, %/lstm/Constant_5_output_0)\n",
      "  %/lstm/Expand_1_output_0 = Expand(%/lstm/Constant_1_output_0, %/lstm/Concat_1_output_0)\n",
      "  %/lstm/LSTM_output_0, %/lstm/LSTM_output_1, %/lstm/LSTM_output_2 = LSTM[direction = 'bidirectional', hidden_size = 256](%/lstm/Transpose_output_0, %onnx::LSTM_719, %onnx::LSTM_720, %onnx::LSTM_718, %, %/lstm/Expand_output_0, %/lstm/Expand_1_output_0)\n",
      "  %/lstm/Transpose_1_output_0 = Transpose[perm = [0, 2, 1, 3]](%/lstm/LSTM_output_0)\n",
      "  %/lstm/Constant_6_output_0 = Constant[value = <Tensor>]()\n",
      "  %/lstm/Reshape_output_0 = Reshape[allowzero = 0](%/lstm/Transpose_1_output_0, %/lstm/Constant_6_output_0)\n",
      "  %/lstm/Constant_7_output_0 = Constant[value = <Tensor>]()\n",
      "  %/lstm/Constant_8_output_0 = Constant[value = <Tensor>]()\n",
      "  %/lstm/Shape_2_output_0 = Shape(%/lstm/Reshape_output_0)\n",
      "  %/lstm/Constant_9_output_0 = Constant[value = <Scalar Tensor []>]()\n",
      "  %/lstm/Gather_2_output_0 = Gather(%/lstm/Shape_2_output_0, %/lstm/Constant_9_output_0)\n",
      "  %onnx::Unsqueeze_330 = Constant[value = <Tensor>]()\n",
      "  %onnx::Concat_331 = Unsqueeze(%/lstm/Gather_2_output_0, %onnx::Unsqueeze_330)\n",
      "  %/lstm/Constant_10_output_0 = Constant[value = <Tensor>]()\n",
      "  %onnx::Concat_770 = Constant[value = <Tensor>]()\n",
      "  %/lstm/Concat_2_output_0 = Concat[axis = 0](%onnx::Concat_770, %onnx::Concat_331, %/lstm/Constant_10_output_0)\n",
      "  %/lstm/Expand_2_output_0 = Expand(%/lstm/Constant_7_output_0, %/lstm/Concat_2_output_0)\n",
      "  %/lstm/Shape_3_output_0 = Shape(%/lstm/Reshape_output_0)\n",
      "  %/lstm/Constant_11_output_0 = Constant[value = <Scalar Tensor []>]()\n",
      "  %/lstm/Gather_3_output_0 = Gather(%/lstm/Shape_3_output_0, %/lstm/Constant_11_output_0)\n",
      "  %onnx::Unsqueeze_341 = Constant[value = <Tensor>]()\n",
      "  %onnx::Concat_342 = Unsqueeze(%/lstm/Gather_3_output_0, %onnx::Unsqueeze_341)\n",
      "  %/lstm/Constant_12_output_0 = Constant[value = <Tensor>]()\n",
      "  %onnx::Concat_771 = Constant[value = <Tensor>]()\n",
      "  %/lstm/Concat_3_output_0 = Concat[axis = 0](%onnx::Concat_771, %onnx::Concat_342, %/lstm/Constant_12_output_0)\n",
      "  %/lstm/Expand_3_output_0 = Expand(%/lstm/Constant_8_output_0, %/lstm/Concat_3_output_0)\n",
      "  %/lstm/LSTM_1_output_0, %/lstm/LSTM_1_output_1, %/lstm/LSTM_1_output_2 = LSTM[direction = 'bidirectional', hidden_size = 256](%/lstm/Reshape_output_0, %onnx::LSTM_766, %onnx::LSTM_767, %onnx::LSTM_765, %, %/lstm/Expand_2_output_0, %/lstm/Expand_3_output_0)\n",
      "  %/lstm/Transpose_2_output_0 = Transpose[perm = [0, 2, 1, 3]](%/lstm/LSTM_1_output_0)\n",
      "  %/lstm/Constant_13_output_0 = Constant[value = <Tensor>]()\n",
      "  %/lstm/Reshape_1_output_0 = Reshape[allowzero = 0](%/lstm/Transpose_2_output_0, %/lstm/Constant_13_output_0)\n",
      "  %/lstm/Constant_14_output_0 = Constant[value = <Tensor>]()\n",
      "  %/lstm/Constant_15_output_0 = Constant[value = <Tensor>]()\n",
      "  %/lstm/Shape_4_output_0 = Shape(%/lstm/Reshape_1_output_0)\n",
      "  %/lstm/Constant_16_output_0 = Constant[value = <Scalar Tensor []>]()\n",
      "  %/lstm/Gather_4_output_0 = Gather(%/lstm/Shape_4_output_0, %/lstm/Constant_16_output_0)\n",
      "  %onnx::Unsqueeze_487 = Constant[value = <Tensor>]()\n",
      "  %onnx::Concat_488 = Unsqueeze(%/lstm/Gather_4_output_0, %onnx::Unsqueeze_487)\n",
      "  %/lstm/Constant_17_output_0 = Constant[value = <Tensor>]()\n",
      "  %onnx::Concat_817 = Constant[value = <Tensor>]()\n",
      "  %/lstm/Concat_4_output_0 = Concat[axis = 0](%onnx::Concat_817, %onnx::Concat_488, %/lstm/Constant_17_output_0)\n",
      "  %/lstm/Expand_4_output_0 = Expand(%/lstm/Constant_14_output_0, %/lstm/Concat_4_output_0)\n",
      "  %/lstm/Shape_5_output_0 = Shape(%/lstm/Reshape_1_output_0)\n",
      "  %/lstm/Constant_18_output_0 = Constant[value = <Scalar Tensor []>]()\n",
      "  %/lstm/Gather_5_output_0 = Gather(%/lstm/Shape_5_output_0, %/lstm/Constant_18_output_0)\n",
      "  %onnx::Unsqueeze_498 = Constant[value = <Tensor>]()\n",
      "  %onnx::Concat_499 = Unsqueeze(%/lstm/Gather_5_output_0, %onnx::Unsqueeze_498)\n",
      "  %/lstm/Constant_19_output_0 = Constant[value = <Tensor>]()\n",
      "  %onnx::Concat_818 = Constant[value = <Tensor>]()\n",
      "  %/lstm/Concat_5_output_0 = Concat[axis = 0](%onnx::Concat_818, %onnx::Concat_499, %/lstm/Constant_19_output_0)\n",
      "  %/lstm/Expand_5_output_0 = Expand(%/lstm/Constant_15_output_0, %/lstm/Concat_5_output_0)\n",
      "  %/lstm/LSTM_2_output_0, %/lstm/LSTM_2_output_1, %/lstm/LSTM_2_output_2 = LSTM[direction = 'bidirectional', hidden_size = 256](%/lstm/Reshape_1_output_0, %onnx::LSTM_813, %onnx::LSTM_814, %onnx::LSTM_812, %, %/lstm/Expand_4_output_0, %/lstm/Expand_5_output_0)\n",
      "  %/lstm/Transpose_3_output_0 = Transpose[perm = [0, 2, 1, 3]](%/lstm/LSTM_2_output_0)\n",
      "  %/lstm/Constant_20_output_0 = Constant[value = <Tensor>]()\n",
      "  %/lstm/Reshape_2_output_0 = Reshape[allowzero = 0](%/lstm/Transpose_3_output_0, %/lstm/Constant_20_output_0)\n",
      "  %/lstm/Constant_21_output_0 = Constant[value = <Tensor>]()\n",
      "  %/lstm/Constant_22_output_0 = Constant[value = <Tensor>]()\n",
      "  %/lstm/Shape_6_output_0 = Shape(%/lstm/Reshape_2_output_0)\n",
      "  %/lstm/Constant_23_output_0 = Constant[value = <Scalar Tensor []>]()\n",
      "  %/lstm/Gather_6_output_0 = Gather(%/lstm/Shape_6_output_0, %/lstm/Constant_23_output_0)\n",
      "  %onnx::Unsqueeze_644 = Constant[value = <Tensor>]()\n",
      "  %onnx::Concat_645 = Unsqueeze(%/lstm/Gather_6_output_0, %onnx::Unsqueeze_644)\n",
      "  %/lstm/Constant_24_output_0 = Constant[value = <Tensor>]()\n",
      "  %onnx::Concat_864 = Constant[value = <Tensor>]()\n",
      "  %/lstm/Concat_6_output_0 = Concat[axis = 0](%onnx::Concat_864, %onnx::Concat_645, %/lstm/Constant_24_output_0)\n",
      "  %/lstm/Expand_6_output_0 = Expand(%/lstm/Constant_21_output_0, %/lstm/Concat_6_output_0)\n",
      "  %/lstm/Shape_7_output_0 = Shape(%/lstm/Reshape_2_output_0)\n",
      "  %/lstm/Constant_25_output_0 = Constant[value = <Scalar Tensor []>]()\n",
      "  %/lstm/Gather_7_output_0 = Gather(%/lstm/Shape_7_output_0, %/lstm/Constant_25_output_0)\n",
      "  %onnx::Unsqueeze_655 = Constant[value = <Tensor>]()\n",
      "  %onnx::Concat_656 = Unsqueeze(%/lstm/Gather_7_output_0, %onnx::Unsqueeze_655)\n",
      "  %/lstm/Constant_26_output_0 = Constant[value = <Tensor>]()\n",
      "  %onnx::Concat_865 = Constant[value = <Tensor>]()\n",
      "  %/lstm/Concat_7_output_0 = Concat[axis = 0](%onnx::Concat_865, %onnx::Concat_656, %/lstm/Constant_26_output_0)\n",
      "  %/lstm/Expand_7_output_0 = Expand(%/lstm/Constant_22_output_0, %/lstm/Concat_7_output_0)\n",
      "  %/lstm/LSTM_3_output_0, %/lstm/LSTM_3_output_1, %/lstm/LSTM_3_output_2 = LSTM[direction = 'bidirectional', hidden_size = 256](%/lstm/Reshape_2_output_0, %onnx::LSTM_860, %onnx::LSTM_861, %onnx::LSTM_859, %, %/lstm/Expand_6_output_0, %/lstm/Expand_7_output_0)\n",
      "  %/lstm/Transpose_4_output_0 = Transpose[perm = [0, 2, 1, 3]](%/lstm/LSTM_3_output_0)\n",
      "  %/lstm/Constant_27_output_0 = Constant[value = <Tensor>]()\n",
      "  %/lstm/Reshape_3_output_0 = Reshape[allowzero = 0](%/lstm/Transpose_4_output_0, %/lstm/Constant_27_output_0)\n",
      "  %/lstm/Transpose_5_output_0 = Transpose[perm = [1, 0, 2]](%/lstm/Reshape_3_output_0)\n",
      "  %/Constant_output_0 = Constant[value = <Tensor>]()\n",
      "  %/Reshape_output_0 = Reshape[allowzero = 0](%/lstm/Transpose_5_output_0, %/Constant_output_0)\n",
      "  %677 = Gemm[alpha = 1, beta = 1, transB = 1](%/Reshape_output_0, %linear.weight, %linear.bias)\n",
      "  return %677\n",
      "}\n"
     ]
    }
   ],
   "source": [
    "import onnx\n",
    "import onnx.helper\n",
    "\n",
    "onnx_model = onnx.load('./constellator.onnx')\n",
    "print(onnx.helper.printable_graph(onnx_model.graph))"
   ]
  },
  {
   "cell_type": "code",
   "execution_count": null,
   "metadata": {},
   "outputs": [],
   "source": []
  }
 ],
 "metadata": {
  "kernelspec": {
   "display_name": "pytorch",
   "language": "python",
   "name": "python3"
  },
  "language_info": {
   "codemirror_mode": {
    "name": "ipython",
    "version": 3
   },
   "file_extension": ".py",
   "mimetype": "text/x-python",
   "name": "python",
   "nbconvert_exporter": "python",
   "pygments_lexer": "ipython3",
   "version": "3.10.13"
  }
 },
 "nbformat": 4,
 "nbformat_minor": 2
}
