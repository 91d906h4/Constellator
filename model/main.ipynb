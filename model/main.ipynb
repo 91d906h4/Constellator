{
 "cells": [
  {
   "cell_type": "code",
   "execution_count": 382,
   "metadata": {},
   "outputs": [],
   "source": [
    "import torch\n",
    "import jieba\n",
    "import random\n",
    "\n",
    "import numpy as np\n",
    "import pandas as pd\n",
    "\n",
    "from data import Data\n",
    "from torch import nn, optim\n",
    "from datetime import datetime\n",
    "from torchsummary import summary\n",
    "from torch.utils.data import DataLoader, Dataset"
   ]
  },
  {
   "cell_type": "code",
   "execution_count": 383,
   "metadata": {},
   "outputs": [],
   "source": [
    "# Set random seed.\n",
    "random_seed = 0\n",
    "\n",
    "random.seed(random_seed)\n",
    "np.random.seed(random_seed)\n",
    "torch.manual_seed(random_seed)\n",
    "torch.cuda.manual_seed(random_seed)\n",
    "torch.backends.cudnn.benchmark = False\n",
    "torch.backends.cudnn.deterministic = True"
   ]
  },
  {
   "cell_type": "code",
   "execution_count": 384,
   "metadata": {},
   "outputs": [
    {
     "name": "stdout",
     "output_type": "stream",
     "text": [
      "cuda:0\n"
     ]
    }
   ],
   "source": [
    "device = \"cpu\"\n",
    "\n",
    "if torch.cuda.is_available():\n",
    "    device = \"cuda:0\"\n",
    "\n",
    "print(device)"
   ]
  },
  {
   "cell_type": "code",
   "execution_count": 385,
   "metadata": {},
   "outputs": [],
   "source": [
    "classes = {\n",
    "    0: \"牡羊\",\n",
    "    1: \"金牛\",\n",
    "    2: \"雙子\",\n",
    "    3: \"巨蠍\",\n",
    "    4: \"獅子\",\n",
    "    5: \"處女\",\n",
    "    6: \"天秤\",\n",
    "    7: \"天蠍\",\n",
    "    8: \"射手\",\n",
    "    9: \"魔羯\",\n",
    "    10: \"水瓶\",\n",
    "    11: \"雙魚\",\n",
    "}"
   ]
  },
  {
   "cell_type": "code",
   "execution_count": 386,
   "metadata": {},
   "outputs": [
    {
     "name": "stdout",
     "output_type": "stream",
     "text": [
      "Cleaning completed.\n",
      "ToDataset completed.\n",
      "Argumantation completed.\n",
      "Tokenlization completed.\n",
      "Padding completed.\n",
      "Token2id completed.\n",
      "Process completed.\n"
     ]
    }
   ],
   "source": [
    "raw = {i: open(f\"./dataset/{classes[i]}.txt\", encoding=\"utf-8\").read() for i in range(12)}\n",
    "data = Data(data=raw, padding_length=32)\n",
    "\n",
    "train_raw = data.get(\"data\")"
   ]
  },
  {
   "cell_type": "code",
   "execution_count": 387,
   "metadata": {},
   "outputs": [
    {
     "data": {
      "text/plain": [
       "3528"
      ]
     },
     "execution_count": 387,
     "metadata": {},
     "output_type": "execute_result"
    }
   ],
   "source": [
    "len(train_raw)"
   ]
  },
  {
   "cell_type": "code",
   "execution_count": 388,
   "metadata": {},
   "outputs": [
    {
     "data": {
      "text/plain": [
       "[[331,\n",
       "  2811,\n",
       "  3131,\n",
       "  2915,\n",
       "  3360,\n",
       "  357,\n",
       "  3192,\n",
       "  2964,\n",
       "  1598,\n",
       "  1823,\n",
       "  1010,\n",
       "  2305,\n",
       "  2305,\n",
       "  2305,\n",
       "  2305,\n",
       "  2305,\n",
       "  2305,\n",
       "  2305,\n",
       "  2305,\n",
       "  2305,\n",
       "  2305,\n",
       "  2305,\n",
       "  2305,\n",
       "  2305,\n",
       "  2305,\n",
       "  2305,\n",
       "  2305,\n",
       "  2305,\n",
       "  2305,\n",
       "  2305,\n",
       "  2305,\n",
       "  2305],\n",
       " [1, 0, 0, 0, 0, 0, 0, 0, 0, 0, 0, 0]]"
      ]
     },
     "execution_count": 388,
     "metadata": {},
     "output_type": "execute_result"
    }
   ],
   "source": [
    "train_raw[0]"
   ]
  },
  {
   "cell_type": "code",
   "execution_count": 389,
   "metadata": {},
   "outputs": [],
   "source": [
    "class CreateDataset(Dataset):\n",
    "    def __init__(self, data: list, label: list):\n",
    "        self.data = data\n",
    "        self.label = label\n",
    "\n",
    "    def __getitem__(self, index):\n",
    "        return torch.tensor(self.data[index]), torch.tensor(self.label[index], dtype=torch.float)\n",
    "\n",
    "    def __len__(self):\n",
    "        return len(self.label)"
   ]
  },
  {
   "cell_type": "code",
   "execution_count": 390,
   "metadata": {},
   "outputs": [],
   "source": [
    "d, l = [], []\n",
    "\n",
    "for i, j in train_raw:\n",
    "    d.append(i); l.append(j)\n",
    "\n",
    "train_ds = CreateDataset(d, l)"
   ]
  },
  {
   "cell_type": "code",
   "execution_count": 391,
   "metadata": {},
   "outputs": [
    {
     "data": {
      "text/plain": [
       "(tensor([ 331, 2811, 3131, 2915, 3360,  357, 3192, 2964, 1598, 1823, 1010, 2305,\n",
       "         2305, 2305, 2305, 2305, 2305, 2305, 2305, 2305, 2305, 2305, 2305, 2305,\n",
       "         2305, 2305, 2305, 2305, 2305, 2305, 2305, 2305]),\n",
       " tensor([1., 0., 0., 0., 0., 0., 0., 0., 0., 0., 0., 0.]))"
      ]
     },
     "execution_count": 391,
     "metadata": {},
     "output_type": "execute_result"
    }
   ],
   "source": [
    "train_ds[1]"
   ]
  },
  {
   "cell_type": "code",
   "execution_count": 392,
   "metadata": {},
   "outputs": [],
   "source": [
    "train_dl = DataLoader(train_ds, batch_size=8, shuffle=True)"
   ]
  },
  {
   "cell_type": "code",
   "execution_count": 393,
   "metadata": {},
   "outputs": [],
   "source": [
    "class Model(nn.Module):\n",
    "    def __init__(self) -> None:\n",
    "        super().__init__()\n",
    "        self.embedding = nn.Embedding(data.get(\"token_len\"), 64)\n",
    "        self.lstm = nn.LSTM(input_size=64, hidden_size=256, num_layers=4, dropout=0.5, batch_first=True, bidirectional=True)\n",
    "        self.linear = nn.Linear(16384, 12)\n",
    "\n",
    "    def forward(self, x: torch.Tensor):\n",
    "        x = self.embedding(x)\n",
    "        x, _ = self.lstm(x)\n",
    "\n",
    "        x = x.reshape(x.size()[0], -1)\n",
    "\n",
    "        x = self.linear(x)\n",
    "\n",
    "        return x"
   ]
  },
  {
   "cell_type": "code",
   "execution_count": 394,
   "metadata": {},
   "outputs": [],
   "source": [
    "model = Model().to(device=device)"
   ]
  },
  {
   "cell_type": "code",
   "execution_count": 395,
   "metadata": {},
   "outputs": [],
   "source": [
    "epochs = 15\n",
    "optimizer = optim.SGD(model.parameters(), lr=0.1)\n",
    "loss = nn.CrossEntropyLoss()"
   ]
  },
  {
   "cell_type": "code",
   "execution_count": 396,
   "metadata": {},
   "outputs": [],
   "source": [
    "# Traning history data.\n",
    "train_accuracy_h = []\n",
    "train_loss_h = []\n",
    "validate_accuracy_h = []"
   ]
  },
  {
   "cell_type": "code",
   "execution_count": 397,
   "metadata": {},
   "outputs": [],
   "source": [
    "def train(epochs: int, model: nn.Module, optimizer: optim.Optimizer, loss: nn.CrossEntropyLoss, dataloader: DataLoader):\n",
    "    for epoch in range(epochs):\n",
    "        # Set model to training mode.\n",
    "        model.train()\n",
    "\n",
    "        train_accuracy = 0\n",
    "        train_loss = 0\n",
    "        train_total = 0\n",
    "        train_process = 0\n",
    "        train_time = datetime.now().timestamp()\n",
    "\n",
    "        for texts, labels in dataloader:\n",
    "            texts: torch.Tensor\n",
    "            labels: torch.Tensor\n",
    "\n",
    "            texts = texts.to(device)\n",
    "            labels = labels.to(device)\n",
    "\n",
    "            outputs: torch.Tensor = model(texts)\n",
    "            losses: torch.Tensor = loss(outputs, labels)\n",
    "\n",
    "            # optimizer.zero_grad()\n",
    "            for param in model.parameters(): param.grad = None\n",
    "\n",
    "            # Backpropagation.\n",
    "            losses.backward()\n",
    "\n",
    "            # Update parameters.\n",
    "            optimizer.step()\n",
    "\n",
    "            _, predict = torch.max(outputs, 1)\n",
    "            train_accuracy += sum([labels[i][predict[i]] == 1 for i in range(len(predict))])\n",
    "            train_loss += losses.item()\n",
    "            train_total += labels.shape[0]\n",
    "            train_process += 1\n",
    "\n",
    "            print(\n",
    "                f\"{datetime.now().strftime('%Y/%m/%d %H:%M:%S')} \"\n",
    "                f\"Epoch: {epoch:03d} \"\n",
    "                f\"Time: {datetime.now().timestamp() - train_time:.2f} \"\n",
    "                f\"Process: {train_process / len(dataloader) * 100:.2f}% \"\n",
    "                f\"Accuracy: {train_accuracy / train_total * 100:.2f}% \"\n",
    "                f\"Loss: {train_loss:.3f}\",\n",
    "                end=\"\\r\"\n",
    "            )\n",
    "\n",
    "        train_accuracy_h.append(train_accuracy / train_total * 100)\n",
    "        train_loss_h.append(train_loss)\n",
    "\n",
    "        print()\n",
    "\n",
    "        # Early stop.\n",
    "        if train_accuracy / train_total > 99.5:\n",
    "            print(\"Early stopped.\")\n",
    "            break"
   ]
  },
  {
   "cell_type": "code",
   "execution_count": 398,
   "metadata": {},
   "outputs": [
    {
     "name": "stdout",
     "output_type": "stream",
     "text": [
      "2024/03/27 16:19:58 Epoch: 000 Time: 13.51 Process: 100.00% Accuracy: 15.70% Loss: 1051.174\n",
      "2024/03/27 16:20:11 Epoch: 001 Time: 13.19 Process: 100.00% Accuracy: 17.80% Loss: 1035.718\n",
      "2024/03/27 16:20:24 Epoch: 002 Time: 12.71 Process: 100.00% Accuracy: 20.07% Loss: 1017.723\n",
      "2024/03/27 16:20:36 Epoch: 003 Time: 12.56 Process: 100.00% Accuracy: 24.04% Loss: 975.045\n",
      "2024/03/27 16:20:49 Epoch: 004 Time: 12.68 Process: 100.00% Accuracy: 32.71% Loss: 893.172\n",
      "2024/03/27 16:21:02 Epoch: 005 Time: 12.56 Process: 100.00% Accuracy: 43.42% Loss: 778.044\n",
      "2024/03/27 16:21:14 Epoch: 006 Time: 12.36 Process: 100.00% Accuracy: 53.91% Loss: 642.453\n",
      "2024/03/27 16:21:27 Epoch: 007 Time: 12.75 Process: 100.00% Accuracy: 65.36% Loss: 483.741\n",
      "2024/03/27 16:21:39 Epoch: 008 Time: 12.01 Process: 100.00% Accuracy: 77.27% Loss: 325.161\n",
      "2024/03/27 16:21:51 Epoch: 009 Time: 12.06 Process: 100.00% Accuracy: 85.35% Loss: 211.192\n",
      "2024/03/27 16:22:04 Epoch: 010 Time: 12.76 Process: 100.00% Accuracy: 91.30% Loss: 126.701\n",
      "2024/03/27 16:22:16 Epoch: 011 Time: 12.66 Process: 100.00% Accuracy: 94.10% Loss: 78.012\n",
      "2024/03/27 16:22:28 Epoch: 012 Time: 12.29 Process: 100.00% Accuracy: 97.05% Loss: 40.763\n",
      "2024/03/27 16:22:41 Epoch: 013 Time: 12.41 Process: 100.00% Accuracy: 97.79% Loss: 29.930\n",
      "2024/03/27 16:22:54 Epoch: 014 Time: 12.85 Process: 100.00% Accuracy: 99.69% Loss: 5.431\n"
     ]
    }
   ],
   "source": [
    "train(epochs=epochs, model=model, optimizer=optimizer, loss=loss, dataloader=train_dl)"
   ]
  },
  {
   "cell_type": "code",
   "execution_count": 399,
   "metadata": {},
   "outputs": [
    {
     "name": "stdout",
     "output_type": "stream",
     "text": [
      "tensor([[1598, 2503, 3241, 2141, 3332,  713, 1512, 3195, 1909, 1010, 2305, 2305,\n",
      "         2305, 2305, 2305, 2305, 2305, 2305, 2305, 2305, 2305, 2305, 2305, 2305,\n",
      "         2305, 2305, 2305, 2305, 2305, 2305, 2305, 2305],\n",
      "        [2343, 1392, 1598, 1806, 2772, 2266, 2406, 2172, 1598,  438, 1242, 1525,\n",
      "          324, 2109, 2237, 2772, 1539,  751, 1394, 1598,  939, 1299, 2772, 2934,\n",
      "          852,  123, 2680, 1353, 2223, 2772, 2878, 1045],\n",
      "        [1804,  675,  856,  423, 1010, 2772,  105, 2305, 2305, 2305, 2305, 2305,\n",
      "         2305, 2305, 2305, 2305, 2305, 2305, 2305, 2305, 2305, 2305, 2305, 2305,\n",
      "         2305, 2305, 2305, 2305, 2305, 2305, 2305, 2305],\n",
      "        [2699, 2772, 2266,  298, 1494, 2624,  642, 2950, 1010, 2772, 2163, 2772,\n",
      "         2905, 2473, 3239, 2540, 2772, 2195, 3116, 2458, 2154, 2772, 2688,  713,\n",
      "          144, 2772,  798, 3543, 1667, 2981, 2305, 2305],\n",
      "        [2539, 1299, 3116,  298, 1010, 2772, 2833, 1973, 1191, 1360, 1697, 3262,\n",
      "           28, 1561, 1598, 2305, 2305, 2305, 2305, 2305, 2305, 2305, 2305, 2305,\n",
      "         2305, 2305, 2305, 2305, 2305, 2305, 2305, 2305],\n",
      "        [2266, 3116,  741, 1678, 2128, 1598,  712,  812, 2894, 2772, 1494, 1353,\n",
      "          981, 2890, 3383, 1598,  346, 1010, 2305, 2305, 2305, 2305, 2305, 2305,\n",
      "         2305, 2305, 2305, 2305, 2305, 2305, 2305, 2305],\n",
      "        [1598, 3604, 1678, 1775, 3011, 2772,  280,  101, 1598,   38, 2351, 1550,\n",
      "         1930,  889, 2505, 1010, 2305, 2305, 2305, 2305, 2305, 2305, 2305, 2305,\n",
      "         2305, 2305, 2305, 2305, 2305, 2305, 2305, 2305],\n",
      "        [  34,  802, 2283, 1598,  435,   23, 1394, 1598,  939, 1010, 2772, 1596,\n",
      "         1286, 1494, 2109, 2237, 2772, 2833, 2834, 2266, 3436, 3067, 3148, 1598,\n",
      "         3223, 2305, 2305, 2305, 2305, 2305, 2305, 2305]])\n",
      "tensor([[ -0.6843, -10.3014,   5.5432,  10.4625,  -4.2388,   3.1517,  -0.1432,\n",
      "           0.3218,   1.7113,  -6.5756,   3.5564,  -2.8310],\n",
      "        [ -4.6567, -13.2016,  20.6668,   4.1637,  -9.9094,   1.6059,   5.4685,\n",
      "          -0.0645,   3.3630,  -2.0538,  -0.6904,  -4.4465],\n",
      "        [ -8.9362,   2.5328,  -0.7604,   7.9348,  -5.0234,   1.7493,   2.3844,\n",
      "           5.1240,  -0.4507,  -4.3599,   2.3953,  -2.5721],\n",
      "        [ -5.9094,  -1.6581,   4.2574,   8.7488,   1.1454,  -0.3711,   2.1081,\n",
      "          -6.1387,   2.1200,  -3.0346,  -0.3004,  -1.0137],\n",
      "        [ 16.9399,  -2.5102,  -2.8651,  -0.6844,  -1.9812,   1.2517, -12.8401,\n",
      "           5.4674,  -1.9564,   7.7112,  -7.0884,  -1.3890],\n",
      "        [  2.7128,  -6.6928,   4.1563, -11.4867,  19.0457,   6.6615,   3.8735,\n",
      "         -17.2406,   7.2446,  -4.7161,  -6.3182,   1.9719],\n",
      "        [ -8.6211,   0.4392,  -4.4859,  -8.0014,   0.0640,   0.4931,  -1.1135,\n",
      "           6.8669,   2.0286,  15.7466,  -0.0744,  -3.5079],\n",
      "        [ -4.8949,  15.3279, -11.0667,   6.0302,  -4.7322,  -4.4780,   6.8516,\n",
      "           2.7301,  -2.2191, -10.3244,   4.9837,   1.8349]], device='cuda:0',\n",
      "       grad_fn=<AddmmBackward0>)\n",
      "tensor([[0., 0., 0., 1., 0., 0., 0., 0., 0., 0., 0., 0.],\n",
      "        [0., 0., 1., 0., 0., 0., 0., 0., 0., 0., 0., 0.],\n",
      "        [0., 0., 0., 1., 0., 0., 0., 0., 0., 0., 0., 0.],\n",
      "        [0., 0., 0., 1., 0., 0., 0., 0., 0., 0., 0., 0.],\n",
      "        [1., 0., 0., 0., 0., 0., 0., 0., 0., 0., 0., 0.],\n",
      "        [0., 0., 0., 0., 1., 0., 0., 0., 0., 0., 0., 0.],\n",
      "        [0., 0., 0., 0., 0., 0., 0., 0., 0., 1., 0., 0.],\n",
      "        [0., 1., 0., 0., 0., 0., 0., 0., 0., 0., 0., 0.]])\n"
     ]
    }
   ],
   "source": [
    "for i, j in train_dl:\n",
    "    print(i)\n",
    "    print(model(i.to(device)))\n",
    "    print(j)\n",
    "    break"
   ]
  },
  {
   "cell_type": "code",
   "execution_count": 472,
   "metadata": {},
   "outputs": [
    {
     "name": "stdout",
     "output_type": "stream",
     "text": [
      "[2438, 357, 2025, 357, 3120, 2305, 2305, 2305, 2305, 2305, 2305, 2305, 2305, 2305, 2305, 2305, 2305, 2305, 2305, 2305, 2305, 2305, 2305, 2305, 2305, 2305, 2305, 2305, 2305, 2305, 2305, 2305]\n"
     ]
    }
   ],
   "source": [
    "test = \"誠實、安定、內向\"\n",
    "temp = list(jieba.cut(test))\n",
    "temp = temp + [\"<PAD>\"] * (32 - len(temp))\n",
    "test = [data.w2i[x] if x in data.w2i else data.w2i[\"<PAD>\"] for x in temp][:32]\n",
    "print(test)"
   ]
  },
  {
   "cell_type": "code",
   "execution_count": 473,
   "metadata": {},
   "outputs": [],
   "source": [
    "test = torch.tensor([test])"
   ]
  },
  {
   "cell_type": "code",
   "execution_count": 474,
   "metadata": {},
   "outputs": [
    {
     "data": {
      "text/plain": [
       "Model(\n",
       "  (embedding): Embedding(3637, 64)\n",
       "  (lstm): LSTM(64, 256, num_layers=4, batch_first=True, dropout=0.5, bidirectional=True)\n",
       "  (linear): Linear(in_features=16384, out_features=12, bias=True)\n",
       ")"
      ]
     },
     "execution_count": 474,
     "metadata": {},
     "output_type": "execute_result"
    }
   ],
   "source": [
    "model.eval()"
   ]
  },
  {
   "cell_type": "code",
   "execution_count": 475,
   "metadata": {},
   "outputs": [
    {
     "name": "stdout",
     "output_type": "stream",
     "text": [
      "[8.065269470214844, 7.885302543640137, -6.987083911895752, -2.8685147762298584, 4.194498538970947, 2.116591691970825, -1.8117320537567139, 2.0016794204711914, -4.279421806335449, 1.6134254932403564, -6.726810932159424, -3.0940401554107666]\n"
     ]
    }
   ],
   "source": [
    "result = model(test.to(device)).tolist()[0]\n",
    "print(result)"
   ]
  },
  {
   "cell_type": "code",
   "execution_count": 476,
   "metadata": {},
   "outputs": [
    {
     "name": "stdout",
     "output_type": "stream",
     "text": [
      "[1.0, 0.988, 0.0, 0.274, 0.743, 0.605, 0.344, 0.597, 0.18, 0.571, 0.017, 0.259]\n"
     ]
    }
   ],
   "source": [
    "# Normolization\n",
    "result = [x - min(result) for x in result]\n",
    "result = [x / max(result) for x in result]\n",
    "result = [round(x, 3) for x in result]\n",
    "\n",
    "print(result)"
   ]
  },
  {
   "cell_type": "code",
   "execution_count": 477,
   "metadata": {},
   "outputs": [
    {
     "data": {
      "text/plain": [
       "'牡羊'"
      ]
     },
     "execution_count": 477,
     "metadata": {},
     "output_type": "execute_result"
    }
   ],
   "source": [
    "classes[int(torch.argmax(torch.tensor(result)))]"
   ]
  },
  {
   "cell_type": "code",
   "execution_count": 478,
   "metadata": {},
   "outputs": [
    {
     "data": {
      "text/plain": [
       "{0: '牡羊',\n",
       " 1: '金牛',\n",
       " 2: '雙子',\n",
       " 3: '巨蠍',\n",
       " 4: '獅子',\n",
       " 5: '處女',\n",
       " 6: '天秤',\n",
       " 7: '天蠍',\n",
       " 8: '射手',\n",
       " 9: '魔羯',\n",
       " 10: '水瓶',\n",
       " 11: '雙魚'}"
      ]
     },
     "execution_count": 478,
     "metadata": {},
     "output_type": "execute_result"
    }
   ],
   "source": [
    "classes"
   ]
  },
  {
   "cell_type": "code",
   "execution_count": 479,
   "metadata": {},
   "outputs": [],
   "source": [
    "import matplotlib.pyplot as plt\n",
    "import numpy as np"
   ]
  },
  {
   "cell_type": "code",
   "execution_count": 480,
   "metadata": {},
   "outputs": [
    {
     "data": {
      "image/png": "[encoded data removed]",
      "text/plain": [
       "<Figure size 500x500 with 1 Axes>"
      ]
     },
     "metadata": {},
     "output_type": "display_data"
    }
   ],
   "source": [
    "angles_A = np.linspace(start=0, stop=2*np.pi, num=len(result)+1, endpoint=True)\n",
    "values_A = np.concatenate((result, [result[0]]))\n",
    "\n",
    "fig, ax = plt.subplots(1, 1, figsize=(5, 5), subplot_kw={'projection': 'polar'})\n",
    "ax.plot(angles_A, values_A, 'o-', color=\"blue\", label=\"A\")\n",
    "\n",
    "ax.fill(angles_A, values_A, alpha=0.3, color=\"blue\")\n",
    "ax.set_thetagrids(angles_A[:-1] * 180 / np.pi, range(12), fontsize=15)\n",
    "ax.set_theta_zero_location('N')"
   ]
  },
  {
   "cell_type": "code",
   "execution_count": null,
   "metadata": {},
   "outputs": [],
   "source": []
  }
 ],
 "metadata": {
  "kernelspec": {
   "display_name": "pytorch",
   "language": "python",
   "name": "python3"
  },
  "language_info": {
   "codemirror_mode": {
    "name": "ipython",
    "version": 3
   },
   "file_extension": ".py",
   "mimetype": "text/x-python",
   "name": "python",
   "nbconvert_exporter": "python",
   "pygments_lexer": "ipython3",
   "version": "3.10.13"
  }
 },
 "nbformat": 4,
 "nbformat_minor": 2
}
