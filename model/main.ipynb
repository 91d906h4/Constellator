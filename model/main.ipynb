{
 "cells": [
  {
   "cell_type": "code",
   "execution_count": 86,
   "metadata": {},
   "outputs": [],
   "source": [
    "import torch\n",
    "import jieba\n",
    "import random\n",
    "\n",
    "import numpy as np\n",
    "import pandas as pd\n",
    "\n",
    "from data import Data\n",
    "from torch import nn, optim\n",
    "from datetime import datetime\n",
    "from torchsummary import summary\n",
    "from matplotlib import pyplot as plt\n",
    "from torchvision import datasets, transforms\n",
    "from torch.utils.data import DataLoader, Dataset"
   ]
  },
  {
   "cell_type": "code",
   "execution_count": 87,
   "metadata": {},
   "outputs": [],
   "source": [
    "# Set random seed.\n",
    "random_seed = 0\n",
    "\n",
    "random.seed(random_seed)\n",
    "np.random.seed(random_seed)\n",
    "torch.manual_seed(random_seed)\n",
    "torch.cuda.manual_seed(random_seed)\n",
    "torch.backends.cudnn.benchmark = False\n",
    "torch.backends.cudnn.deterministic = True"
   ]
  },
  {
   "cell_type": "code",
   "execution_count": 88,
   "metadata": {},
   "outputs": [
    {
     "name": "stdout",
     "output_type": "stream",
     "text": [
      "cuda:0\n"
     ]
    }
   ],
   "source": [
    "device = \"cpu\"\n",
    "\n",
    "if torch.cuda.is_available():\n",
    "    device = \"cuda:0\"\n",
    "\n",
    "print(device)"
   ]
  },
  {
   "cell_type": "code",
   "execution_count": 89,
   "metadata": {},
   "outputs": [],
   "source": [
    "classes = {\n",
    "    0: \"牡羊\",\n",
    "    1: \"金牛\",\n",
    "    2: \"雙子\",\n",
    "    3: \"巨蠍\",\n",
    "    4: \"獅子\",\n",
    "    5: \"處女\",\n",
    "    6: \"天秤\",\n",
    "    7: \"天蠍\",\n",
    "    8: \"射手\",\n",
    "    9: \"魔羯\",\n",
    "    10: \"水瓶\",\n",
    "    11: \"雙魚\",\n",
    "}"
   ]
  },
  {
   "cell_type": "code",
   "execution_count": 90,
   "metadata": {},
   "outputs": [
    {
     "name": "stdout",
     "output_type": "stream",
     "text": [
      "Cleaning completed.\n",
      "ToDataset completed.\n",
      "Argumantation completed.\n",
      "Tokenlization completed.\n",
      "Padding completed.\n",
      "Token2id completed.\n",
      "Process completed.\n"
     ]
    }
   ],
   "source": [
    "raw = {i: open(f\"./dataset/{classes[i]}.txt\", encoding=\"utf-8\").read() for i in range(12)}\n",
    "data = Data(data=raw, padding_length=32)\n",
    "\n",
    "train_raw = data.get(\"data\")"
   ]
  },
  {
   "cell_type": "code",
   "execution_count": 91,
   "metadata": {},
   "outputs": [
    {
     "data": {
      "text/plain": [
       "3528"
      ]
     },
     "execution_count": 91,
     "metadata": {},
     "output_type": "execute_result"
    }
   ],
   "source": [
    "len(train_raw)"
   ]
  },
  {
   "cell_type": "code",
   "execution_count": 92,
   "metadata": {},
   "outputs": [
    {
     "data": {
      "text/plain": [
       "[[2038,\n",
       "  704,\n",
       "  973,\n",
       "  3293,\n",
       "  1568,\n",
       "  2405,\n",
       "  2212,\n",
       "  1229,\n",
       "  1632,\n",
       "  2361,\n",
       "  2680,\n",
       "  2331,\n",
       "  2331,\n",
       "  2331,\n",
       "  2331,\n",
       "  2331,\n",
       "  2331,\n",
       "  2331,\n",
       "  2331,\n",
       "  2331,\n",
       "  2331,\n",
       "  2331,\n",
       "  2331,\n",
       "  2331,\n",
       "  2331,\n",
       "  2331,\n",
       "  2331,\n",
       "  2331,\n",
       "  2331,\n",
       "  2331,\n",
       "  2331,\n",
       "  2331],\n",
       " [1, 0, 0, 0, 0, 0, 0, 0, 0, 0, 0, 0]]"
      ]
     },
     "execution_count": 92,
     "metadata": {},
     "output_type": "execute_result"
    }
   ],
   "source": [
    "train_raw[0]"
   ]
  },
  {
   "cell_type": "code",
   "execution_count": 93,
   "metadata": {},
   "outputs": [],
   "source": [
    "class CreateDataset(Dataset):\n",
    "    def __init__(self, data: list, label: list):\n",
    "        self.data = data\n",
    "        self.label = label\n",
    "\n",
    "    def __getitem__(self, index):\n",
    "        return torch.tensor(self.data[index]), torch.tensor(self.label[index], dtype=torch.float)\n",
    "\n",
    "    def __len__(self):\n",
    "        return len(self.label)"
   ]
  },
  {
   "cell_type": "code",
   "execution_count": 94,
   "metadata": {},
   "outputs": [],
   "source": [
    "d, l = [], []\n",
    "\n",
    "for i, j in train_raw:\n",
    "    d.append(i); l.append(j)\n",
    "\n",
    "train_ds = CreateDataset(d, l)"
   ]
  },
  {
   "cell_type": "code",
   "execution_count": 95,
   "metadata": {},
   "outputs": [
    {
     "data": {
      "text/plain": [
       "(tensor([2038,  704,  973, 3293, 1568, 2405, 2212, 1229, 1632, 2361, 2680, 2331,\n",
       "         2331, 2331, 2331, 2331, 2331, 2331, 2331, 2331, 2331, 2331, 2331, 2331,\n",
       "         2331, 2331, 2331, 2331, 2331, 2331, 2331, 2331]),\n",
       " tensor([1., 0., 0., 0., 0., 0., 0., 0., 0., 0., 0., 0.]))"
      ]
     },
     "execution_count": 95,
     "metadata": {},
     "output_type": "execute_result"
    }
   ],
   "source": [
    "train_ds[1]"
   ]
  },
  {
   "cell_type": "code",
   "execution_count": 96,
   "metadata": {},
   "outputs": [],
   "source": [
    "train_dl = DataLoader(train_ds, batch_size=8, shuffle=True)"
   ]
  },
  {
   "cell_type": "code",
   "execution_count": 97,
   "metadata": {},
   "outputs": [],
   "source": [
    "class Model(nn.Module):\n",
    "    def __init__(self) -> None:\n",
    "        super().__init__()\n",
    "        self.embedding = nn.Embedding(data.get(\"token_len\"), 64)\n",
    "        self.lstm = nn.LSTM(input_size=64, hidden_size=256, num_layers=4, dropout=0.5, batch_first=True, bidirectional=True)\n",
    "        self.linear = nn.Linear(16384, 12)\n",
    "\n",
    "    def forward(self, x: torch.Tensor):\n",
    "        x = self.embedding(x)\n",
    "        x, _ = self.lstm(x)\n",
    "\n",
    "        x = x.reshape(x.size()[0], -1)\n",
    "\n",
    "        x = self.linear(x)\n",
    "\n",
    "        return x"
   ]
  },
  {
   "cell_type": "code",
   "execution_count": 98,
   "metadata": {},
   "outputs": [],
   "source": [
    "model = Model().to(device=device)"
   ]
  },
  {
   "cell_type": "code",
   "execution_count": 99,
   "metadata": {},
   "outputs": [],
   "source": [
    "epochs = 10\n",
    "optimizer = optim.SGD(model.parameters())\n",
    "loss = nn.CrossEntropyLoss()"
   ]
  },
  {
   "cell_type": "code",
   "execution_count": 100,
   "metadata": {},
   "outputs": [],
   "source": [
    "# Traning history data.\n",
    "train_accuracy_h = []\n",
    "train_loss_h = []\n",
    "validate_accuracy_h = []"
   ]
  },
  {
   "cell_type": "code",
   "execution_count": 101,
   "metadata": {},
   "outputs": [],
   "source": [
    "def train(epochs: int, model: nn.Module, optimizer: optim.Optimizer, loss: nn.CrossEntropyLoss, dataloader: DataLoader):\n",
    "    for epoch in range(epochs):\n",
    "        # Set model to training mode.\n",
    "        model.train()\n",
    "\n",
    "        train_accuracy = 0\n",
    "        train_loss = 0\n",
    "        train_total = 0\n",
    "        train_process = 0\n",
    "        train_time = datetime.now().timestamp()\n",
    "\n",
    "        for texts, labels in dataloader:\n",
    "            texts: torch.Tensor\n",
    "            labels: torch.Tensor\n",
    "\n",
    "            texts = texts.to(device)\n",
    "            labels = labels.to(device)\n",
    "\n",
    "            outputs: torch.Tensor = model(texts)\n",
    "            losses: torch.Tensor = loss(outputs, labels)\n",
    "\n",
    "            # optimizer.zero_grad()\n",
    "            for param in model.parameters(): param.grad = None\n",
    "\n",
    "            # Backpropagation.\n",
    "            losses.backward()\n",
    "\n",
    "            # Update parameters.\n",
    "            optimizer.step()\n",
    "\n",
    "            _, predict = torch.max(outputs, 1)\n",
    "            train_accuracy += sum([labels[i][predict[i]] == 1 for i in range(len(predict))])\n",
    "            train_loss += losses.item()\n",
    "            train_total += labels.shape[0]\n",
    "            train_process += 1\n",
    "\n",
    "            print(\n",
    "                f\"{datetime.now().strftime('%Y/%m/%d %H:%M:%S')} \"\n",
    "                f\"Epoch: {epoch:03d} \"\n",
    "                f\"Time: {datetime.now().timestamp() - train_time:.2f} \"\n",
    "                f\"Process: {train_process / len(dataloader) * 100:.2f}% \"\n",
    "                f\"Accuracy: {train_accuracy / train_total * 100:.2f}% \"\n",
    "                f\"Loss: {train_loss:.3f}\",\n",
    "                end=\"\\r\"\n",
    "            )\n",
    "\n",
    "        train_accuracy_h.append(train_accuracy / train_total * 100)\n",
    "        train_loss_h.append(train_loss)\n",
    "\n",
    "        print()\n",
    "\n",
    "        # Early stop.\n",
    "        if train_accuracy / train_total > 99.99:\n",
    "            print(\"Early stopped.\")\n",
    "            break"
   ]
  },
  {
   "cell_type": "code",
   "execution_count": 102,
   "metadata": {},
   "outputs": [
    {
     "name": "stdout",
     "output_type": "stream",
     "text": [
      "2024/03/27 14:24:12 Epoch: 000 Time: 10.30 Process: 100.00% Accuracy: 15.56% Loss: 1051.329\n",
      "2024/03/27 14:24:22 Epoch: 001 Time: 10.12 Process: 100.00% Accuracy: 17.55% Loss: 1035.901\n",
      "2024/03/27 14:24:32 Epoch: 002 Time: 9.97 Process: 100.00% Accuracy: 20.61% Loss: 1011.878\n",
      "2024/03/27 14:24:42 Epoch: 003 Time: 10.07 Process: 100.00% Accuracy: 26.96% Loss: 950.809\n",
      "2024/03/27 14:24:52 Epoch: 004 Time: 9.90 Process: 100.00% Accuracy: 36.51% Loss: 866.718\n",
      "2024/03/27 14:25:02 Epoch: 005 Time: 10.22 Process: 100.00% Accuracy: 45.80% Loss: 752.545\n",
      "2024/03/27 14:25:12 Epoch: 006 Time: 10.05 Process: 100.00% Accuracy: 55.73% Loss: 624.405\n",
      "2024/03/27 14:25:22 Epoch: 007 Time: 9.70 Process: 100.00% Accuracy: 65.96% Loss: 471.245\n",
      "2024/03/27 14:25:32 Epoch: 008 Time: 9.76 Process: 100.00% Accuracy: 77.61% Loss: 323.372\n",
      "2024/03/27 14:25:41 Epoch: 009 Time: 9.53 Process: 100.00% Accuracy: 85.06% Loss: 212.717\n"
     ]
    }
   ],
   "source": [
    "train(epochs=epochs, model=model, optimizer=optimizer, loss=loss, dataloader=train_dl)"
   ]
  },
  {
   "cell_type": "code",
   "execution_count": 103,
   "metadata": {},
   "outputs": [
    {
     "name": "stdout",
     "output_type": "stream",
     "text": [
      "tensor([[3205, 1803,  451, 1091, 1119, 2464, 1735, 2044, 2747, 2680, 2331, 2331,\n",
      "         2331, 2331, 2331, 2331, 2331, 2331, 2331, 2331, 2331, 2331, 2331, 2331,\n",
      "         2331, 2331, 2331, 2331, 2331, 2331, 2331, 2331],\n",
      "        [ 105, 1015, 1226,   56, 1119, 1975,  690, 1632, 2459, 2680, 2331, 2331,\n",
      "         2331, 2331, 2331, 2331, 2331, 2331, 2331, 2331, 2331, 2331, 2331, 2331,\n",
      "         2331, 2331, 2331, 2331, 2331, 2331, 2331, 2331],\n",
      "        [1688,  240,  344, 2840, 2932, 3066, 2680, 2331, 2331, 2331, 2331, 2331,\n",
      "         2331, 2331, 2331, 2331, 2331, 2331, 2331, 2331, 2331, 2331, 2331, 2331,\n",
      "         2331, 2331, 2331, 2331, 2331, 2331, 2331, 2331],\n",
      "        [ 470, 3373,  704, 2932,  207, 3172, 2978, 1538, 1269, 3279, 1054,  379,\n",
      "         1421, 1632,  973, 2361, 2680, 2331, 2331, 2331, 2331, 2331, 2331, 2331,\n",
      "         2331, 2331, 2331, 2331, 2331, 2331, 2331, 2331],\n",
      "        [1964,  642, 1429, 1119, 1534, 1777, 3295,  662, 1119, 2793, 1595, 2190,\n",
      "         1060,  728, 1485, 1069, 1632, 1304, 3044, 2680, 2331, 2331, 2331, 2331,\n",
      "         2331, 2331, 2331, 2331, 2331, 2331, 2331, 2331],\n",
      "        [ 955, 2850,  142,  704, 1295, 3516, 1632, 1265, 1119,   60, 1803, 1632,\n",
      "         2243, 1934, 2923, 1119, 2902, 1749,  276, 3479,  118,   46, 1632, 2642,\n",
      "         2680, 2331, 2331, 2331, 2331, 2331, 2331, 2331],\n",
      "        [ 156, 2190,  623, 1575, 1632, 2178, 2236,  450, 1083,  805, 2680, 1119,\n",
      "         1538, 2850,  152, 2598, 1632, 2361, 1119, 3457, 3373,  704, 1269, 2294,\n",
      "         2461, 1138,  740, 2331, 2331, 2331, 2331, 2331],\n",
      "        [ 831,  403,   11, 3497, 2680, 1119, 1261,  831, 2314,  463, 1119, 2207,\n",
      "          128, 2932, 1651, 1632, 2241, 1119, 1433,  455, 2785, 2461, 3097,  457,\n",
      "         1119, 3631,  968, 2928, 1632, 3069, 3631, 2331]])\n",
      "tensor([[-1.3274e+00,  1.1018e+01, -2.6096e+00,  2.3288e+00, -1.3661e+00,\n",
      "         -1.2686e+00,  1.7072e-01, -1.6290e-02, -3.6915e+00, -8.5871e-01,\n",
      "         -9.6936e-01, -1.4371e+00],\n",
      "        [ 1.1571e+01,  3.7804e+00, -6.0960e+00, -3.7134e-01, -2.7183e+00,\n",
      "         -3.4908e+00, -5.6297e-01,  2.9253e+00,  4.7326e-01, -4.3637e+00,\n",
      "          1.1962e+00, -2.2931e+00],\n",
      "        [ 8.6643e+00,  2.1966e+00, -5.0873e+00,  1.7732e+00, -3.3996e+00,\n",
      "         -4.0992e+00,  7.3151e-01,  3.7069e+00,  6.5588e-01, -2.6554e+00,\n",
      "          1.1251e+00, -3.5139e+00],\n",
      "        [ 9.7303e-02, -3.5166e+00,  7.4446e-02, -2.9789e+00,  3.2892e+00,\n",
      "          9.7550e+00, -1.4950e+00, -4.7517e+00,  3.1173e+00, -5.5723e+00,\n",
      "          2.4953e+00, -6.0423e-01],\n",
      "        [ 5.6721e+00,  7.6315e+00, -1.1271e+00, -4.3763e+00, -5.6574e+00,\n",
      "          7.3204e-01,  4.6255e+00, -2.5923e+00, -1.6200e+00, -5.4806e+00,\n",
      "          2.6028e+00, -5.3553e-01],\n",
      "        [ 2.7553e+00,  3.7466e+00, -5.6309e+00,  6.2670e+00,  3.7069e+00,\n",
      "         -2.6939e+00, -1.3330e+00, -2.9308e+00, -9.5636e-01, -6.5755e-03,\n",
      "         -2.0729e+00, -5.2749e-01],\n",
      "        [-3.3226e+00,  3.7072e+00, -3.9673e+00, -1.1444e+00,  2.1608e-01,\n",
      "          2.5416e-01,  1.7102e+00, -1.3918e+00, -5.8960e-01, -3.6592e+00,\n",
      "          4.6054e+00,  3.2976e+00],\n",
      "        [ 5.4669e+00,  6.0187e+00, -5.2916e+00,  1.1317e+00, -6.3408e-01,\n",
      "         -1.2281e+00, -5.0233e-01, -1.0664e+00, -2.1186e-01,  5.2471e-01,\n",
      "          2.4178e+00, -6.7436e+00]], device='cuda:0', grad_fn=<AddmmBackward0>)\n",
      "tensor([[0., 1., 0., 0., 0., 0., 0., 0., 0., 0., 0., 0.],\n",
      "        [1., 0., 0., 0., 0., 0., 0., 0., 0., 0., 0., 0.],\n",
      "        [1., 0., 0., 0., 0., 0., 0., 0., 0., 0., 0., 0.],\n",
      "        [0., 0., 0., 0., 0., 1., 0., 0., 0., 0., 0., 0.],\n",
      "        [0., 1., 0., 0., 0., 0., 0., 0., 0., 0., 0., 0.],\n",
      "        [0., 0., 0., 1., 0., 0., 0., 0., 0., 0., 0., 0.],\n",
      "        [0., 0., 0., 0., 0., 0., 0., 0., 0., 0., 0., 1.],\n",
      "        [0., 1., 0., 0., 0., 0., 0., 0., 0., 0., 0., 0.]])\n"
     ]
    }
   ],
   "source": [
    "for i, j in train_dl:\n",
    "    print(i)\n",
    "    print(model(i.to(device)))\n",
    "    print(j)\n",
    "    break"
   ]
  },
  {
   "cell_type": "code",
   "execution_count": 194,
   "metadata": {},
   "outputs": [
    {
     "name": "stdout",
     "output_type": "stream",
     "text": [
      "[2979, 1119, 3060, 2331, 2331, 2331, 2331, 2331, 2331, 2331, 2331, 2331, 2331, 2331, 2331, 2331, 2331, 2331, 2331, 2331, 2331, 2331, 2331, 2331, 2331, 2331, 2331, 2331, 2331, 2331, 2331, 2331]\n"
     ]
    }
   ],
   "source": [
    "test = \"大方，性急\"\n",
    "temp = list(jieba.cut(test))\n",
    "temp = temp + [\"<PAD>\"] * (32 - len(temp))\n",
    "test = [data.w2i[x] if x in data.w2i else data.w2i[\"<PAD>\"] for x in temp][:32]\n",
    "print(test)"
   ]
  },
  {
   "cell_type": "code",
   "execution_count": 195,
   "metadata": {},
   "outputs": [],
   "source": [
    "test = torch.tensor([test])"
   ]
  },
  {
   "cell_type": "code",
   "execution_count": 196,
   "metadata": {},
   "outputs": [
    {
     "data": {
      "text/plain": [
       "Model(\n",
       "  (embedding): Embedding(3637, 64)\n",
       "  (lstm): LSTM(64, 256, num_layers=4, batch_first=True, dropout=0.5, bidirectional=True)\n",
       "  (linear): Linear(in_features=16384, out_features=12, bias=True)\n",
       ")"
      ]
     },
     "execution_count": 196,
     "metadata": {},
     "output_type": "execute_result"
    }
   ],
   "source": [
    "model.eval()"
   ]
  },
  {
   "cell_type": "code",
   "execution_count": 197,
   "metadata": {},
   "outputs": [],
   "source": [
    "result = model(test.to(device)).tolist()[0]\n",
    "print(result)"
   ]
  },
  {
   "cell_type": "code",
   "execution_count": 198,
   "metadata": {},
   "outputs": [
    {
     "name": "stdout",
     "output_type": "stream",
     "text": [
      "[1.0, 0.767, 0.0, 0.64, 0.203, 0.202, 0.495, 0.71, 0.385, 0.322, 0.467, 0.204]\n"
     ]
    }
   ],
   "source": [
    "# Normolization\n",
    "result = [x - min(result) for x in result]\n",
    "result = [x / max(result) for x in result]\n",
    "result = [round(x, 3) for x in result]\n",
    "\n",
    "print(result)"
   ]
  },
  {
   "cell_type": "code",
   "execution_count": 199,
   "metadata": {},
   "outputs": [
    {
     "data": {
      "text/plain": [
       "'牡羊'"
      ]
     },
     "execution_count": 199,
     "metadata": {},
     "output_type": "execute_result"
    }
   ],
   "source": [
    "classes[int(torch.argmax(torch.tensor(result)))]"
   ]
  },
  {
   "cell_type": "code",
   "execution_count": 200,
   "metadata": {},
   "outputs": [
    {
     "data": {
      "text/plain": [
       "{0: '牡羊',\n",
       " 1: '金牛',\n",
       " 2: '雙子',\n",
       " 3: '巨蠍',\n",
       " 4: '獅子',\n",
       " 5: '處女',\n",
       " 6: '天秤',\n",
       " 7: '天蠍',\n",
       " 8: '射手',\n",
       " 9: '魔羯',\n",
       " 10: '水瓶',\n",
       " 11: '雙魚'}"
      ]
     },
     "execution_count": 200,
     "metadata": {},
     "output_type": "execute_result"
    }
   ],
   "source": [
    "classes"
   ]
  },
  {
   "cell_type": "code",
   "execution_count": 201,
   "metadata": {},
   "outputs": [],
   "source": [
    "import matplotlib.pyplot as plt\n",
    "import numpy as np"
   ]
  },
  {
   "cell_type": "code",
   "execution_count": 202,
   "metadata": {},
   "outputs": [
    {
     "data": {
      "image/png": "[encoded data removed]",
      "text/plain": [
       "<Figure size 500x500 with 1 Axes>"
      ]
     },
     "metadata": {},
     "output_type": "display_data"
    }
   ],
   "source": [
    "angles_A = np.linspace(start=0, stop=2*np.pi, num=len(result)+1, endpoint=True)\n",
    "values_A = np.concatenate((result, [result[0]]))\n",
    "\n",
    "fig, ax = plt.subplots(1, 1, figsize=(5, 5), subplot_kw={'projection': 'polar'})\n",
    "ax.plot(angles_A, values_A, 'o-', color=\"blue\", label=\"A\")\n",
    "\n",
    "ax.fill(angles_A, values_A, alpha=0.3, color=\"blue\")\n",
    "ax.set_thetagrids(angles_A[:-1] * 180 / np.pi, range(12), fontsize=15)\n",
    "ax.set_theta_zero_location('N')"
   ]
  },
  {
   "cell_type": "code",
   "execution_count": null,
   "metadata": {},
   "outputs": [],
   "source": []
  }
 ],
 "metadata": {
  "kernelspec": {
   "display_name": "pytorch",
   "language": "python",
   "name": "python3"
  },
  "language_info": {
   "codemirror_mode": {
    "name": "ipython",
    "version": 3
   },
   "file_extension": ".py",
   "mimetype": "text/x-python",
   "name": "python",
   "nbconvert_exporter": "python",
   "pygments_lexer": "ipython3",
   "version": "3.10.13"
  }
 },
 "nbformat": 4,
 "nbformat_minor": 2
}
