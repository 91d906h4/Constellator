{
 "cells": [
  {
   "cell_type": "code",
   "execution_count": 304,
   "metadata": {},
   "outputs": [],
   "source": [
    "import torch\n",
    "import jieba\n",
    "import random\n",
    "\n",
    "import numpy as np\n",
    "\n",
    "from data import Data\n",
    "from torch import nn, optim\n",
    "from datetime import datetime\n",
    "from torchsummary import summary\n",
    "from torch.utils.data import DataLoader, Dataset"
   ]
  },
  {
   "cell_type": "code",
   "execution_count": 305,
   "metadata": {},
   "outputs": [],
   "source": [
    "# Set random seed.\n",
    "random_seed = 0\n",
    "\n",
    "random.seed(random_seed)\n",
    "np.random.seed(random_seed)\n",
    "torch.manual_seed(random_seed)\n",
    "torch.cuda.manual_seed(random_seed)\n",
    "torch.backends.cudnn.benchmark = False\n",
    "torch.backends.cudnn.deterministic = True"
   ]
  },
  {
   "cell_type": "code",
   "execution_count": 306,
   "metadata": {},
   "outputs": [
    {
     "name": "stdout",
     "output_type": "stream",
     "text": [
      "cuda:0\n"
     ]
    }
   ],
   "source": [
    "device = \"cpu\"\n",
    "\n",
    "if torch.cuda.is_available():\n",
    "    device = \"cuda:0\"\n",
    "\n",
    "print(device)"
   ]
  },
  {
   "cell_type": "code",
   "execution_count": 307,
   "metadata": {},
   "outputs": [],
   "source": [
    "classes = {\n",
    "    0: \"牡羊\",\n",
    "    1: \"金牛\",\n",
    "    2: \"雙子\",\n",
    "    3: \"巨蠍\",\n",
    "    4: \"獅子\",\n",
    "    5: \"處女\",\n",
    "    6: \"天秤\",\n",
    "    7: \"天蠍\",\n",
    "    8: \"射手\",\n",
    "    9: \"魔羯\",\n",
    "    10: \"水瓶\",\n",
    "    11: \"雙魚\",\n",
    "}"
   ]
  },
  {
   "cell_type": "code",
   "execution_count": 308,
   "metadata": {},
   "outputs": [
    {
     "name": "stdout",
     "output_type": "stream",
     "text": [
      "Cleaning completed.\n",
      "ToDataset completed.\n",
      "Argumantation completed.\n",
      "Tokenlization completed.\n",
      "Padding completed.\n",
      "Token2id completed.\n",
      "Process completed.\n"
     ]
    }
   ],
   "source": [
    "raw = {i: open(f\"./dataset/{classes[i]}.txt\", encoding=\"utf-8\").read() for i in range(12)}\n",
    "data = Data(data=raw, padding_length=32)\n",
    "\n",
    "train_raw = data.get(\"data\")"
   ]
  },
  {
   "cell_type": "code",
   "execution_count": 309,
   "metadata": {},
   "outputs": [
    {
     "data": {
      "text/plain": [
       "6327"
      ]
     },
     "execution_count": 309,
     "metadata": {},
     "output_type": "execute_result"
    }
   ],
   "source": [
    "len(train_raw)"
   ]
  },
  {
   "cell_type": "code",
   "execution_count": 310,
   "metadata": {},
   "outputs": [
    {
     "data": {
      "text/plain": [
       "[[2187,\n",
       "  3206,\n",
       "  1291,\n",
       "  4599,\n",
       "  3027,\n",
       "  2519,\n",
       "  1688,\n",
       "  1986,\n",
       "  5219,\n",
       "  4678,\n",
       "  2774,\n",
       "  2774,\n",
       "  2774,\n",
       "  2774,\n",
       "  2774,\n",
       "  2774,\n",
       "  2774,\n",
       "  2774,\n",
       "  2774,\n",
       "  2774,\n",
       "  2774,\n",
       "  2774,\n",
       "  2774,\n",
       "  2774,\n",
       "  2774,\n",
       "  2774,\n",
       "  2774,\n",
       "  2774,\n",
       "  2774,\n",
       "  2774,\n",
       "  2774,\n",
       "  2774],\n",
       " [1, 0, 0, 0, 0, 0, 0, 0, 0, 0, 0, 0]]"
      ]
     },
     "execution_count": 310,
     "metadata": {},
     "output_type": "execute_result"
    }
   ],
   "source": [
    "train_raw[0]"
   ]
  },
  {
   "cell_type": "code",
   "execution_count": 311,
   "metadata": {},
   "outputs": [],
   "source": [
    "class CreateDataset(Dataset):\n",
    "    def __init__(self, data: list, label: list):\n",
    "        self.data = data\n",
    "        self.label = label\n",
    "\n",
    "    def __getitem__(self, index):\n",
    "        return torch.tensor(self.data[index]), torch.tensor(self.label[index], dtype=torch.float)\n",
    "\n",
    "    def __len__(self):\n",
    "        return len(self.label)"
   ]
  },
  {
   "cell_type": "code",
   "execution_count": 312,
   "metadata": {},
   "outputs": [],
   "source": [
    "d, l = [], []\n",
    "\n",
    "for i, j in train_raw:\n",
    "    d.append(i); l.append(j)\n",
    "\n",
    "train_ds = CreateDataset(d, l)"
   ]
  },
  {
   "cell_type": "code",
   "execution_count": 313,
   "metadata": {},
   "outputs": [
    {
     "data": {
      "text/plain": [
       "(tensor([2187, 3206, 1291, 4599, 3027, 2519, 1688, 1986, 5219, 4678, 2774, 2774,\n",
       "         2774, 2774, 2774, 2774, 2774, 2774, 2774, 2774, 2774, 2774, 2774, 2774,\n",
       "         2774, 2774, 2774, 2774, 2774, 2774, 2774, 2774]),\n",
       " tensor([1., 0., 0., 0., 0., 0., 0., 0., 0., 0., 0., 0.]))"
      ]
     },
     "execution_count": 313,
     "metadata": {},
     "output_type": "execute_result"
    }
   ],
   "source": [
    "train_ds[1]"
   ]
  },
  {
   "cell_type": "code",
   "execution_count": 314,
   "metadata": {},
   "outputs": [],
   "source": [
    "train_dl = DataLoader(train_ds, batch_size=8, shuffle=True)"
   ]
  },
  {
   "cell_type": "code",
   "execution_count": 315,
   "metadata": {},
   "outputs": [],
   "source": [
    "class Model(nn.Module):\n",
    "    def __init__(self) -> None:\n",
    "        super(Model, self).__init__()\n",
    "        self.embedding = nn.Embedding(data.get(\"token_len\"), 64)\n",
    "        self.lstm = nn.LSTM(\n",
    "            input_size=64,\n",
    "            hidden_size=256,\n",
    "            num_layers=4,\n",
    "            dropout=0.5,\n",
    "            batch_first=True,\n",
    "            bidirectional=True\n",
    "        )\n",
    "        self.linear = nn.Linear(16384, 12)\n",
    "\n",
    "    def forward(self, x: torch.Tensor):\n",
    "        x = self.embedding(x)\n",
    "        x, _ = self.lstm(x)\n",
    "\n",
    "        return x[:, :, :256] + x[:, :, :256]\n",
    "\n",
    "        x = x.reshape(x.size(0), -1)\n",
    "\n",
    "        x = self.linear(x)\n",
    "\n",
    "        return x"
   ]
  },
  {
   "cell_type": "code",
   "execution_count": 316,
   "metadata": {},
   "outputs": [],
   "source": [
    "class Attn(nn.Module):\n",
    "    def __init__(self, h_dim):\n",
    "        super(Attn, self).__init__()\n",
    "        self.h_dim = h_dim\n",
    "        self.main = nn.Sequential(\n",
    "            nn.Linear(h_dim, 24),\n",
    "            nn.ReLU(True),\n",
    "            nn.Linear(24,1)\n",
    "        )\n",
    "\n",
    "    def forward(self, encoder_outputs):\n",
    "        b_size = encoder_outputs.size(0)\n",
    "        attn_ene = self.main(encoder_outputs.reshape(-1, self.h_dim)) # (b, s, h) -> (b * s, 1)\n",
    "        return torch.softmax(attn_ene.reshape(b_size, -1), dim=1).unsqueeze(2) # (b*s, 1) -> (b, s, 1)"
   ]
  },
  {
   "cell_type": "code",
   "execution_count": 317,
   "metadata": {},
   "outputs": [],
   "source": [
    "class AttentionClassifier(nn.Module):\n",
    "    def __init__(self, h_dim, c_num):\n",
    "        super(AttentionClassifier, self).__init__()\n",
    "        self.attn = Attn(h_dim)\n",
    "        self.main = nn.Linear(h_dim, c_num)\n",
    "\n",
    "\n",
    "    def forward(self, encoder_outputs):\n",
    "        attns = self.attn(encoder_outputs) #(b, s, 1)\n",
    "        feats = (encoder_outputs * attns).sum(dim=1) # (b, s, h) -> (b, h)\n",
    "        return torch.log_softmax(self.main(feats),dim=1), attns"
   ]
  },
  {
   "cell_type": "code",
   "execution_count": 318,
   "metadata": {},
   "outputs": [],
   "source": [
    "model = Model().to(device=device)\n",
    "classifier = AttentionClassifier(256, 12).to(device=device)"
   ]
  },
  {
   "cell_type": "code",
   "execution_count": 319,
   "metadata": {},
   "outputs": [],
   "source": [
    "epochs = 30\n",
    "optimizer = optim.SGD(model.parameters(), lr=0.1)\n",
    "loss = nn.CrossEntropyLoss()"
   ]
  },
  {
   "cell_type": "code",
   "execution_count": 320,
   "metadata": {},
   "outputs": [],
   "source": [
    "# Traning history data.\n",
    "train_accuracy_h = []\n",
    "train_loss_h = []\n",
    "validate_accuracy_h = []"
   ]
  },
  {
   "cell_type": "code",
   "execution_count": 321,
   "metadata": {},
   "outputs": [],
   "source": [
    "def train(epochs: int, model: nn.Module, optimizer: optim.Optimizer, loss: nn.CrossEntropyLoss, dataloader: DataLoader):\n",
    "    # Set model to training mode.\n",
    "    model.train()\n",
    "    classifier.train()\n",
    "\n",
    "    for epoch in range(epochs):\n",
    "\n",
    "        train_accuracy = 0\n",
    "        train_loss = 0\n",
    "        train_total = 0\n",
    "        train_process = 0\n",
    "        train_time = datetime.now().timestamp()\n",
    "\n",
    "        for texts, labels in dataloader:\n",
    "            texts: torch.Tensor\n",
    "            labels: torch.Tensor\n",
    "\n",
    "            texts = texts.to(device)\n",
    "            labels = labels.to(device)\n",
    "\n",
    "            outputs: torch.Tensor = model(texts)\n",
    "            outputs, atten = classifier(outputs)\n",
    "            losses: torch.Tensor = loss(outputs, labels)\n",
    "\n",
    "            # optimizer.zero_grad()\n",
    "            for param in model.parameters(): param.grad = None\n",
    "\n",
    "            # Backpropagation.\n",
    "            losses.backward()\n",
    "\n",
    "            # Update parameters.\n",
    "            optimizer.step()\n",
    "\n",
    "            _, predict = torch.max(outputs, 1)\n",
    "            train_accuracy += sum([labels[i][predict[i]] == 1 for i in range(len(predict))])\n",
    "            train_loss += losses.item()\n",
    "            train_total += labels.shape[0]\n",
    "            train_process += 1\n",
    "\n",
    "            print(\n",
    "                f\"{datetime.now().strftime('%Y/%m/%d %H:%M:%S')} \"\n",
    "                f\"Epoch: {epoch:03d} \"\n",
    "                f\"Time: {datetime.now().timestamp() - train_time:.2f} \"\n",
    "                f\"Process: {train_process / len(dataloader) * 100:.2f}% \"\n",
    "                f\"Accuracy: {train_accuracy / train_total * 100:.2f}% \"\n",
    "                f\"Loss: {train_loss:.3f}\",\n",
    "                end=\"\\r\"\n",
    "            )\n",
    "\n",
    "        train_accuracy_h.append(train_accuracy / train_total * 100)\n",
    "        train_loss_h.append(train_loss)\n",
    "\n",
    "        print()\n",
    "\n",
    "        # Early stop.\n",
    "        if train_accuracy / train_total > 0.99:\n",
    "            print(\"Early stopped.\")\n",
    "            break\n",
    "\n",
    "    # Set model to evaluation mode.\n",
    "    model.eval()\n",
    "    classifier.eval()"
   ]
  },
  {
   "cell_type": "code",
   "execution_count": 322,
   "metadata": {},
   "outputs": [
    {
     "name": "stdout",
     "output_type": "stream",
     "text": [
      "2024/04/01 13:48:00 Epoch: 000 Time: 14.58 Process: 100.00% Accuracy: 10.23% Loss: 1962.374\n",
      "2024/04/01 13:48:14 Epoch: 001 Time: 14.48 Process: 100.00% Accuracy: 10.83% Loss: 1957.285\n",
      "2024/04/01 13:48:29 Epoch: 002 Time: 14.38 Process: 100.00% Accuracy: 11.77% Loss: 1953.651\n",
      "2024/04/01 13:48:44 Epoch: 003 Time: 15.03 Process: 100.00% Accuracy: 12.71% Loss: 1949.043\n",
      "2024/04/01 13:48:58 Epoch: 004 Time: 14.26 Process: 100.00% Accuracy: 14.27% Loss: 1927.798\n",
      "2024/04/01 13:49:12 Epoch: 005 Time: 14.31 Process: 100.00% Accuracy: 16.72% Loss: 1879.079\n",
      "2024/04/01 13:49:26 Epoch: 006 Time: 14.24 Process: 100.00% Accuracy: 21.59% Loss: 1781.803\n",
      "2024/04/01 13:49:41 Epoch: 007 Time: 14.38 Process: 100.00% Accuracy: 26.81% Loss: 1672.013\n",
      "2024/04/01 13:49:55 Epoch: 008 Time: 14.25 Process: 100.00% Accuracy: 31.04% Loss: 1576.924\n",
      "2024/04/01 13:50:10 Epoch: 009 Time: 14.51 Process: 100.00% Accuracy: 35.50% Loss: 1481.259\n",
      "2024/04/01 13:50:24 Epoch: 010 Time: 14.34 Process: 100.00% Accuracy: 41.82% Loss: 1339.498\n",
      "2024/04/01 13:50:39 Epoch: 011 Time: 15.04 Process: 100.00% Accuracy: 49.15% Loss: 1194.149\n",
      "2024/04/01 13:50:54 Epoch: 012 Time: 15.31 Process: 100.00% Accuracy: 56.71% Loss: 1028.265\n",
      "2024/04/01 13:51:09 Epoch: 013 Time: 14.44 Process: 100.00% Accuracy: 65.81% Loss: 832.592\n",
      "2024/04/01 13:51:23 Epoch: 014 Time: 14.33 Process: 100.00% Accuracy: 73.78% Loss: 654.359\n",
      "2024/04/01 13:51:38 Epoch: 015 Time: 14.61 Process: 100.00% Accuracy: 80.83% Loss: 501.055\n",
      "2024/04/01 13:51:53 Epoch: 016 Time: 15.12 Process: 100.00% Accuracy: 87.07% Loss: 347.474\n",
      "2024/04/01 13:52:07 Epoch: 017 Time: 14.39 Process: 100.00% Accuracy: 90.04% Loss: 272.114\n",
      "2024/04/01 13:52:22 Epoch: 018 Time: 14.78 Process: 100.00% Accuracy: 92.75% Loss: 205.873\n",
      "2024/04/01 13:52:36 Epoch: 019 Time: 14.15 Process: 100.00% Accuracy: 94.71% Loss: 153.079\n",
      "2024/04/01 13:52:50 Epoch: 020 Time: 14.19 Process: 100.00% Accuracy: 95.65% Loss: 124.529\n",
      "2024/04/01 13:53:05 Epoch: 021 Time: 14.89 Process: 100.00% Accuracy: 97.06% Loss: 88.059\n",
      "2024/04/01 13:53:20 Epoch: 022 Time: 14.45 Process: 100.00% Accuracy: 96.41% Loss: 96.893\n",
      "2024/04/01 13:53:34 Epoch: 023 Time: 14.38 Process: 100.00% Accuracy: 97.71% Loss: 64.360\n",
      "2024/04/01 13:53:49 Epoch: 024 Time: 14.54 Process: 100.00% Accuracy: 98.58% Loss: 41.838\n",
      "2024/04/01 13:54:04 Epoch: 025 Time: 15.07 Process: 100.00% Accuracy: 97.47% Loss: 66.934\n",
      "2024/04/01 13:54:19 Epoch: 026 Time: 15.64 Process: 100.00% Accuracy: 98.42% Loss: 45.235\n",
      "2024/04/01 13:54:34 Epoch: 027 Time: 14.67 Process: 100.00% Accuracy: 99.26% Loss: 20.560\n",
      "Early stopped.\n"
     ]
    }
   ],
   "source": [
    "train(epochs=epochs, model=model, optimizer=optimizer, loss=loss, dataloader=train_dl)"
   ]
  },
  {
   "cell_type": "code",
   "execution_count": 323,
   "metadata": {},
   "outputs": [
    {
     "name": "stdout",
     "output_type": "stream",
     "text": [
      "tensor([[3478, 4316, 1468, 3219, 1986, 2474, 5211, 1283, 4316, 2061, 1717, 4678,\n",
      "         2774, 2774, 2774, 2774, 2774, 2774, 2774, 2774, 2774, 2774, 2774, 2774,\n",
      "         2774, 2774, 2774, 2774, 2774, 2774, 2774, 2774],\n",
      "        [4264, 1986, 3749, 1283, 4248, 4647, 1304, 5211, 2043, 1823,    4, 1283,\n",
      "         1207, 1555, 1892, 4678, 2774, 2774, 2774, 2774, 2774, 2774, 2774, 2774,\n",
      "         2774, 2774, 2774, 2774, 2774, 2774, 2774, 2774],\n",
      "        [1612, 5211, 3187, 1283, 2988, 4042,  755, 5433, 1516, 4987, 5047, 5211,\n",
      "         2117, 3479, 5433, 3685, 1986, 4940, 4678, 2774, 2774, 2774, 2774, 2774,\n",
      "         2774, 2774, 2774, 2774, 2774, 2774, 2774, 2774],\n",
      "        [4985, 5210, 1833, 1986, 5206, 4079, 5232, 3025, 2612, 5211, 2001, 3454,\n",
      "         2148,  816, 1986, 3998, 5232, 2348, 5211, 4554, 4630,   61, 2164, 5320,\n",
      "         2261, 3957, 4678, 2774, 2774, 2774, 2774, 2774],\n",
      "        [ 979, 4264, 1986, 4418, 5211, 4562,  487, 1264, 4136, 4857, 1986, 5330,\n",
      "          862, 5211, 3449, 2817, 2935, 5211, 1254, 5458,  405, 3256, 1793, 1986,\n",
      "         3149, 4450, 5211,  511,  535, 4332, 1986, 5101],\n",
      "        [4593, 2135, 4444, 5211,  954,  523, 4081, 5211, 2426, 1765, 1257, 1784,\n",
      "         5377, 5211,  967, 5042, 4678, 2774, 2774, 2774, 2774, 2774, 2774, 2774,\n",
      "         2774, 2774, 2774, 2774, 2774, 2774, 2774, 2774],\n",
      "        [1637, 2599, 3894,  307, 3952, 3206, 5101, 5211, 2202, 4870, 3686, 1784,\n",
      "         2202, 4870, 5211, 2739, 1491,  953, 1762, 3936,  741, 3691, 1986, 4100,\n",
      "         5232, 1573, 4678, 2774, 2774, 2774, 2774, 2774],\n",
      "        [3774, 4314, 2736, 2187, 1936, 1919, 5232,  661, 1986, 5101, 4678, 2774,\n",
      "         2774, 2774, 2774, 2774, 2774, 2774, 2774, 2774, 2774, 2774, 2774, 2774,\n",
      "         2774, 2774, 2774, 2774, 2774, 2774, 2774, 2774]])\n",
      "tensor([[[-0.3811,  0.5362, -0.0385,  ..., -0.3272, -0.5834,  0.1501],\n",
      "         [-0.3423,  0.9870,  0.0948,  ..., -0.6603, -1.0959, -0.3526],\n",
      "         [-0.2134,  1.3171,  0.3666,  ..., -0.9160, -1.5197, -1.1507],\n",
      "         ...,\n",
      "         [ 0.6981,  1.8717, -1.9087,  ...,  1.9572,  1.9763,  1.7722],\n",
      "         [ 1.3273,  1.8385, -1.8929,  ...,  1.9468,  1.9674,  1.8192],\n",
      "         [ 1.6281,  1.7696, -1.8467,  ...,  1.9161,  1.9427,  1.7911]],\n",
      "\n",
      "        [[ 0.0956,  0.8820, -0.3892,  ..., -0.0432,  0.6420, -0.5532],\n",
      "         [ 0.5923,  1.4401, -0.5934,  ...,  0.5149,  1.2932, -1.0239],\n",
      "         [ 1.0563,  1.6759, -0.3343,  ...,  0.8669,  1.6042, -1.3560],\n",
      "         ...,\n",
      "         [ 1.1108,  1.9538, -1.8244,  ..., -1.5851,  1.6986, -1.9753],\n",
      "         [ 1.1761,  1.9563, -1.8533,  ..., -1.2002,  1.9044, -1.9587],\n",
      "         [ 1.2573,  1.9072, -1.7579,  ..., -0.0216,  1.9191, -1.9118]],\n",
      "\n",
      "        [[-0.3903,  0.3247, -0.1229,  ..., -0.3426, -0.1059,  0.4337],\n",
      "         [-0.3234,  0.3656, -0.0659,  ..., -0.6494, -0.1835,  0.8148],\n",
      "         [-0.2237,  0.3319,  0.4387,  ..., -0.8371, -0.5932,  1.1068],\n",
      "         ...,\n",
      "         [-0.2440,  0.3074,  1.7332,  ..., -1.8908, -1.8923,  1.8393],\n",
      "         [-0.2364,  0.3058,  1.7293,  ..., -1.8796, -1.8689,  1.8188],\n",
      "         [-0.2139,  0.2578,  1.7015,  ..., -1.8439, -1.8116,  1.7594]],\n",
      "\n",
      "        ...,\n",
      "\n",
      "        [[-0.2473, -0.3239,  0.4243,  ..., -0.1842, -0.5395, -0.8258],\n",
      "         [-0.1465, -0.8451,  0.9172,  ..., -0.0993, -1.1517, -1.5188],\n",
      "         [-0.0749, -1.4515,  1.2917,  ..., -0.0555, -1.6227, -1.8286],\n",
      "         ...,\n",
      "         [-0.1626,  0.4808, -0.0825,  ..., -1.0574, -1.9789, -1.9918],\n",
      "         [-0.1940,  1.5040, -1.1690,  ..., -1.0089, -1.9691, -1.9877],\n",
      "         [-0.2200,  1.7849, -1.5645,  ..., -0.8856, -1.9380, -1.9755]],\n",
      "\n",
      "        [[ 0.6291,  0.8286,  0.2900,  ..., -0.3593,  0.6738, -0.8641],\n",
      "         [ 1.2932,  1.4317,  0.9623,  ..., -0.4559,  1.3231, -1.4686],\n",
      "         [ 1.5970,  1.6982,  1.4424,  ..., -0.7631,  1.6179, -1.7513],\n",
      "         ...,\n",
      "         [ 1.9023,  1.7615, -1.8497,  ...,  1.9534,  1.9337,  1.8684],\n",
      "         [ 1.8945,  1.7133, -1.8302,  ...,  1.9412,  1.9080,  1.8415],\n",
      "         [ 1.8718,  1.6260, -1.7697,  ...,  1.9077,  1.8418,  1.7692]],\n",
      "\n",
      "        [[-0.3778,  0.2367,  0.0105,  ..., -0.3307, -0.7949,  0.5655],\n",
      "         [-0.2219,  0.2049,  0.5311,  ..., -0.8088, -1.2898,  1.0267],\n",
      "         [-0.1329,  0.1629,  1.0860,  ..., -1.1388, -1.6106,  1.3817],\n",
      "         ...,\n",
      "         [-0.1516,  0.1729,  1.6173,  ..., -1.8199, -1.8849,  1.7822],\n",
      "         [-0.1502,  0.1661,  1.6172,  ..., -1.8085, -1.8656,  1.7714],\n",
      "         [-0.1416,  0.1178,  1.6100,  ..., -1.7723, -1.8156,  1.7339]]],\n",
      "       device='cuda:0', grad_fn=<AddBackward0>)\n",
      "tensor([[0., 0., 0., 0., 1., 0., 0., 0., 0., 0., 0., 0.],\n",
      "        [0., 0., 0., 0., 0., 1., 0., 0., 0., 0., 0., 0.],\n",
      "        [0., 0., 1., 0., 0., 0., 0., 0., 0., 0., 0., 0.],\n",
      "        [0., 0., 0., 0., 0., 0., 0., 0., 0., 0., 1., 0.],\n",
      "        [0., 1., 0., 0., 0., 0., 0., 0., 0., 0., 0., 0.],\n",
      "        [0., 0., 0., 0., 0., 1., 0., 0., 0., 0., 0., 0.],\n",
      "        [0., 0., 0., 1., 0., 0., 0., 0., 0., 0., 0., 0.],\n",
      "        [0., 0., 1., 0., 0., 0., 0., 0., 0., 0., 0., 0.]])\n"
     ]
    }
   ],
   "source": [
    "for i, j in train_dl:\n",
    "    print(i)\n",
    "    print(model(i.to(device)))\n",
    "    print(j)\n",
    "    break"
   ]
  },
  {
   "cell_type": "code",
   "execution_count": 586,
   "metadata": {},
   "outputs": [],
   "source": [
    "testset = [\n",
    "    \"勇敢無畏，充滿了活力和冒險精神，他們喜歡追求挑戰，敢於冒險，常常是行動派的領導者。\",\n",
    "    \"穩重可靠，以堅韌的意志力和耐心著稱，他們注重安全和舒適，並對物質生活有著強烈的執著。\",\n",
    "    \"機智聰明，好奇心旺盛，喜歡交際和表達自己，具有多才多藝的特質，常常充滿了靈活的思維和活力。\",\n",
    "    \"情感豐富，善解人意，對家庭和親密關係非常重視，他們總是充滿了溫柔和關懷，是很好的傾聽者和支持者。\",\n",
    "    \"自信大方，追求著成為焦點的慾望，他們充滿了熱情和活力，喜歡引領和影響身邊的人，時常展現出優越感和領導能力。\",\n",
    "    \"細心謹慎，追求完美，他們善於分析和解決問題，注重細節和有組織性，常常是值得信賴的夥伴和顧問。\",\n",
    "    \"追求和諧，優雅而公正，他們注重平衡和公平，善於溝通協調，是很好的調解者和中介者。\",\n",
    "    \"神秘內斂，充滿了熱情和直覺，他們擁有強烈的意志力和洞察力，常常是充滿挑戰性和魅力的個體。\",\n",
    "    \"自由奔放，熱愛冒險和探索，他們追求著廣闊的視野和新鮮的體驗，時常充滿了樂觀和幽默。\",\n",
    "    \"勤奮負責，追求事業成功和社會地位，他們具有堅毅的意志力和耐心，常常是穩健和實際的決策者。\",\n",
    "    \"獨立思考，充滿了理想主義和創意，他們追求著獨特的生活方式和社會價值觀，常常是前衛和不拘一格的個體。\",\n",
    "    \"敏感善良，充滿了同情心和想像力，他們常常是理想主義者和夢想家，追求著內心的情感和精神實踐。\",\n",
    "    \"勇敢無畏，充滿活力，喜歡追求挑戰，常常是行動派的領導者。\",\n",
    "    \"穩重可靠，堅韌耐心，注重安全舒適，對物質生活有強烈執著。\",\n",
    "    \"機智聰明，好奇心旺盛，善於交際表達，充滿靈活思維和活力。\",\n",
    "    \"情感豐富，善解人意，重視家庭和親密關係，溫柔關懷，傾聽支持者。\",\n",
    "    \"自信大方，追求成為焦點，充滿熱情活力，喜歡引領影響身邊的人。\",\n",
    "    \"細心謹慎，追求完美，善於分析解決問題，注重細節有組織性。\",\n",
    "    \"追求和諧，優雅公正，注重平衡公平，善於溝通協調。\",\n",
    "    \"神秘內斂，熱情直覺，意志力洞察力強，充滿挑戰性和魅力。\",\n",
    "    \"自由奔放，熱愛冒險探索，追求廣闊視野和新鮮體驗，樂觀幽默。\",\n",
    "    \"勤奮負責，追求事業成功社會地位，具堅毅意志力和耐心，穩健決策者。\",\n",
    "    \"獨立思考，理想主義創意，追求獨特生活方式和價值觀，前衛不拘一格。\",\n",
    "    \"敏感善良，同情心想像力豐富，理想主義夢想家，追求內心情感精神實踐。\",\n",
    "    \"勇敢果敢，充滿活力，愛冒險。\",\n",
    "    \"穩重堅定，堅持自我價值觀。\",\n",
    "    \"靈活機智，善於溝通交際。\",\n",
    "    \"情感豐富，家庭意識強。\",\n",
    "    \"自信領導，熱情奔放。\",\n",
    "    \"細心謹慎，追求完美。\",\n",
    "    \"追求和諧，公正公平。\",\n",
    "    \"神秘敏感，探索深度。\",\n",
    "    \"自由探險，樂觀向上。\",\n",
    "    \"勤奮穩健，追求成功。\",\n",
    "    \"獨立創新，理想主義者。\",\n",
    "    \"敏感浪漫，夢想家。\",\n",
    "]\n",
    "\n",
    "answare = [\n",
    "    '牡羊', '金牛', '雙子', '巨蠍', '獅子', '處女', '天秤', '天蠍', '射手', '魔羯', '水瓶', '雙魚',\n",
    "    '牡羊', '金牛', '雙子', '巨蠍', '獅子', '處女', '天秤', '天蠍', '射手', '魔羯', '水瓶', '雙魚',\n",
    "    '牡羊', '金牛', '雙子', '巨蠍', '獅子', '處女', '天秤', '天蠍', '射手', '魔羯', '水瓶', '雙魚',\n",
    "]"
   ]
  },
  {
   "cell_type": "code",
   "execution_count": 587,
   "metadata": {},
   "outputs": [],
   "source": [
    "def process(testset: list) -> torch.Tensor:\n",
    "    result = []\n",
    "\n",
    "    for line in testset:\n",
    "        temp = jieba.lcut(line)\n",
    "        temp = temp + [\"<PAD>\"] * (32 - len(temp))\n",
    "        temp = [data.w2i[x] if x in data.w2i else data.w2i[\"<PAD>\"] for x in temp][:32]\n",
    "        result.append(temp)\n",
    "\n",
    "    return torch.tensor(result)"
   ]
  },
  {
   "cell_type": "code",
   "execution_count": 588,
   "metadata": {},
   "outputs": [],
   "source": [
    "test = process(testset)"
   ]
  },
  {
   "cell_type": "code",
   "execution_count": 589,
   "metadata": {},
   "outputs": [
    {
     "data": {
      "text/plain": [
       "AttentionClassifier(\n",
       "  (attn): Attn(\n",
       "    (main): Sequential(\n",
       "      (0): Linear(in_features=256, out_features=24, bias=True)\n",
       "      (1): ReLU(inplace=True)\n",
       "      (2): Linear(in_features=24, out_features=1, bias=True)\n",
       "    )\n",
       "  )\n",
       "  (main): Linear(in_features=256, out_features=12, bias=True)\n",
       ")"
      ]
     },
     "execution_count": 589,
     "metadata": {},
     "output_type": "execute_result"
    }
   ],
   "source": [
    "model.eval()\n",
    "classifier.eval()"
   ]
  },
  {
   "cell_type": "code",
   "execution_count": 590,
   "metadata": {},
   "outputs": [
    {
     "name": "stdout",
     "output_type": "stream",
     "text": [
      "tensor([[-1.3118e-03, -8.5307e+00, -8.7041e+00, -1.0674e+01, -1.0956e+01,\n",
      "         -1.1292e+01, -9.7097e+00, -8.9563e+00, -8.4886e+00, -1.1470e+01,\n",
      "         -8.0316e+00, -8.7175e+00],\n",
      "        [-6.1061e+00, -3.8916e+00, -9.0758e+00, -5.2224e+00, -9.0102e+00,\n",
      "         -6.7115e+00, -8.1034e+00, -8.5225e+00, -5.4397e+00, -3.7927e-02,\n",
      "         -5.8858e+00, -9.1551e+00],\n",
      "        [-7.7672e+00, -6.9246e+00, -5.6723e-01, -8.1303e+00, -8.7446e-01,\n",
      "         -5.0040e+00, -6.6389e+00, -7.2825e+00, -6.1745e+00, -7.2847e+00,\n",
      "         -6.6214e+00, -6.6369e+00],\n",
      "        [-7.1063e+00, -5.8245e+00, -7.7320e+00, -2.9614e-02, -8.9680e+00,\n",
      "         -5.3675e+00, -5.6477e+00, -7.2756e+00, -6.9202e+00, -4.3879e+00,\n",
      "         -6.2086e+00, -7.5436e+00],\n",
      "        [-1.6927e+00, -3.8456e+00, -3.9861e+00, -4.8882e+00, -3.5477e+00,\n",
      "         -4.8824e+00, -6.5436e+00, -6.6160e-01, -1.6271e+00, -6.1652e+00,\n",
      "         -4.8146e+00, -4.8335e+00],\n",
      "        [-7.6262e+00, -3.9389e-02, -8.7388e+00, -8.2527e+00, -8.7355e+00,\n",
      "         -7.2432e+00, -9.1646e+00, -1.1748e+01, -9.1801e+00, -7.3583e+00,\n",
      "         -3.3313e+00, -8.3414e+00],\n",
      "        [-1.1067e+01, -9.9500e+00, -8.8642e+00, -1.0444e+01, -8.7871e+00,\n",
      "         -9.7903e+00, -1.3625e-03, -1.0210e+01, -9.8288e+00, -1.0987e+01,\n",
      "         -8.2781e+00, -7.4921e+00],\n",
      "        [-5.7196e+00, -8.2779e+00, -8.0863e+00, -7.0537e+00, -8.4720e+00,\n",
      "         -8.6118e+00, -7.9225e+00, -6.6230e-03, -7.2109e+00, -9.9435e+00,\n",
      "         -9.5491e+00, -8.1716e+00],\n",
      "        [-8.3599e+00, -9.4001e+00, -9.1650e+00, -1.1419e+01, -9.3103e+00,\n",
      "         -1.0037e+01, -1.0201e+01, -9.6424e+00, -1.2862e-03, -9.2827e+00,\n",
      "         -7.6478e+00, -9.9749e+00],\n",
      "        [-5.2098e+00, -1.9573e+00, -8.0982e+00, -6.9104e+00, -7.2485e+00,\n",
      "         -4.0130e+00, -8.0070e+00, -8.2613e+00, -4.9755e+00, -2.0458e-01,\n",
      "         -4.5584e+00, -8.3209e+00],\n",
      "        [-7.5538e+00, -7.6403e+00, -9.3217e+00, -1.0870e+01, -9.1746e+00,\n",
      "         -9.3845e+00, -8.5917e+00, -1.0989e+01, -7.0125e+00, -5.2681e+00,\n",
      "         -7.9206e-03, -8.0100e+00],\n",
      "        [-1.3182e-01, -3.2341e+00, -4.0133e+00, -4.8116e+00, -7.4592e+00,\n",
      "         -6.1962e+00, -5.8588e+00, -7.3182e+00, -3.4851e+00, -6.6750e+00,\n",
      "         -4.3253e+00, -5.0174e+00],\n",
      "        [-4.9904e-03, -7.4491e+00, -7.6964e+00, -9.1356e+00, -9.6243e+00,\n",
      "         -1.0222e+01, -8.5009e+00, -6.2054e+00, -7.5129e+00, -1.0558e+01,\n",
      "         -7.5071e+00, -7.8531e+00],\n",
      "        [-7.5125e+00, -1.0576e-02, -9.4127e+00, -6.5913e+00, -1.0585e+01,\n",
      "         -7.7377e+00, -8.7557e+00, -1.0180e+01, -8.4539e+00, -5.1556e+00,\n",
      "         -6.3006e+00, -9.9500e+00],\n",
      "        [-3.4324e+00, -3.6450e+00, -4.5875e+00, -8.2240e+00, -6.7172e+00,\n",
      "         -7.1565e+00, -5.2159e+00, -8.6136e+00, -7.4150e+00, -7.2246e+00,\n",
      "         -5.6431e-01, -1.0400e+00],\n",
      "        [-1.0889e+01, -8.6500e+00, -1.0571e+01, -2.5100e-03, -1.0786e+01,\n",
      "         -6.7516e+00, -8.2710e+00, -8.2430e+00, -1.0116e+01, -7.8128e+00,\n",
      "         -1.0001e+01, -9.3324e+00],\n",
      "        [-5.3055e+00, -6.5366e+00, -4.8008e+00, -8.0594e+00, -5.5692e+00,\n",
      "         -7.1293e+00, -8.6513e+00, -5.8608e+00, -2.5995e-02, -7.9395e+00,\n",
      "         -6.4259e+00, -6.8183e+00],\n",
      "        [-9.1838e+00, -2.2388e+00, -7.8951e+00, -7.9644e+00, -7.0887e+00,\n",
      "         -1.1793e-01, -8.3613e+00, -1.0250e+01, -9.7238e+00, -7.1306e+00,\n",
      "         -7.1254e+00, -6.8456e+00],\n",
      "        [-1.1171e+01, -1.0026e+01, -8.5153e+00, -1.0415e+01, -8.0480e+00,\n",
      "         -9.4596e+00, -1.8501e-03, -9.9607e+00, -9.6350e+00, -1.0794e+01,\n",
      "         -7.9151e+00, -7.3177e+00],\n",
      "        [-7.1957e+00, -8.8685e+00, -8.7352e+00, -6.9585e+00, -8.9388e+00,\n",
      "         -8.6251e+00, -8.0163e+00, -3.4307e-03, -7.5400e+00, -1.0018e+01,\n",
      "         -1.0348e+01, -8.6564e+00],\n",
      "        [-8.3890e+00, -9.3692e+00, -9.2271e+00, -1.1346e+01, -9.0820e+00,\n",
      "         -9.7613e+00, -9.9691e+00, -9.2470e+00, -1.4753e-03, -9.1019e+00,\n",
      "         -7.4550e+00, -9.9690e+00],\n",
      "        [-7.0437e+00, -5.3919e+00, -9.9165e+00, -6.7174e+00, -9.4209e+00,\n",
      "         -6.2379e+00, -8.8005e+00, -8.7169e+00, -5.5859e+00, -1.4255e-02,\n",
      "         -6.6310e+00, -9.9020e+00],\n",
      "        [-7.8560e+00, -8.1083e+00, -9.8516e+00, -1.2192e+01, -9.8853e+00,\n",
      "         -1.1176e+01, -9.4067e+00, -1.2115e+01, -8.4859e+00, -8.3209e+00,\n",
      "         -1.7616e-03, -7.7959e+00],\n",
      "        [-7.5046e+00, -6.8221e+00, -7.8481e+00, -2.2333e-02, -9.0864e+00,\n",
      "         -6.4007e+00, -5.8824e+00, -4.5965e+00, -8.5844e+00, -8.1617e+00,\n",
      "         -8.1221e+00, -5.3738e+00],\n",
      "        [-6.9349e-02, -7.1192e+00, -5.7286e+00, -6.9121e+00, -7.8780e+00,\n",
      "         -8.0643e+00, -4.9064e+00, -3.2415e+00, -6.4620e+00, -9.3779e+00,\n",
      "         -6.1404e+00, -4.5148e+00],\n",
      "        [-2.3073e+00, -2.3760e-01, -5.4511e+00, -2.5168e+00, -9.1767e+00,\n",
      "         -5.9503e+00, -5.0612e+00, -5.8134e+00, -6.8460e+00, -6.9193e+00,\n",
      "         -5.4958e+00, -4.7388e+00],\n",
      "        [-1.0081e+01, -1.0204e+01, -1.3639e-03, -1.1383e+01, -7.8910e+00,\n",
      "         -7.9139e+00, -9.5897e+00, -9.8940e+00, -9.8580e+00, -1.1776e+01,\n",
      "         -9.9903e+00, -8.0850e+00],\n",
      "        [-9.0086e+00, -7.5452e+00, -9.1455e+00, -1.3022e-02, -9.2451e+00,\n",
      "         -6.1252e+00, -7.3398e+00, -4.8307e+00, -8.4530e+00, -7.4679e+00,\n",
      "         -9.1826e+00, -7.8781e+00],\n",
      "        [-6.4628e+00, -8.0603e+00, -7.6168e+00, -9.3598e+00, -7.8624e+00,\n",
      "         -8.9952e+00, -9.0308e+00, -6.8637e+00, -5.0433e-03, -8.8741e+00,\n",
      "         -7.5834e+00, -8.2799e+00],\n",
      "        [-3.7165e+00, -7.6501e-01, -7.1197e+00, -5.9570e+00, -7.1980e+00,\n",
      "         -4.2804e+00, -6.7982e+00, -7.1635e+00, -2.7084e+00, -9.0688e-01,\n",
      "         -3.9228e+00, -8.2148e+00],\n",
      "        [-8.8185e+00, -7.9363e+00, -5.0807e+00, -8.2076e+00, -4.0718e+00,\n",
      "         -7.5010e+00, -3.7972e-02, -8.2389e+00, -5.5977e+00, -8.5271e+00,\n",
      "         -5.1391e+00, -5.9380e+00],\n",
      "        [-7.3919e+00, -9.0125e+00, -9.1549e+00, -6.9967e+00, -9.6015e+00,\n",
      "         -9.1404e+00, -8.6283e+00, -2.5544e-03, -8.3520e+00, -1.0582e+01,\n",
      "         -1.0703e+01, -8.7727e+00],\n",
      "        [-7.8731e+00, -9.1031e+00, -8.9084e+00, -1.0961e+01, -8.8310e+00,\n",
      "         -9.5914e+00, -9.5209e+00, -8.6002e+00, -1.9131e-03, -9.1027e+00,\n",
      "         -7.4059e+00, -9.4889e+00],\n",
      "        [-8.2010e+00, -4.3067e-02, -8.9694e+00, -7.2761e+00, -7.8755e+00,\n",
      "         -3.5781e+00, -7.6794e+00, -1.0370e+01, -9.2171e+00, -4.7501e+00,\n",
      "         -5.6792e+00, -9.2962e+00],\n",
      "        [-8.1973e+00, -6.9678e+00, -1.0005e+01, -1.1752e+01, -9.3567e+00,\n",
      "         -1.0368e+01, -9.6974e+00, -1.2568e+01, -8.8870e+00, -8.2885e+00,\n",
      "         -1.9695e-03, -8.9856e+00],\n",
      "        [-5.8983e+00, -6.0897e+00, -5.9403e+00, -1.9057e+00, -6.4791e+00,\n",
      "         -4.1196e+00, -2.4153e+00, -2.8966e+00, -7.3998e+00, -6.8835e+00,\n",
      "         -5.8047e+00, -3.9058e-01]], device='cuda:0',\n",
      "       grad_fn=<LogSoftmaxBackward0>)\n"
     ]
    }
   ],
   "source": [
    "result = model(test.to(device))\n",
    "result, atten = classifier(result)\n",
    "print(result)"
   ]
  },
  {
   "cell_type": "code",
   "execution_count": 591,
   "metadata": {},
   "outputs": [],
   "source": [
    "result = result.tolist()"
   ]
  },
  {
   "cell_type": "code",
   "execution_count": 592,
   "metadata": {},
   "outputs": [],
   "source": [
    "# Normolization\n",
    "results = []\n",
    "\n",
    "for i in range(len(result)):\n",
    "    temp = result[i]\n",
    "    temp = [x - min(temp) for x in temp]\n",
    "    temp = [x / max(temp) for x in temp]\n",
    "    temp = [round(x, 3) for x in temp]\n",
    "\n",
    "    results.append(temp)"
   ]
  },
  {
   "cell_type": "code",
   "execution_count": 593,
   "metadata": {},
   "outputs": [
    {
     "name": "stdout",
     "output_type": "stream",
     "text": [
      "牡羊✅\n",
      "魔羯 <- 金牛\n",
      "雙子✅\n",
      "巨蠍✅\n",
      "天蠍 <- 獅子\n",
      "金牛 <- 處女\n",
      "天秤✅\n",
      "天蠍✅\n",
      "射手✅\n",
      "魔羯✅\n",
      "水瓶✅\n",
      "牡羊 <- 雙魚\n",
      "牡羊✅\n",
      "金牛✅\n",
      "水瓶 <- 雙子\n",
      "巨蠍✅\n",
      "射手 <- 獅子\n",
      "處女✅\n",
      "天秤✅\n",
      "天蠍✅\n",
      "射手✅\n",
      "魔羯✅\n",
      "水瓶✅\n",
      "巨蠍 <- 雙魚\n",
      "牡羊✅\n",
      "金牛✅\n",
      "雙子✅\n",
      "巨蠍✅\n",
      "射手 <- 獅子\n",
      "金牛 <- 處女\n",
      "天秤✅\n",
      "天蠍✅\n",
      "射手✅\n",
      "金牛 <- 魔羯\n",
      "水瓶✅\n",
      "雙魚✅\n",
      "Correct: 26 (72.22%)\n"
     ]
    }
   ],
   "source": [
    "count = 0\n",
    "\n",
    "for i, r in enumerate(results):\n",
    "    t = classes[int(torch.argmax(torch.tensor(r)))]\n",
    "    if t == answare[i]:\n",
    "        count += 1\n",
    "        print(t + \"✅\")\n",
    "    else:\n",
    "        print(t + \" <- \" + answare[i])\n",
    "\n",
    "print(f\"Correct: {count} ({(count / len(answare)) * 100 :.2f}%)\")"
   ]
  },
  {
   "cell_type": "code",
   "execution_count": 594,
   "metadata": {},
   "outputs": [
    {
     "ename": "RuntimeError",
     "evalue": "No active exception to reraise",
     "output_type": "error",
     "traceback": [
      "\u001b[1;31m---------------------------------------------------------------------------\u001b[0m",
      "\u001b[1;31mRuntimeError\u001b[0m                              Traceback (most recent call last)",
      "Cell \u001b[1;32mIn[594], line 1\u001b[0m\n\u001b[1;32m----> 1\u001b[0m \u001b[38;5;28;01mraise\u001b[39;00m\n",
      "\u001b[1;31mRuntimeError\u001b[0m: No active exception to reraise"
     ]
    }
   ],
   "source": [
    "raise"
   ]
  },
  {
   "cell_type": "code",
   "execution_count": null,
   "metadata": {},
   "outputs": [],
   "source": [
    "import matplotlib.pyplot as plt\n",
    "import numpy as np"
   ]
  },
  {
   "cell_type": "code",
   "execution_count": null,
   "metadata": {},
   "outputs": [
    {
     "ename": "ValueError",
     "evalue": "The number of FixedLocator locations (24), usually from a call to set_ticks, does not match the number of labels (12).",
     "output_type": "error",
     "traceback": [
      "\u001b[1;31m---------------------------------------------------------------------------\u001b[0m",
      "\u001b[1;31mValueError\u001b[0m                                Traceback (most recent call last)",
      "Cell \u001b[1;32mIn[562], line 8\u001b[0m\n\u001b[0;32m      5\u001b[0m ax\u001b[38;5;241m.\u001b[39mplot(angles_A, values_A, \u001b[38;5;124m'\u001b[39m\u001b[38;5;124mo-\u001b[39m\u001b[38;5;124m'\u001b[39m, color\u001b[38;5;241m=\u001b[39m\u001b[38;5;124m\"\u001b[39m\u001b[38;5;124mblue\u001b[39m\u001b[38;5;124m\"\u001b[39m, label\u001b[38;5;241m=\u001b[39m\u001b[38;5;124m\"\u001b[39m\u001b[38;5;124mA\u001b[39m\u001b[38;5;124m\"\u001b[39m)\n\u001b[0;32m      7\u001b[0m ax\u001b[38;5;241m.\u001b[39mfill(angles_A, values_A, alpha\u001b[38;5;241m=\u001b[39m\u001b[38;5;241m0.3\u001b[39m, color\u001b[38;5;241m=\u001b[39m\u001b[38;5;124m\"\u001b[39m\u001b[38;5;124mblue\u001b[39m\u001b[38;5;124m\"\u001b[39m)\n\u001b[1;32m----> 8\u001b[0m \u001b[43max\u001b[49m\u001b[38;5;241;43m.\u001b[39;49m\u001b[43mset_thetagrids\u001b[49m\u001b[43m(\u001b[49m\u001b[43mangles_A\u001b[49m\u001b[43m[\u001b[49m\u001b[43m:\u001b[49m\u001b[38;5;241;43m-\u001b[39;49m\u001b[38;5;241;43m1\u001b[39;49m\u001b[43m]\u001b[49m\u001b[43m \u001b[49m\u001b[38;5;241;43m*\u001b[39;49m\u001b[43m \u001b[49m\u001b[38;5;241;43m180\u001b[39;49m\u001b[43m \u001b[49m\u001b[38;5;241;43m/\u001b[39;49m\u001b[43m \u001b[49m\u001b[43mnp\u001b[49m\u001b[38;5;241;43m.\u001b[39;49m\u001b[43mpi\u001b[49m\u001b[43m,\u001b[49m\u001b[43m \u001b[49m\u001b[38;5;28;43mrange\u001b[39;49m\u001b[43m(\u001b[49m\u001b[38;5;241;43m12\u001b[39;49m\u001b[43m)\u001b[49m\u001b[43m,\u001b[49m\u001b[43m \u001b[49m\u001b[43mfontsize\u001b[49m\u001b[38;5;241;43m=\u001b[39;49m\u001b[38;5;241;43m15\u001b[39;49m\u001b[43m)\u001b[49m\n\u001b[0;32m      9\u001b[0m ax\u001b[38;5;241m.\u001b[39mset_theta_zero_location(\u001b[38;5;124m'\u001b[39m\u001b[38;5;124mN\u001b[39m\u001b[38;5;124m'\u001b[39m)\n",
      "File \u001b[1;32mc:\\Users\\User\\anaconda3\\envs\\pytorch\\lib\\site-packages\\matplotlib\\projections\\polar.py:1333\u001b[0m, in \u001b[0;36mPolarAxes.set_thetagrids\u001b[1;34m(self, angles, labels, fmt, **kwargs)\u001b[0m\n\u001b[0;32m   1331\u001b[0m \u001b[38;5;28mself\u001b[39m\u001b[38;5;241m.\u001b[39mset_xticks(angles)\n\u001b[0;32m   1332\u001b[0m \u001b[38;5;28;01mif\u001b[39;00m labels \u001b[38;5;129;01mis\u001b[39;00m \u001b[38;5;129;01mnot\u001b[39;00m \u001b[38;5;28;01mNone\u001b[39;00m:\n\u001b[1;32m-> 1333\u001b[0m     \u001b[38;5;28;43mself\u001b[39;49m\u001b[38;5;241;43m.\u001b[39;49m\u001b[43mset_xticklabels\u001b[49m\u001b[43m(\u001b[49m\u001b[43mlabels\u001b[49m\u001b[43m)\u001b[49m\n\u001b[0;32m   1334\u001b[0m \u001b[38;5;28;01melif\u001b[39;00m fmt \u001b[38;5;129;01mis\u001b[39;00m \u001b[38;5;129;01mnot\u001b[39;00m \u001b[38;5;28;01mNone\u001b[39;00m:\n\u001b[0;32m   1335\u001b[0m     \u001b[38;5;28mself\u001b[39m\u001b[38;5;241m.\u001b[39mxaxis\u001b[38;5;241m.\u001b[39mset_major_formatter(mticker\u001b[38;5;241m.\u001b[39mFormatStrFormatter(fmt))\n",
      "File \u001b[1;32mc:\\Users\\User\\anaconda3\\envs\\pytorch\\lib\\site-packages\\matplotlib\\axes\\_base.py:74\u001b[0m, in \u001b[0;36m_axis_method_wrapper.__set_name__.<locals>.wrapper\u001b[1;34m(self, *args, **kwargs)\u001b[0m\n\u001b[0;32m     73\u001b[0m \u001b[38;5;28;01mdef\u001b[39;00m \u001b[38;5;21mwrapper\u001b[39m(\u001b[38;5;28mself\u001b[39m, \u001b[38;5;241m*\u001b[39margs, \u001b[38;5;241m*\u001b[39m\u001b[38;5;241m*\u001b[39mkwargs):\n\u001b[1;32m---> 74\u001b[0m     \u001b[38;5;28;01mreturn\u001b[39;00m get_method(\u001b[38;5;28mself\u001b[39m)(\u001b[38;5;241m*\u001b[39margs, \u001b[38;5;241m*\u001b[39m\u001b[38;5;241m*\u001b[39mkwargs)\n",
      "File \u001b[1;32mc:\\Users\\User\\anaconda3\\envs\\pytorch\\lib\\site-packages\\matplotlib\\_api\\deprecation.py:297\u001b[0m, in \u001b[0;36mrename_parameter.<locals>.wrapper\u001b[1;34m(*args, **kwargs)\u001b[0m\n\u001b[0;32m    292\u001b[0m     warn_deprecated(\n\u001b[0;32m    293\u001b[0m         since, message\u001b[38;5;241m=\u001b[39m\u001b[38;5;124mf\u001b[39m\u001b[38;5;124m\"\u001b[39m\u001b[38;5;124mThe \u001b[39m\u001b[38;5;132;01m{\u001b[39;00mold\u001b[38;5;132;01m!r}\u001b[39;00m\u001b[38;5;124m parameter of \u001b[39m\u001b[38;5;132;01m{\u001b[39;00mfunc\u001b[38;5;241m.\u001b[39m\u001b[38;5;18m__name__\u001b[39m\u001b[38;5;132;01m}\u001b[39;00m\u001b[38;5;124m() \u001b[39m\u001b[38;5;124m\"\u001b[39m\n\u001b[0;32m    294\u001b[0m         \u001b[38;5;124mf\u001b[39m\u001b[38;5;124m\"\u001b[39m\u001b[38;5;124mhas been renamed \u001b[39m\u001b[38;5;132;01m{\u001b[39;00mnew\u001b[38;5;132;01m!r}\u001b[39;00m\u001b[38;5;124m since Matplotlib \u001b[39m\u001b[38;5;132;01m{\u001b[39;00msince\u001b[38;5;132;01m}\u001b[39;00m\u001b[38;5;124m; support \u001b[39m\u001b[38;5;124m\"\u001b[39m\n\u001b[0;32m    295\u001b[0m         \u001b[38;5;124mf\u001b[39m\u001b[38;5;124m\"\u001b[39m\u001b[38;5;124mfor the old name will be dropped %(removal)s.\u001b[39m\u001b[38;5;124m\"\u001b[39m)\n\u001b[0;32m    296\u001b[0m     kwargs[new] \u001b[38;5;241m=\u001b[39m kwargs\u001b[38;5;241m.\u001b[39mpop(old)\n\u001b[1;32m--> 297\u001b[0m \u001b[38;5;28;01mreturn\u001b[39;00m func(\u001b[38;5;241m*\u001b[39margs, \u001b[38;5;241m*\u001b[39m\u001b[38;5;241m*\u001b[39mkwargs)\n",
      "File \u001b[1;32mc:\\Users\\User\\anaconda3\\envs\\pytorch\\lib\\site-packages\\matplotlib\\axis.py:1969\u001b[0m, in \u001b[0;36mAxis.set_ticklabels\u001b[1;34m(self, labels, minor, fontdict, **kwargs)\u001b[0m\n\u001b[0;32m   1965\u001b[0m \u001b[38;5;28;01mif\u001b[39;00m \u001b[38;5;28misinstance\u001b[39m(locator, mticker\u001b[38;5;241m.\u001b[39mFixedLocator):\n\u001b[0;32m   1966\u001b[0m     \u001b[38;5;66;03m# Passing [] as a list of labels is often used as a way to\u001b[39;00m\n\u001b[0;32m   1967\u001b[0m     \u001b[38;5;66;03m# remove all tick labels, so only error for > 0 labels\u001b[39;00m\n\u001b[0;32m   1968\u001b[0m     \u001b[38;5;28;01mif\u001b[39;00m \u001b[38;5;28mlen\u001b[39m(locator\u001b[38;5;241m.\u001b[39mlocs) \u001b[38;5;241m!=\u001b[39m \u001b[38;5;28mlen\u001b[39m(labels) \u001b[38;5;129;01mand\u001b[39;00m \u001b[38;5;28mlen\u001b[39m(labels) \u001b[38;5;241m!=\u001b[39m \u001b[38;5;241m0\u001b[39m:\n\u001b[1;32m-> 1969\u001b[0m         \u001b[38;5;28;01mraise\u001b[39;00m \u001b[38;5;167;01mValueError\u001b[39;00m(\n\u001b[0;32m   1970\u001b[0m             \u001b[38;5;124m\"\u001b[39m\u001b[38;5;124mThe number of FixedLocator locations\u001b[39m\u001b[38;5;124m\"\u001b[39m\n\u001b[0;32m   1971\u001b[0m             \u001b[38;5;124mf\u001b[39m\u001b[38;5;124m\"\u001b[39m\u001b[38;5;124m (\u001b[39m\u001b[38;5;132;01m{\u001b[39;00m\u001b[38;5;28mlen\u001b[39m(locator\u001b[38;5;241m.\u001b[39mlocs)\u001b[38;5;132;01m}\u001b[39;00m\u001b[38;5;124m), usually from a call to\u001b[39m\u001b[38;5;124m\"\u001b[39m\n\u001b[0;32m   1972\u001b[0m             \u001b[38;5;124m\"\u001b[39m\u001b[38;5;124m set_ticks, does not match\u001b[39m\u001b[38;5;124m\"\u001b[39m\n\u001b[0;32m   1973\u001b[0m             \u001b[38;5;124mf\u001b[39m\u001b[38;5;124m\"\u001b[39m\u001b[38;5;124m the number of labels (\u001b[39m\u001b[38;5;132;01m{\u001b[39;00m\u001b[38;5;28mlen\u001b[39m(labels)\u001b[38;5;132;01m}\u001b[39;00m\u001b[38;5;124m).\u001b[39m\u001b[38;5;124m\"\u001b[39m)\n\u001b[0;32m   1974\u001b[0m     tickd \u001b[38;5;241m=\u001b[39m {loc: lab \u001b[38;5;28;01mfor\u001b[39;00m loc, lab \u001b[38;5;129;01min\u001b[39;00m \u001b[38;5;28mzip\u001b[39m(locator\u001b[38;5;241m.\u001b[39mlocs, labels)}\n\u001b[0;32m   1975\u001b[0m     func \u001b[38;5;241m=\u001b[39m functools\u001b[38;5;241m.\u001b[39mpartial(\u001b[38;5;28mself\u001b[39m\u001b[38;5;241m.\u001b[39m_format_with_dict, tickd)\n",
      "\u001b[1;31mValueError\u001b[0m: The number of FixedLocator locations (24), usually from a call to set_ticks, does not match the number of labels (12)."
     ]
    },
    {
     "data": {
      "image/png": "[encoded data removed]",
      "text/plain": [
       "<Figure size 500x500 with 1 Axes>"
      ]
     },
     "metadata": {},
     "output_type": "display_data"
    }
   ],
   "source": [
    "angles_A = np.linspace(start=0, stop=2*np.pi, num=len(result)+1, endpoint=True)\n",
    "values_A = np.concatenate((result, [result[0]]))\n",
    "\n",
    "fig, ax = plt.subplots(1, 1, figsize=(5, 5), subplot_kw={'projection': 'polar'})\n",
    "ax.plot(angles_A, values_A, 'o-', color=\"blue\", label=\"A\")\n",
    "\n",
    "ax.fill(angles_A, values_A, alpha=0.3, color=\"blue\")\n",
    "ax.set_thetagrids(angles_A[:-1] * 180 / np.pi, range(12), fontsize=15)\n",
    "ax.set_theta_zero_location('N')"
   ]
  },
  {
   "cell_type": "code",
   "execution_count": null,
   "metadata": {},
   "outputs": [],
   "source": [
    "torch.onnx.export(model, test.to(device=device), 'constellator.onnx')"
   ]
  },
  {
   "cell_type": "code",
   "execution_count": null,
   "metadata": {},
   "outputs": [
    {
     "name": "stdout",
     "output_type": "stream",
     "text": [
      "graph torch_jit (\n",
      "  %input.1[INT64, 1x32]\n",
      ") initializers (\n",
      "  %embedding.weight[FLOAT, 5470x64]\n",
      "  %onnx::LSTM_715[FLOAT, 2x2048]\n",
      "  %onnx::LSTM_716[FLOAT, 2x1024x64]\n",
      "  %onnx::LSTM_717[FLOAT, 2x1024x256]\n",
      "  %onnx::LSTM_762[FLOAT, 2x2048]\n",
      "  %onnx::LSTM_763[FLOAT, 2x1024x512]\n",
      "  %onnx::LSTM_764[FLOAT, 2x1024x256]\n",
      "  %onnx::LSTM_809[FLOAT, 2x2048]\n",
      "  %onnx::LSTM_810[FLOAT, 2x1024x512]\n",
      "  %onnx::LSTM_811[FLOAT, 2x1024x256]\n",
      "  %onnx::LSTM_856[FLOAT, 2x2048]\n",
      "  %onnx::LSTM_857[FLOAT, 2x1024x512]\n",
      "  %onnx::LSTM_858[FLOAT, 2x1024x256]\n",
      ") {\n",
      "  %/embedding/Gather_output_0 = Gather(%embedding.weight, %input.1)\n",
      "  %/lstm/Transpose_output_0 = Transpose[perm = [1, 0, 2]](%/embedding/Gather_output_0)\n",
      "  %/lstm/Constant_output_0 = Constant[value = <Tensor>]()\n",
      "  %/lstm/Constant_1_output_0 = Constant[value = <Tensor>]()\n",
      "  %/lstm/Shape_output_0 = Shape(%/lstm/Transpose_output_0)\n",
      "  %/lstm/Constant_2_output_0 = Constant[value = <Scalar Tensor []>]()\n",
      "  %/lstm/Gather_output_0 = Gather(%/lstm/Shape_output_0, %/lstm/Constant_2_output_0)\n",
      "  %onnx::Unsqueeze_172 = Constant[value = <Tensor>]()\n",
      "  %onnx::Concat_173 = Unsqueeze(%/lstm/Gather_output_0, %onnx::Unsqueeze_172)\n",
      "  %/lstm/Constant_3_output_0 = Constant[value = <Tensor>]()\n",
      "  %onnx::Concat_720 = Constant[value = <Tensor>]()\n",
      "  %/lstm/Concat_output_0 = Concat[axis = 0](%onnx::Concat_720, %onnx::Concat_173, %/lstm/Constant_3_output_0)\n",
      "  %/lstm/Expand_output_0 = Expand(%/lstm/Constant_output_0, %/lstm/Concat_output_0)\n",
      "  %/lstm/Shape_1_output_0 = Shape(%/lstm/Transpose_output_0)\n",
      "  %/lstm/Constant_4_output_0 = Constant[value = <Scalar Tensor []>]()\n",
      "  %/lstm/Gather_1_output_0 = Gather(%/lstm/Shape_1_output_0, %/lstm/Constant_4_output_0)\n",
      "  %onnx::Unsqueeze_183 = Constant[value = <Tensor>]()\n",
      "  %onnx::Concat_184 = Unsqueeze(%/lstm/Gather_1_output_0, %onnx::Unsqueeze_183)\n",
      "  %/lstm/Constant_5_output_0 = Constant[value = <Tensor>]()\n",
      "  %onnx::Concat_721 = Constant[value = <Tensor>]()\n",
      "  %/lstm/Concat_1_output_0 = Concat[axis = 0](%onnx::Concat_721, %onnx::Concat_184, %/lstm/Constant_5_output_0)\n",
      "  %/lstm/Expand_1_output_0 = Expand(%/lstm/Constant_1_output_0, %/lstm/Concat_1_output_0)\n",
      "  %/lstm/LSTM_output_0, %/lstm/LSTM_output_1, %/lstm/LSTM_output_2 = LSTM[direction = 'bidirectional', hidden_size = 256](%/lstm/Transpose_output_0, %onnx::LSTM_716, %onnx::LSTM_717, %onnx::LSTM_715, %, %/lstm/Expand_output_0, %/lstm/Expand_1_output_0)\n",
      "  %/lstm/Transpose_1_output_0 = Transpose[perm = [0, 2, 1, 3]](%/lstm/LSTM_output_0)\n",
      "  %/lstm/Constant_6_output_0 = Constant[value = <Tensor>]()\n",
      "  %/lstm/Reshape_output_0 = Reshape[allowzero = 0](%/lstm/Transpose_1_output_0, %/lstm/Constant_6_output_0)\n",
      "  %/lstm/Constant_7_output_0 = Constant[value = <Tensor>]()\n",
      "  %/lstm/Constant_8_output_0 = Constant[value = <Tensor>]()\n",
      "  %/lstm/Shape_2_output_0 = Shape(%/lstm/Reshape_output_0)\n",
      "  %/lstm/Constant_9_output_0 = Constant[value = <Scalar Tensor []>]()\n",
      "  %/lstm/Gather_2_output_0 = Gather(%/lstm/Shape_2_output_0, %/lstm/Constant_9_output_0)\n",
      "  %onnx::Unsqueeze_329 = Constant[value = <Tensor>]()\n",
      "  %onnx::Concat_330 = Unsqueeze(%/lstm/Gather_2_output_0, %onnx::Unsqueeze_329)\n",
      "  %/lstm/Constant_10_output_0 = Constant[value = <Tensor>]()\n",
      "  %onnx::Concat_767 = Constant[value = <Tensor>]()\n",
      "  %/lstm/Concat_2_output_0 = Concat[axis = 0](%onnx::Concat_767, %onnx::Concat_330, %/lstm/Constant_10_output_0)\n",
      "  %/lstm/Expand_2_output_0 = Expand(%/lstm/Constant_7_output_0, %/lstm/Concat_2_output_0)\n",
      "  %/lstm/Shape_3_output_0 = Shape(%/lstm/Reshape_output_0)\n",
      "  %/lstm/Constant_11_output_0 = Constant[value = <Scalar Tensor []>]()\n",
      "  %/lstm/Gather_3_output_0 = Gather(%/lstm/Shape_3_output_0, %/lstm/Constant_11_output_0)\n",
      "  %onnx::Unsqueeze_340 = Constant[value = <Tensor>]()\n",
      "  %onnx::Concat_341 = Unsqueeze(%/lstm/Gather_3_output_0, %onnx::Unsqueeze_340)\n",
      "  %/lstm/Constant_12_output_0 = Constant[value = <Tensor>]()\n",
      "  %onnx::Concat_768 = Constant[value = <Tensor>]()\n",
      "  %/lstm/Concat_3_output_0 = Concat[axis = 0](%onnx::Concat_768, %onnx::Concat_341, %/lstm/Constant_12_output_0)\n",
      "  %/lstm/Expand_3_output_0 = Expand(%/lstm/Constant_8_output_0, %/lstm/Concat_3_output_0)\n",
      "  %/lstm/LSTM_1_output_0, %/lstm/LSTM_1_output_1, %/lstm/LSTM_1_output_2 = LSTM[direction = 'bidirectional', hidden_size = 256](%/lstm/Reshape_output_0, %onnx::LSTM_763, %onnx::LSTM_764, %onnx::LSTM_762, %, %/lstm/Expand_2_output_0, %/lstm/Expand_3_output_0)\n",
      "  %/lstm/Transpose_2_output_0 = Transpose[perm = [0, 2, 1, 3]](%/lstm/LSTM_1_output_0)\n",
      "  %/lstm/Constant_13_output_0 = Constant[value = <Tensor>]()\n",
      "  %/lstm/Reshape_1_output_0 = Reshape[allowzero = 0](%/lstm/Transpose_2_output_0, %/lstm/Constant_13_output_0)\n",
      "  %/lstm/Constant_14_output_0 = Constant[value = <Tensor>]()\n",
      "  %/lstm/Constant_15_output_0 = Constant[value = <Tensor>]()\n",
      "  %/lstm/Shape_4_output_0 = Shape(%/lstm/Reshape_1_output_0)\n",
      "  %/lstm/Constant_16_output_0 = Constant[value = <Scalar Tensor []>]()\n",
      "  %/lstm/Gather_4_output_0 = Gather(%/lstm/Shape_4_output_0, %/lstm/Constant_16_output_0)\n",
      "  %onnx::Unsqueeze_486 = Constant[value = <Tensor>]()\n",
      "  %onnx::Concat_487 = Unsqueeze(%/lstm/Gather_4_output_0, %onnx::Unsqueeze_486)\n",
      "  %/lstm/Constant_17_output_0 = Constant[value = <Tensor>]()\n",
      "  %onnx::Concat_814 = Constant[value = <Tensor>]()\n",
      "  %/lstm/Concat_4_output_0 = Concat[axis = 0](%onnx::Concat_814, %onnx::Concat_487, %/lstm/Constant_17_output_0)\n",
      "  %/lstm/Expand_4_output_0 = Expand(%/lstm/Constant_14_output_0, %/lstm/Concat_4_output_0)\n",
      "  %/lstm/Shape_5_output_0 = Shape(%/lstm/Reshape_1_output_0)\n",
      "  %/lstm/Constant_18_output_0 = Constant[value = <Scalar Tensor []>]()\n",
      "  %/lstm/Gather_5_output_0 = Gather(%/lstm/Shape_5_output_0, %/lstm/Constant_18_output_0)\n",
      "  %onnx::Unsqueeze_497 = Constant[value = <Tensor>]()\n",
      "  %onnx::Concat_498 = Unsqueeze(%/lstm/Gather_5_output_0, %onnx::Unsqueeze_497)\n",
      "  %/lstm/Constant_19_output_0 = Constant[value = <Tensor>]()\n",
      "  %onnx::Concat_815 = Constant[value = <Tensor>]()\n",
      "  %/lstm/Concat_5_output_0 = Concat[axis = 0](%onnx::Concat_815, %onnx::Concat_498, %/lstm/Constant_19_output_0)\n",
      "  %/lstm/Expand_5_output_0 = Expand(%/lstm/Constant_15_output_0, %/lstm/Concat_5_output_0)\n",
      "  %/lstm/LSTM_2_output_0, %/lstm/LSTM_2_output_1, %/lstm/LSTM_2_output_2 = LSTM[direction = 'bidirectional', hidden_size = 256](%/lstm/Reshape_1_output_0, %onnx::LSTM_810, %onnx::LSTM_811, %onnx::LSTM_809, %, %/lstm/Expand_4_output_0, %/lstm/Expand_5_output_0)\n",
      "  %/lstm/Transpose_3_output_0 = Transpose[perm = [0, 2, 1, 3]](%/lstm/LSTM_2_output_0)\n",
      "  %/lstm/Constant_20_output_0 = Constant[value = <Tensor>]()\n",
      "  %/lstm/Reshape_2_output_0 = Reshape[allowzero = 0](%/lstm/Transpose_3_output_0, %/lstm/Constant_20_output_0)\n",
      "  %/lstm/Constant_21_output_0 = Constant[value = <Tensor>]()\n",
      "  %/lstm/Constant_22_output_0 = Constant[value = <Tensor>]()\n",
      "  %/lstm/Shape_6_output_0 = Shape(%/lstm/Reshape_2_output_0)\n",
      "  %/lstm/Constant_23_output_0 = Constant[value = <Scalar Tensor []>]()\n",
      "  %/lstm/Gather_6_output_0 = Gather(%/lstm/Shape_6_output_0, %/lstm/Constant_23_output_0)\n",
      "  %onnx::Unsqueeze_643 = Constant[value = <Tensor>]()\n",
      "  %onnx::Concat_644 = Unsqueeze(%/lstm/Gather_6_output_0, %onnx::Unsqueeze_643)\n",
      "  %/lstm/Constant_24_output_0 = Constant[value = <Tensor>]()\n",
      "  %onnx::Concat_861 = Constant[value = <Tensor>]()\n",
      "  %/lstm/Concat_6_output_0 = Concat[axis = 0](%onnx::Concat_861, %onnx::Concat_644, %/lstm/Constant_24_output_0)\n",
      "  %/lstm/Expand_6_output_0 = Expand(%/lstm/Constant_21_output_0, %/lstm/Concat_6_output_0)\n",
      "  %/lstm/Shape_7_output_0 = Shape(%/lstm/Reshape_2_output_0)\n",
      "  %/lstm/Constant_25_output_0 = Constant[value = <Scalar Tensor []>]()\n",
      "  %/lstm/Gather_7_output_0 = Gather(%/lstm/Shape_7_output_0, %/lstm/Constant_25_output_0)\n",
      "  %onnx::Unsqueeze_654 = Constant[value = <Tensor>]()\n",
      "  %onnx::Concat_655 = Unsqueeze(%/lstm/Gather_7_output_0, %onnx::Unsqueeze_654)\n",
      "  %/lstm/Constant_26_output_0 = Constant[value = <Tensor>]()\n",
      "  %onnx::Concat_862 = Constant[value = <Tensor>]()\n",
      "  %/lstm/Concat_7_output_0 = Concat[axis = 0](%onnx::Concat_862, %onnx::Concat_655, %/lstm/Constant_26_output_0)\n",
      "  %/lstm/Expand_7_output_0 = Expand(%/lstm/Constant_22_output_0, %/lstm/Concat_7_output_0)\n",
      "  %/lstm/LSTM_3_output_0, %/lstm/LSTM_3_output_1, %/lstm/LSTM_3_output_2 = LSTM[direction = 'bidirectional', hidden_size = 256](%/lstm/Reshape_2_output_0, %onnx::LSTM_857, %onnx::LSTM_858, %onnx::LSTM_856, %, %/lstm/Expand_6_output_0, %/lstm/Expand_7_output_0)\n",
      "  %/lstm/Transpose_4_output_0 = Transpose[perm = [0, 2, 1, 3]](%/lstm/LSTM_3_output_0)\n",
      "  %/lstm/Constant_27_output_0 = Constant[value = <Tensor>]()\n",
      "  %/lstm/Reshape_3_output_0 = Reshape[allowzero = 0](%/lstm/Transpose_4_output_0, %/lstm/Constant_27_output_0)\n",
      "  %/lstm/Transpose_5_output_0 = Transpose[perm = [1, 0, 2]](%/lstm/Reshape_3_output_0)\n",
      "  %/Constant_output_0 = Constant[value = <Tensor>]()\n",
      "  %/Constant_1_output_0 = Constant[value = <Tensor>]()\n",
      "  %/Constant_2_output_0 = Constant[value = <Tensor>]()\n",
      "  %/Constant_3_output_0 = Constant[value = <Tensor>]()\n",
      "  %/Slice_output_0 = Slice(%/lstm/Transpose_5_output_0, %/Constant_1_output_0, %/Constant_2_output_0, %/Constant_output_0, %/Constant_3_output_0)\n",
      "  %674 = Add(%/Slice_output_0, %/Slice_output_0)\n",
      "  return %674\n",
      "}\n"
     ]
    }
   ],
   "source": [
    "import onnx\n",
    "import onnx.helper\n",
    "\n",
    "onnx_model = onnx.load('./constellator.onnx')\n",
    "print(onnx.helper.printable_graph(onnx_model.graph))"
   ]
  },
  {
   "cell_type": "code",
   "execution_count": null,
   "metadata": {},
   "outputs": [],
   "source": []
  }
 ],
 "metadata": {
  "kernelspec": {
   "display_name": "pytorch",
   "language": "python",
   "name": "python3"
  },
  "language_info": {
   "codemirror_mode": {
    "name": "ipython",
    "version": 3
   },
   "file_extension": ".py",
   "mimetype": "text/x-python",
   "name": "python",
   "nbconvert_exporter": "python",
   "pygments_lexer": "ipython3",
   "version": "3.10.13"
  }
 },
 "nbformat": 4,
 "nbformat_minor": 2
}
