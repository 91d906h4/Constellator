{
 "cells": [
  {
   "cell_type": "code",
   "execution_count": 7,
   "metadata": {},
   "outputs": [],
   "source": [
    "import torch\n",
    "import jieba\n",
    "import random\n",
    "\n",
    "import numpy as np\n",
    "\n",
    "from data import Data\n",
    "from torch import nn, optim\n",
    "from datetime import datetime\n",
    "from torchsummary import summary\n",
    "from torch.utils.data import DataLoader, Dataset"
   ]
  },
  {
   "cell_type": "code",
   "execution_count": 8,
   "metadata": {},
   "outputs": [],
   "source": [
    "# Set random seed.\n",
    "random_seed = 0\n",
    "\n",
    "random.seed(random_seed)\n",
    "np.random.seed(random_seed)\n",
    "torch.manual_seed(random_seed)\n",
    "torch.cuda.manual_seed(random_seed)\n",
    "torch.backends.cudnn.benchmark = False\n",
    "torch.backends.cudnn.deterministic = True"
   ]
  },
  {
   "cell_type": "code",
   "execution_count": 9,
   "metadata": {},
   "outputs": [
    {
     "name": "stdout",
     "output_type": "stream",
     "text": [
      "cuda:0\n"
     ]
    }
   ],
   "source": [
    "device = \"cpu\"\n",
    "\n",
    "if torch.cuda.is_available():\n",
    "    device = \"cuda:0\"\n",
    "\n",
    "print(device)"
   ]
  },
  {
   "cell_type": "code",
   "execution_count": 10,
   "metadata": {},
   "outputs": [],
   "source": [
    "classes = {\n",
    "    0: \"牡羊\",\n",
    "    1: \"金牛\",\n",
    "    2: \"雙子\",\n",
    "    3: \"巨蠍\",\n",
    "    4: \"獅子\",\n",
    "    5: \"處女\",\n",
    "    6: \"天秤\",\n",
    "    7: \"天蠍\",\n",
    "    8: \"射手\",\n",
    "    9: \"魔羯\",\n",
    "    10: \"水瓶\",\n",
    "    11: \"雙魚\",\n",
    "}"
   ]
  },
  {
   "cell_type": "code",
   "execution_count": 11,
   "metadata": {},
   "outputs": [
    {
     "name": "stdout",
     "output_type": "stream",
     "text": [
      "Cleaning completed.\n",
      "ToDataset completed.\n",
      "Argumantation completed.\n"
     ]
    },
    {
     "name": "stdout",
     "output_type": "stream",
     "text": [
      "Tokenlization completed.\n",
      "Padding completed.\n",
      "Token2id completed.\n",
      "Process completed.\n"
     ]
    }
   ],
   "source": [
    "raw = {i: open(f\"./dataset/{classes[i]}.txt\", encoding=\"utf-8\").read() for i in range(12)}\n",
    "data = Data(data=raw, padding_length=32)\n",
    "\n",
    "train_raw = data.get(\"data\")"
   ]
  },
  {
   "cell_type": "code",
   "execution_count": 12,
   "metadata": {},
   "outputs": [
    {
     "data": {
      "text/plain": [
       "4029"
      ]
     },
     "execution_count": 12,
     "metadata": {},
     "output_type": "execute_result"
    }
   ],
   "source": [
    "len(train_raw)"
   ]
  },
  {
   "cell_type": "code",
   "execution_count": 13,
   "metadata": {},
   "outputs": [
    {
     "data": {
      "text/plain": [
       "[[3041,\n",
       "  1236,\n",
       "  4104,\n",
       "  1838,\n",
       "  2960,\n",
       "  2319,\n",
       "  1656,\n",
       "  147,\n",
       "  3578,\n",
       "  1887,\n",
       "  1567,\n",
       "  1093,\n",
       "  1093,\n",
       "  1093,\n",
       "  1093,\n",
       "  1093,\n",
       "  1093,\n",
       "  1093,\n",
       "  1093,\n",
       "  1093,\n",
       "  1093,\n",
       "  1093,\n",
       "  1093,\n",
       "  1093,\n",
       "  1093,\n",
       "  1093,\n",
       "  1093,\n",
       "  1093,\n",
       "  1093,\n",
       "  1093,\n",
       "  1093,\n",
       "  1093],\n",
       " [1, 0, 0, 0, 0, 0, 0, 0, 0, 0, 0, 0]]"
      ]
     },
     "execution_count": 13,
     "metadata": {},
     "output_type": "execute_result"
    }
   ],
   "source": [
    "train_raw[0]"
   ]
  },
  {
   "cell_type": "code",
   "execution_count": 14,
   "metadata": {},
   "outputs": [],
   "source": [
    "class CreateDataset(Dataset):\n",
    "    def __init__(self, data: list, label: list):\n",
    "        self.data = data\n",
    "        self.label = label\n",
    "\n",
    "    def __getitem__(self, index):\n",
    "        return torch.tensor(self.data[index]), torch.tensor(self.label[index], dtype=torch.float)\n",
    "\n",
    "    def __len__(self):\n",
    "        return len(self.label)"
   ]
  },
  {
   "cell_type": "code",
   "execution_count": 15,
   "metadata": {},
   "outputs": [],
   "source": [
    "d, l = [], []\n",
    "\n",
    "for i, j in train_raw:\n",
    "    d.append(i); l.append(j)\n",
    "\n",
    "train_ds = CreateDataset(d, l)"
   ]
  },
  {
   "cell_type": "code",
   "execution_count": 16,
   "metadata": {},
   "outputs": [
    {
     "data": {
      "text/plain": [
       "(tensor([3041, 1236, 4104, 1838, 2960, 2319, 1656,  147, 3578, 1887, 1567, 1093,\n",
       "         1093, 1093, 1093, 1093, 1093, 1093, 1093, 1093, 1093, 1093, 1093, 1093,\n",
       "         1093, 1093, 1093, 1093, 1093, 1093, 1093, 1093]),\n",
       " tensor([1., 0., 0., 0., 0., 0., 0., 0., 0., 0., 0., 0.]))"
      ]
     },
     "execution_count": 16,
     "metadata": {},
     "output_type": "execute_result"
    }
   ],
   "source": [
    "train_ds[1]"
   ]
  },
  {
   "cell_type": "code",
   "execution_count": 17,
   "metadata": {},
   "outputs": [],
   "source": [
    "train_dl = DataLoader(train_ds, batch_size=8, shuffle=True)"
   ]
  },
  {
   "cell_type": "code",
   "execution_count": 18,
   "metadata": {},
   "outputs": [],
   "source": [
    "class Model(nn.Module):\n",
    "    def __init__(self) -> None:\n",
    "        super().__init__()\n",
    "        self.embedding = nn.Embedding(data.get(\"token_len\"), 64)\n",
    "        self.lstm = nn.LSTM(input_size=64, hidden_size=256, num_layers=4, dropout=0.5, batch_first=True, bidirectional=True)\n",
    "        self.linear = nn.Linear(16384, 12)\n",
    "\n",
    "    def forward(self, x: torch.Tensor):\n",
    "        x = self.embedding(x)\n",
    "        x, _ = self.lstm(x)\n",
    "\n",
    "        x = x.reshape(x.size()[0], -1)\n",
    "\n",
    "        x = self.linear(x)\n",
    "\n",
    "        return x"
   ]
  },
  {
   "cell_type": "code",
   "execution_count": 19,
   "metadata": {},
   "outputs": [],
   "source": [
    "model = Model().to(device=device)"
   ]
  },
  {
   "cell_type": "code",
   "execution_count": 20,
   "metadata": {},
   "outputs": [],
   "source": [
    "epochs = 15\n",
    "optimizer = optim.SGD(model.parameters(), lr=0.1)\n",
    "loss = nn.CrossEntropyLoss()"
   ]
  },
  {
   "cell_type": "code",
   "execution_count": 21,
   "metadata": {},
   "outputs": [],
   "source": [
    "# Traning history data.\n",
    "train_accuracy_h = []\n",
    "train_loss_h = []\n",
    "validate_accuracy_h = []"
   ]
  },
  {
   "cell_type": "code",
   "execution_count": 22,
   "metadata": {},
   "outputs": [],
   "source": [
    "def train(epochs: int, model: nn.Module, optimizer: optim.Optimizer, loss: nn.CrossEntropyLoss, dataloader: DataLoader):\n",
    "    for epoch in range(epochs):\n",
    "        # Set model to training mode.\n",
    "        model.train()\n",
    "\n",
    "        train_accuracy = 0\n",
    "        train_loss = 0\n",
    "        train_total = 0\n",
    "        train_process = 0\n",
    "        train_time = datetime.now().timestamp()\n",
    "\n",
    "        for texts, labels in dataloader:\n",
    "            texts: torch.Tensor\n",
    "            labels: torch.Tensor\n",
    "\n",
    "            texts = texts.to(device)\n",
    "            labels = labels.to(device)\n",
    "\n",
    "            outputs: torch.Tensor = model(texts)\n",
    "            losses: torch.Tensor = loss(outputs, labels)\n",
    "\n",
    "            # optimizer.zero_grad()\n",
    "            for param in model.parameters(): param.grad = None\n",
    "\n",
    "            # Backpropagation.\n",
    "            losses.backward()\n",
    "\n",
    "            # Update parameters.\n",
    "            optimizer.step()\n",
    "\n",
    "            _, predict = torch.max(outputs, 1)\n",
    "            train_accuracy += sum([labels[i][predict[i]] == 1 for i in range(len(predict))])\n",
    "            train_loss += losses.item()\n",
    "            train_total += labels.shape[0]\n",
    "            train_process += 1\n",
    "\n",
    "            print(\n",
    "                f\"{datetime.now().strftime('%Y/%m/%d %H:%M:%S')} \"\n",
    "                f\"Epoch: {epoch:03d} \"\n",
    "                f\"Time: {datetime.now().timestamp() - train_time:.2f} \"\n",
    "                f\"Process: {train_process / len(dataloader) * 100:.2f}% \"\n",
    "                f\"Accuracy: {train_accuracy / train_total * 100:.2f}% \"\n",
    "                f\"Loss: {train_loss:.3f}\",\n",
    "                end=\"\\r\"\n",
    "            )\n",
    "\n",
    "        train_accuracy_h.append(train_accuracy / train_total * 100)\n",
    "        train_loss_h.append(train_loss)\n",
    "\n",
    "        print()\n",
    "\n",
    "        # Early stop.\n",
    "        if train_accuracy / train_total > 99.5:\n",
    "            print(\"Early stopped.\")\n",
    "            break"
   ]
  },
  {
   "cell_type": "code",
   "execution_count": 23,
   "metadata": {},
   "outputs": [
    {
     "name": "stdout",
     "output_type": "stream",
     "text": [
      "2024/03/29 14:03:45 Epoch: 000 Time: 12.14 Process: 100.00% Accuracy: 15.34% Loss: 1212.813\n",
      "2024/03/29 14:03:57 Epoch: 001 Time: 11.54 Process: 100.00% Accuracy: 16.18% Loss: 1198.745\n",
      "2024/03/29 14:04:08 Epoch: 002 Time: 10.67 Process: 100.00% Accuracy: 19.51% Loss: 1169.402\n",
      "2024/03/29 14:04:18 Epoch: 003 Time: 10.45 Process: 100.00% Accuracy: 27.13% Loss: 1099.519\n",
      "2024/03/29 14:04:29 Epoch: 004 Time: 10.84 Process: 100.00% Accuracy: 35.34% Loss: 991.260\n",
      "2024/03/29 14:04:40 Epoch: 005 Time: 10.56 Process: 100.00% Accuracy: 45.00% Loss: 862.534\n",
      "2024/03/29 14:04:50 Epoch: 006 Time: 10.42 Process: 100.00% Accuracy: 56.04% Loss: 705.571\n",
      "2024/03/29 14:05:00 Epoch: 007 Time: 10.44 Process: 100.00% Accuracy: 66.49% Loss: 542.832\n",
      "2024/03/29 14:05:11 Epoch: 008 Time: 10.45 Process: 100.00% Accuracy: 77.79% Loss: 374.610\n",
      "2024/03/29 14:05:21 Epoch: 009 Time: 10.52 Process: 100.00% Accuracy: 85.41% Loss: 241.960\n",
      "2024/03/29 14:05:32 Epoch: 010 Time: 10.67 Process: 100.00% Accuracy: 89.45% Loss: 170.267\n",
      "2024/03/29 14:05:44 Epoch: 011 Time: 12.42 Process: 100.00% Accuracy: 95.16% Loss: 81.656\n",
      "2024/03/29 14:05:58 Epoch: 012 Time: 13.11 Process: 100.00% Accuracy: 97.12% Loss: 47.166\n",
      "2024/03/29 14:06:11 Epoch: 013 Time: 13.88 Process: 100.00% Accuracy: 95.90% Loss: 63.072\n",
      "2024/03/29 14:06:24 Epoch: 014 Time: 12.57 Process: 100.00% Accuracy: 97.34% Loss: 41.767\n"
     ]
    }
   ],
   "source": [
    "train(epochs=epochs, model=model, optimizer=optimizer, loss=loss, dataloader=train_dl)"
   ]
  },
  {
   "cell_type": "code",
   "execution_count": 24,
   "metadata": {},
   "outputs": [
    {
     "name": "stdout",
     "output_type": "stream",
     "text": [
      "tensor([[4182, 4090, 1952, 1406, 3884, 1033, 1236,  354,  585, 3903, 3578, 4112,\n",
      "          436, 2207, 2747, 3489, 2719,   68, 1465,  436, 4309,  841, 3820, 2001,\n",
      "          436, 2534,  875,  500, 1033, 4238, 3998, 2019],\n",
      "        [2627, 1690, 4022, 2488,  436, 1616, 2409, 1414,  223, 1567, 1093, 1093,\n",
      "         1093, 1093, 1093, 1093, 1093, 1093, 1093, 1093, 1093, 1093, 1093, 1093,\n",
      "         1093, 1093, 1093, 1093, 1093, 1093, 1093, 1093],\n",
      "        [1236, 1827,  929, 3578,  859,  153,  436,   79,  537,  436, 1391,  996,\n",
      "         3578, 1831, 3489, 3879, 3578, 1189, 1677,  436, 4309, 3006, 1765,  436,\n",
      "          168, 3012, 3396,  436, 1391, 2731,  687, 2203],\n",
      "        [2719,  556, 2300, 4256,  436, 2704, 3578, 3547,  267,  986, 1567, 1093,\n",
      "         1093, 1093, 1093, 1093, 1093, 1093, 1093, 1093, 1093, 1093, 1093, 1093,\n",
      "         1093, 1093, 1093, 1093, 1093, 1093, 1093, 1093],\n",
      "        [3928, 3959, 3578, 3361,  436, 1779, 4112, 2525, 3578, 1459, 2281,  561,\n",
      "         1391,  886, 3578,  688, 1567, 1093, 1093, 1093, 1093, 1093, 1093, 1093,\n",
      "         1093, 1093, 1093, 1093, 1093, 1093, 1093, 1093],\n",
      "        [1179, 1156, 2741, 3578,  193, 3489,  266, 1567,  436, 4121, 4216,  422,\n",
      "          436, 1852, 4051, 3578, 3466, 1093, 1093, 1093, 1093, 1093, 1093, 1093,\n",
      "         1093, 1093, 1093, 1093, 1093, 1093, 1093, 1093],\n",
      "        [1569,  875, 2671, 2719, 2863, 3578,  497, 4256,  436, 3696, 1353, 1725,\n",
      "         2448, 1567,  436, 3915, 2719,  612,  745,  436, 1307,  844, 1093, 1093,\n",
      "         1093, 1093, 1093, 1093, 1093, 1093, 1093, 1093],\n",
      "        [3578, 1080, 1311, 3124,  436, 4091, 3578,  436, 1690, 3578, 3808,  120,\n",
      "          436, 1320,  891, 1725,  154, 3361, 3578, 1594,  436, 1108, 3032, 1684,\n",
      "         3578, 3483, 3322, 1567, 1093, 1093, 1093, 1093]])\n",
      "tensor([[ -5.6499, -15.8643,  -7.7401,  -7.3795,   3.1645,  18.8565,   0.6710,\n",
      "           1.6192,  -1.3849,   9.6506,  -1.3192,   5.6261],\n",
      "        [ -3.0974,  10.3960,  -3.5266,   5.0033,  -0.6436,  -1.4697,   0.8378,\n",
      "          -4.7513,   0.2943,  -0.6979,  -1.1947,  -1.1582],\n",
      "        [ 15.0460,  -2.7459,  -1.4686,  -3.1664,  -9.5594,  -0.2720,  -2.1829,\n",
      "           1.9204,   2.2895,   5.1028,   4.3576,  -9.8609],\n",
      "        [  2.8342,  -0.2785,  -3.0120,  11.8505,  -3.3726,  -2.8375,   4.3855,\n",
      "           1.1545,   0.9543,  -4.0950,  -3.0780,  -4.3903],\n",
      "        [ -8.3500,  -6.2132,  20.2912,  -5.4721,   2.2399,  -5.7068,  -7.3210,\n",
      "          -0.9373,   4.7475,   1.2179,   7.0646,  -1.2474],\n",
      "        [  1.0790,  -1.3816,   0.4233,  17.7334,  -3.5575,  -2.1997,   7.4197,\n",
      "          -9.1370,  -4.1453,  -7.0622,   1.2836,  -0.6451],\n",
      "        [  4.1787,  -7.8658,  -2.5046,  11.8895,  -4.2396,   0.2120,   2.9217,\n",
      "          -1.6254,   6.3329,  -0.6446,  -1.0628,  -7.5330],\n",
      "        [  0.9803,  -7.7609,   0.7744,  18.0746,  -6.8826,   2.3825,   6.5835,\n",
      "          -9.7090,   4.7637,  -6.8022,   1.6159,  -3.9010]], device='cuda:0',\n",
      "       grad_fn=<AddmmBackward0>)\n",
      "tensor([[0., 0., 0., 0., 0., 1., 0., 0., 0., 0., 0., 0.],\n",
      "        [0., 1., 0., 0., 0., 0., 0., 0., 0., 0., 0., 0.],\n",
      "        [1., 0., 0., 0., 0., 0., 0., 0., 0., 0., 0., 0.],\n",
      "        [0., 0., 0., 1., 0., 0., 0., 0., 0., 0., 0., 0.],\n",
      "        [0., 0., 1., 0., 0., 0., 0., 0., 0., 0., 0., 0.],\n",
      "        [0., 0., 0., 1., 0., 0., 0., 0., 0., 0., 0., 0.],\n",
      "        [0., 0., 0., 1., 0., 0., 0., 0., 0., 0., 0., 0.],\n",
      "        [0., 0., 0., 1., 0., 0., 0., 0., 0., 0., 0., 0.]])\n"
     ]
    }
   ],
   "source": [
    "for i, j in train_dl:\n",
    "    print(i)\n",
    "    print(model(i.to(device)))\n",
    "    print(j)\n",
    "    break"
   ]
  },
  {
   "cell_type": "code",
   "execution_count": 25,
   "metadata": {},
   "outputs": [
    {
     "name": "stdout",
     "output_type": "stream",
     "text": [
      "[3496, 1093, 3973, 1093, 177, 1093, 2151, 1093, 1093, 1093, 1093, 1093, 1093, 1093, 1093, 1093, 1093, 1093, 1093, 1093, 1093, 1093, 1093, 1093, 1093, 1093, 1093, 1093, 1093, 1093, 1093, 1093]\n"
     ]
    }
   ],
   "source": [
    "test = \"敏感;同情心;想像力;迷惘;柔軟\"\n",
    "temp = jieba.lcut(test)\n",
    "temp = temp + [\"<PAD>\"] * (32 - len(temp))\n",
    "test = [data.w2i[x] if x in data.w2i else data.w2i[\"<PAD>\"] for x in temp][:32]\n",
    "print(test)"
   ]
  },
  {
   "cell_type": "code",
   "execution_count": 26,
   "metadata": {},
   "outputs": [],
   "source": [
    "test = torch.tensor([test])"
   ]
  },
  {
   "cell_type": "code",
   "execution_count": 27,
   "metadata": {},
   "outputs": [
    {
     "data": {
      "text/plain": [
       "Model(\n",
       "  (embedding): Embedding(4328, 64)\n",
       "  (lstm): LSTM(64, 256, num_layers=4, batch_first=True, dropout=0.5, bidirectional=True)\n",
       "  (linear): Linear(in_features=16384, out_features=12, bias=True)\n",
       ")"
      ]
     },
     "execution_count": 27,
     "metadata": {},
     "output_type": "execute_result"
    }
   ],
   "source": [
    "model.eval()"
   ]
  },
  {
   "cell_type": "code",
   "execution_count": 28,
   "metadata": {},
   "outputs": [
    {
     "name": "stdout",
     "output_type": "stream",
     "text": [
      "[1.3177989721298218, 0.24588723480701447, -1.733007788658142, 8.486858367919922, -2.4385716915130615, 1.1994291543960571, 1.1986534595489502, 0.2640247642993927, -3.948490858078003, -1.0473909378051758, -3.6633853912353516, 0.27099108695983887]\n"
     ]
    }
   ],
   "source": [
    "result = model(test.to(device)).tolist()[0]\n",
    "print(result)"
   ]
  },
  {
   "cell_type": "code",
   "execution_count": 29,
   "metadata": {},
   "outputs": [
    {
     "name": "stdout",
     "output_type": "stream",
     "text": [
      "[0.423, 0.337, 0.178, 1.0, 0.121, 0.414, 0.414, 0.339, 0.0, 0.233, 0.023, 0.339]\n"
     ]
    }
   ],
   "source": [
    "# Normolization\n",
    "result = [x - min(result) for x in result]\n",
    "result = [x / max(result) for x in result]\n",
    "result = [round(x, 3) for x in result]\n",
    "\n",
    "print(result)"
   ]
  },
  {
   "cell_type": "code",
   "execution_count": 30,
   "metadata": {},
   "outputs": [
    {
     "data": {
      "text/plain": [
       "'巨蠍'"
      ]
     },
     "execution_count": 30,
     "metadata": {},
     "output_type": "execute_result"
    }
   ],
   "source": [
    "classes[int(torch.argmax(torch.tensor(result)))]"
   ]
  },
  {
   "cell_type": "code",
   "execution_count": 31,
   "metadata": {},
   "outputs": [
    {
     "data": {
      "text/plain": [
       "{0: '牡羊',\n",
       " 1: '金牛',\n",
       " 2: '雙子',\n",
       " 3: '巨蠍',\n",
       " 4: '獅子',\n",
       " 5: '處女',\n",
       " 6: '天秤',\n",
       " 7: '天蠍',\n",
       " 8: '射手',\n",
       " 9: '魔羯',\n",
       " 10: '水瓶',\n",
       " 11: '雙魚'}"
      ]
     },
     "execution_count": 31,
     "metadata": {},
     "output_type": "execute_result"
    }
   ],
   "source": [
    "classes"
   ]
  },
  {
   "cell_type": "code",
   "execution_count": 32,
   "metadata": {},
   "outputs": [],
   "source": [
    "import matplotlib.pyplot as plt\n",
    "import numpy as np"
   ]
  },
  {
   "cell_type": "code",
   "execution_count": 33,
   "metadata": {},
   "outputs": [
    {
     "data": {
      "image/png": "[encoded data removed]",
      "text/plain": [
       "<Figure size 500x500 with 1 Axes>"
      ]
     },
     "metadata": {},
     "output_type": "display_data"
    }
   ],
   "source": [
    "angles_A = np.linspace(start=0, stop=2*np.pi, num=len(result)+1, endpoint=True)\n",
    "values_A = np.concatenate((result, [result[0]]))\n",
    "\n",
    "fig, ax = plt.subplots(1, 1, figsize=(5, 5), subplot_kw={'projection': 'polar'})\n",
    "ax.plot(angles_A, values_A, 'o-', color=\"blue\", label=\"A\")\n",
    "\n",
    "ax.fill(angles_A, values_A, alpha=0.3, color=\"blue\")\n",
    "ax.set_thetagrids(angles_A[:-1] * 180 / np.pi, range(12), fontsize=15)\n",
    "ax.set_theta_zero_location('N')"
   ]
  },
  {
   "cell_type": "code",
   "execution_count": 34,
   "metadata": {},
   "outputs": [
    {
     "name": "stderr",
     "output_type": "stream",
     "text": [
      "c:\\Users\\User\\anaconda3\\envs\\pytorch\\lib\\site-packages\\torch\\onnx\\symbolic_opset9.py:4315: UserWarning: Exporting a model to ONNX with a batch_size other than 1, with a variable length with LSTM can cause an error when running the ONNX model with a different batch size. Make sure to save the model with a batch size of 1, or define the initial states (h0/c0) as inputs of the model. \n",
      "  warnings.warn(\n",
      "c:\\Users\\User\\anaconda3\\envs\\pytorch\\lib\\site-packages\\torch\\onnx\\_internal\\jit_utils.py:258: UserWarning: The shape inference of prim::Constant type is missing, so it may result in wrong shape inference for the exported graph. Please consider adding it in symbolic function. (Triggered internally at C:\\cb\\pytorch_1000000000000\\work\\torch\\csrc\\jit\\passes\\onnx\\shape_type_inference.cpp:1888.)\n",
      "  _C._jit_pass_onnx_node_shape_type_inference(node, params_dict, opset_version)\n",
      "c:\\Users\\User\\anaconda3\\envs\\pytorch\\lib\\site-packages\\torch\\onnx\\utils.py:687: UserWarning: The shape inference of prim::Constant type is missing, so it may result in wrong shape inference for the exported graph. Please consider adding it in symbolic function. (Triggered internally at C:\\cb\\pytorch_1000000000000\\work\\torch\\csrc\\jit\\passes\\onnx\\shape_type_inference.cpp:1888.)\n",
      "  _C._jit_pass_onnx_graph_shape_type_inference(\n",
      "c:\\Users\\User\\anaconda3\\envs\\pytorch\\lib\\site-packages\\torch\\onnx\\utils.py:1178: UserWarning: The shape inference of prim::Constant type is missing, so it may result in wrong shape inference for the exported graph. Please consider adding it in symbolic function. (Triggered internally at C:\\cb\\pytorch_1000000000000\\work\\torch\\csrc\\jit\\passes\\onnx\\shape_type_inference.cpp:1888.)\n",
      "  _C._jit_pass_onnx_graph_shape_type_inference(\n"
     ]
    }
   ],
   "source": [
    "torch.onnx.export(model, test.to(device=device), 'constellator.onnx')"
   ]
  },
  {
   "cell_type": "code",
   "execution_count": 35,
   "metadata": {},
   "outputs": [
    {
     "name": "stdout",
     "output_type": "stream",
     "text": [
      "graph torch_jit (\n",
      "  %input.1[INT64, 1x32]\n",
      ") initializers (\n",
      "  %embedding.weight[FLOAT, 4328x64]\n",
      "  %linear.weight[FLOAT, 12x16384]\n",
      "  %linear.bias[FLOAT, 12]\n",
      "  %onnx::LSTM_718[FLOAT, 2x2048]\n",
      "  %onnx::LSTM_719[FLOAT, 2x1024x64]\n",
      "  %onnx::LSTM_720[FLOAT, 2x1024x256]\n",
      "  %onnx::LSTM_765[FLOAT, 2x2048]\n",
      "  %onnx::LSTM_766[FLOAT, 2x1024x512]\n",
      "  %onnx::LSTM_767[FLOAT, 2x1024x256]\n",
      "  %onnx::LSTM_812[FLOAT, 2x2048]\n",
      "  %onnx::LSTM_813[FLOAT, 2x1024x512]\n",
      "  %onnx::LSTM_814[FLOAT, 2x1024x256]\n",
      "  %onnx::LSTM_859[FLOAT, 2x2048]\n",
      "  %onnx::LSTM_860[FLOAT, 2x1024x512]\n",
      "  %onnx::LSTM_861[FLOAT, 2x1024x256]\n",
      ") {\n",
      "  %/embedding/Gather_output_0 = Gather(%embedding.weight, %input.1)\n",
      "  %/lstm/Transpose_output_0 = Transpose[perm = [1, 0, 2]](%/embedding/Gather_output_0)\n",
      "  %/lstm/Constant_output_0 = Constant[value = <Tensor>]()\n",
      "  %/lstm/Constant_1_output_0 = Constant[value = <Tensor>]()\n",
      "  %/lstm/Shape_output_0 = Shape(%/lstm/Transpose_output_0)\n",
      "  %/lstm/Constant_2_output_0 = Constant[value = <Scalar Tensor []>]()\n",
      "  %/lstm/Gather_output_0 = Gather(%/lstm/Shape_output_0, %/lstm/Constant_2_output_0)\n",
      "  %onnx::Unsqueeze_173 = Constant[value = <Tensor>]()\n",
      "  %onnx::Concat_174 = Unsqueeze(%/lstm/Gather_output_0, %onnx::Unsqueeze_173)\n",
      "  %/lstm/Constant_3_output_0 = Constant[value = <Tensor>]()\n",
      "  %onnx::Concat_723 = Constant[value = <Tensor>]()\n",
      "  %/lstm/Concat_output_0 = Concat[axis = 0](%onnx::Concat_723, %onnx::Concat_174, %/lstm/Constant_3_output_0)\n",
      "  %/lstm/Expand_output_0 = Expand(%/lstm/Constant_output_0, %/lstm/Concat_output_0)\n",
      "  %/lstm/Shape_1_output_0 = Shape(%/lstm/Transpose_output_0)\n",
      "  %/lstm/Constant_4_output_0 = Constant[value = <Scalar Tensor []>]()\n",
      "  %/lstm/Gather_1_output_0 = Gather(%/lstm/Shape_1_output_0, %/lstm/Constant_4_output_0)\n",
      "  %onnx::Unsqueeze_184 = Constant[value = <Tensor>]()\n",
      "  %onnx::Concat_185 = Unsqueeze(%/lstm/Gather_1_output_0, %onnx::Unsqueeze_184)\n",
      "  %/lstm/Constant_5_output_0 = Constant[value = <Tensor>]()\n",
      "  %onnx::Concat_724 = Constant[value = <Tensor>]()\n",
      "  %/lstm/Concat_1_output_0 = Concat[axis = 0](%onnx::Concat_724, %onnx::Concat_185, %/lstm/Constant_5_output_0)\n",
      "  %/lstm/Expand_1_output_0 = Expand(%/lstm/Constant_1_output_0, %/lstm/Concat_1_output_0)\n",
      "  %/lstm/LSTM_output_0, %/lstm/LSTM_output_1, %/lstm/LSTM_output_2 = LSTM[direction = 'bidirectional', hidden_size = 256](%/lstm/Transpose_output_0, %onnx::LSTM_719, %onnx::LSTM_720, %onnx::LSTM_718, %, %/lstm/Expand_output_0, %/lstm/Expand_1_output_0)\n",
      "  %/lstm/Transpose_1_output_0 = Transpose[perm = [0, 2, 1, 3]](%/lstm/LSTM_output_0)\n",
      "  %/lstm/Constant_6_output_0 = Constant[value = <Tensor>]()\n",
      "  %/lstm/Reshape_output_0 = Reshape[allowzero = 0](%/lstm/Transpose_1_output_0, %/lstm/Constant_6_output_0)\n",
      "  %/lstm/Constant_7_output_0 = Constant[value = <Tensor>]()\n",
      "  %/lstm/Constant_8_output_0 = Constant[value = <Tensor>]()\n",
      "  %/lstm/Shape_2_output_0 = Shape(%/lstm/Reshape_output_0)\n",
      "  %/lstm/Constant_9_output_0 = Constant[value = <Scalar Tensor []>]()\n",
      "  %/lstm/Gather_2_output_0 = Gather(%/lstm/Shape_2_output_0, %/lstm/Constant_9_output_0)\n",
      "  %onnx::Unsqueeze_330 = Constant[value = <Tensor>]()\n",
      "  %onnx::Concat_331 = Unsqueeze(%/lstm/Gather_2_output_0, %onnx::Unsqueeze_330)\n",
      "  %/lstm/Constant_10_output_0 = Constant[value = <Tensor>]()\n",
      "  %onnx::Concat_770 = Constant[value = <Tensor>]()\n",
      "  %/lstm/Concat_2_output_0 = Concat[axis = 0](%onnx::Concat_770, %onnx::Concat_331, %/lstm/Constant_10_output_0)\n",
      "  %/lstm/Expand_2_output_0 = Expand(%/lstm/Constant_7_output_0, %/lstm/Concat_2_output_0)\n",
      "  %/lstm/Shape_3_output_0 = Shape(%/lstm/Reshape_output_0)\n",
      "  %/lstm/Constant_11_output_0 = Constant[value = <Scalar Tensor []>]()\n",
      "  %/lstm/Gather_3_output_0 = Gather(%/lstm/Shape_3_output_0, %/lstm/Constant_11_output_0)\n",
      "  %onnx::Unsqueeze_341 = Constant[value = <Tensor>]()\n",
      "  %onnx::Concat_342 = Unsqueeze(%/lstm/Gather_3_output_0, %onnx::Unsqueeze_341)\n",
      "  %/lstm/Constant_12_output_0 = Constant[value = <Tensor>]()\n",
      "  %onnx::Concat_771 = Constant[value = <Tensor>]()\n",
      "  %/lstm/Concat_3_output_0 = Concat[axis = 0](%onnx::Concat_771, %onnx::Concat_342, %/lstm/Constant_12_output_0)\n",
      "  %/lstm/Expand_3_output_0 = Expand(%/lstm/Constant_8_output_0, %/lstm/Concat_3_output_0)\n",
      "  %/lstm/LSTM_1_output_0, %/lstm/LSTM_1_output_1, %/lstm/LSTM_1_output_2 = LSTM[direction = 'bidirectional', hidden_size = 256](%/lstm/Reshape_output_0, %onnx::LSTM_766, %onnx::LSTM_767, %onnx::LSTM_765, %, %/lstm/Expand_2_output_0, %/lstm/Expand_3_output_0)\n",
      "  %/lstm/Transpose_2_output_0 = Transpose[perm = [0, 2, 1, 3]](%/lstm/LSTM_1_output_0)\n",
      "  %/lstm/Constant_13_output_0 = Constant[value = <Tensor>]()\n",
      "  %/lstm/Reshape_1_output_0 = Reshape[allowzero = 0](%/lstm/Transpose_2_output_0, %/lstm/Constant_13_output_0)\n",
      "  %/lstm/Constant_14_output_0 = Constant[value = <Tensor>]()\n",
      "  %/lstm/Constant_15_output_0 = Constant[value = <Tensor>]()\n",
      "  %/lstm/Shape_4_output_0 = Shape(%/lstm/Reshape_1_output_0)\n",
      "  %/lstm/Constant_16_output_0 = Constant[value = <Scalar Tensor []>]()\n",
      "  %/lstm/Gather_4_output_0 = Gather(%/lstm/Shape_4_output_0, %/lstm/Constant_16_output_0)\n",
      "  %onnx::Unsqueeze_487 = Constant[value = <Tensor>]()\n",
      "  %onnx::Concat_488 = Unsqueeze(%/lstm/Gather_4_output_0, %onnx::Unsqueeze_487)\n",
      "  %/lstm/Constant_17_output_0 = Constant[value = <Tensor>]()\n",
      "  %onnx::Concat_817 = Constant[value = <Tensor>]()\n",
      "  %/lstm/Concat_4_output_0 = Concat[axis = 0](%onnx::Concat_817, %onnx::Concat_488, %/lstm/Constant_17_output_0)\n",
      "  %/lstm/Expand_4_output_0 = Expand(%/lstm/Constant_14_output_0, %/lstm/Concat_4_output_0)\n",
      "  %/lstm/Shape_5_output_0 = Shape(%/lstm/Reshape_1_output_0)\n",
      "  %/lstm/Constant_18_output_0 = Constant[value = <Scalar Tensor []>]()\n",
      "  %/lstm/Gather_5_output_0 = Gather(%/lstm/Shape_5_output_0, %/lstm/Constant_18_output_0)\n",
      "  %onnx::Unsqueeze_498 = Constant[value = <Tensor>]()\n",
      "  %onnx::Concat_499 = Unsqueeze(%/lstm/Gather_5_output_0, %onnx::Unsqueeze_498)\n",
      "  %/lstm/Constant_19_output_0 = Constant[value = <Tensor>]()\n",
      "  %onnx::Concat_818 = Constant[value = <Tensor>]()\n",
      "  %/lstm/Concat_5_output_0 = Concat[axis = 0](%onnx::Concat_818, %onnx::Concat_499, %/lstm/Constant_19_output_0)\n",
      "  %/lstm/Expand_5_output_0 = Expand(%/lstm/Constant_15_output_0, %/lstm/Concat_5_output_0)\n",
      "  %/lstm/LSTM_2_output_0, %/lstm/LSTM_2_output_1, %/lstm/LSTM_2_output_2 = LSTM[direction = 'bidirectional', hidden_size = 256](%/lstm/Reshape_1_output_0, %onnx::LSTM_813, %onnx::LSTM_814, %onnx::LSTM_812, %, %/lstm/Expand_4_output_0, %/lstm/Expand_5_output_0)\n",
      "  %/lstm/Transpose_3_output_0 = Transpose[perm = [0, 2, 1, 3]](%/lstm/LSTM_2_output_0)\n",
      "  %/lstm/Constant_20_output_0 = Constant[value = <Tensor>]()\n",
      "  %/lstm/Reshape_2_output_0 = Reshape[allowzero = 0](%/lstm/Transpose_3_output_0, %/lstm/Constant_20_output_0)\n",
      "  %/lstm/Constant_21_output_0 = Constant[value = <Tensor>]()\n",
      "  %/lstm/Constant_22_output_0 = Constant[value = <Tensor>]()\n",
      "  %/lstm/Shape_6_output_0 = Shape(%/lstm/Reshape_2_output_0)\n",
      "  %/lstm/Constant_23_output_0 = Constant[value = <Scalar Tensor []>]()\n",
      "  %/lstm/Gather_6_output_0 = Gather(%/lstm/Shape_6_output_0, %/lstm/Constant_23_output_0)\n",
      "  %onnx::Unsqueeze_644 = Constant[value = <Tensor>]()\n",
      "  %onnx::Concat_645 = Unsqueeze(%/lstm/Gather_6_output_0, %onnx::Unsqueeze_644)\n",
      "  %/lstm/Constant_24_output_0 = Constant[value = <Tensor>]()\n",
      "  %onnx::Concat_864 = Constant[value = <Tensor>]()\n",
      "  %/lstm/Concat_6_output_0 = Concat[axis = 0](%onnx::Concat_864, %onnx::Concat_645, %/lstm/Constant_24_output_0)\n",
      "  %/lstm/Expand_6_output_0 = Expand(%/lstm/Constant_21_output_0, %/lstm/Concat_6_output_0)\n",
      "  %/lstm/Shape_7_output_0 = Shape(%/lstm/Reshape_2_output_0)\n",
      "  %/lstm/Constant_25_output_0 = Constant[value = <Scalar Tensor []>]()\n",
      "  %/lstm/Gather_7_output_0 = Gather(%/lstm/Shape_7_output_0, %/lstm/Constant_25_output_0)\n",
      "  %onnx::Unsqueeze_655 = Constant[value = <Tensor>]()\n",
      "  %onnx::Concat_656 = Unsqueeze(%/lstm/Gather_7_output_0, %onnx::Unsqueeze_655)\n",
      "  %/lstm/Constant_26_output_0 = Constant[value = <Tensor>]()\n",
      "  %onnx::Concat_865 = Constant[value = <Tensor>]()\n",
      "  %/lstm/Concat_7_output_0 = Concat[axis = 0](%onnx::Concat_865, %onnx::Concat_656, %/lstm/Constant_26_output_0)\n",
      "  %/lstm/Expand_7_output_0 = Expand(%/lstm/Constant_22_output_0, %/lstm/Concat_7_output_0)\n",
      "  %/lstm/LSTM_3_output_0, %/lstm/LSTM_3_output_1, %/lstm/LSTM_3_output_2 = LSTM[direction = 'bidirectional', hidden_size = 256](%/lstm/Reshape_2_output_0, %onnx::LSTM_860, %onnx::LSTM_861, %onnx::LSTM_859, %, %/lstm/Expand_6_output_0, %/lstm/Expand_7_output_0)\n",
      "  %/lstm/Transpose_4_output_0 = Transpose[perm = [0, 2, 1, 3]](%/lstm/LSTM_3_output_0)\n",
      "  %/lstm/Constant_27_output_0 = Constant[value = <Tensor>]()\n",
      "  %/lstm/Reshape_3_output_0 = Reshape[allowzero = 0](%/lstm/Transpose_4_output_0, %/lstm/Constant_27_output_0)\n",
      "  %/lstm/Transpose_5_output_0 = Transpose[perm = [1, 0, 2]](%/lstm/Reshape_3_output_0)\n",
      "  %/Constant_output_0 = Constant[value = <Tensor>]()\n",
      "  %/Reshape_output_0 = Reshape[allowzero = 0](%/lstm/Transpose_5_output_0, %/Constant_output_0)\n",
      "  %677 = Gemm[alpha = 1, beta = 1, transB = 1](%/Reshape_output_0, %linear.weight, %linear.bias)\n",
      "  return %677\n",
      "}\n"
     ]
    }
   ],
   "source": [
    "import onnx\n",
    "import onnx.helper\n",
    "\n",
    "model = onnx.load('./constellator.onnx')\n",
    "print(onnx.helper.printable_graph(model.graph))"
   ]
  },
  {
   "cell_type": "code",
   "execution_count": null,
   "metadata": {},
   "outputs": [],
   "source": []
  }
 ],
 "metadata": {
  "kernelspec": {
   "display_name": "pytorch",
   "language": "python",
   "name": "python3"
  },
  "language_info": {
   "codemirror_mode": {
    "name": "ipython",
    "version": 3
   },
   "file_extension": ".py",
   "mimetype": "text/x-python",
   "name": "python",
   "nbconvert_exporter": "python",
   "pygments_lexer": "ipython3",
   "version": "3.10.13"
  }
 },
 "nbformat": 4,
 "nbformat_minor": 2
}
